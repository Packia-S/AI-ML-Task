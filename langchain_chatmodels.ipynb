{
 "cells": [
  {
   "cell_type": "code",
   "execution_count": 1,
   "id": "7cff122a",
   "metadata": {},
   "outputs": [],
   "source": [
    "from langchain_cohere import ChatCohere\n",
    "from langchain_core.messages import SystemMessage, HumanMessage ,AIMessage"
   ]
  },
  {
   "cell_type": "code",
   "execution_count": 2,
   "id": "120189fe",
   "metadata": {},
   "outputs": [],
   "source": [
    "from pydantic_settings import BaseSettings\n",
    "\n",
    "\n",
    "class Settings(BaseSettings):\n",
    "    cohere_api_key: str\n",
    "    \n",
    "    class Config:\n",
    "        env_file = \".env\"\n",
    "        extra = \"ignore\"\n",
    "        \n",
    "        \n",
    "settings = Settings()"
   ]
  },
  {
   "cell_type": "code",
   "execution_count": 3,
   "id": "95006668",
   "metadata": {},
   "outputs": [],
   "source": [
    "llm = ChatCohere(cohere_api_key = settings.cohere_api_key)"
   ]
  },
  {
   "cell_type": "code",
   "execution_count": 4,
   "id": "0a0d271f",
   "metadata": {},
   "outputs": [
    {
     "data": {
      "text/plain": [
       "'The square root of 81 is 9. This is because 9 multiplied by itself (9 * 9) equals 81. In mathematical notation, this is expressed as √81 = 9.'"
      ]
     },
     "execution_count": 4,
     "metadata": {},
     "output_type": "execute_result"
    }
   ],
   "source": [
    "result = llm.invoke(\"what is the square root of 81\")\n",
    "result.content"
   ]
  },
  {
   "cell_type": "markdown",
   "id": "4865beef",
   "metadata": {},
   "source": [
    "# passed conversation history"
   ]
  },
  {
   "cell_type": "code",
   "execution_count": 5,
   "id": "b944a98c",
   "metadata": {},
   "outputs": [
    {
     "name": "stdout",
     "output_type": "stream",
     "text": [
      "Here's a quick tip to create engaging Twitter posts:\n",
      "\n",
      "**Ask a thought-provoking question or spark a conversation.**\n",
      "\n",
      "Instead of just stating facts or sharing links, phrase your tweet as a question or opinion that invites responses. This encourages engagement, fosters discussions, and helps you connect with your audience.\n"
     ]
    }
   ],
   "source": [
    "messages = [\n",
    "    SystemMessage(\"you are an expert in social media content strategy\"),\n",
    "    HumanMessage(\"Give a short tip to create engaging post on twitter\")\n",
    "]\n",
    "result = llm.invoke(messages)\n",
    "print(result.content)"
   ]
  },
  {
   "cell_type": "code",
   "execution_count": 6,
   "id": "11797ebc",
   "metadata": {},
   "outputs": [],
   "source": [
    "chat_history = []  # use a list to store message\n",
    "\n",
    "system_message = SystemMessage(content = \"you are a helpful assistant.\")\n",
    "chat_history.append(system_message)\n",
    "\n",
    "while True:\n",
    "    query =  input(\"😀Human: \")\n",
    "    if query.lower() == \"exit\":\n",
    "        break\n",
    "    chat_history.append(HumanMessage(content = query))  # add human message to chathistory\n",
    "    \n",
    "    result = llm.invoke(chat_history)\n",
    "    \n",
    "    # AI response\n",
    "    response = result.content\n",
    "    chat_history.append(AIMessage(content=response))   # # add AI message to chathistory\n",
    "    print(f\"🤖AI: {response}\")\n",
    "    \n",
    "    #print(chat_history)     # Message history\n",
    "    "
   ]
  },
  {
   "cell_type": "code",
   "execution_count": null,
   "id": "39857cb0",
   "metadata": {},
   "outputs": [],
   "source": []
  }
 ],
 "metadata": {
  "kernelspec": {
   "display_name": "my_ai_env",
   "language": "python",
   "name": "python3"
  },
  "language_info": {
   "codemirror_mode": {
    "name": "ipython",
    "version": 3
   },
   "file_extension": ".py",
   "mimetype": "text/x-python",
   "name": "python",
   "nbconvert_exporter": "python",
   "pygments_lexer": "ipython3",
   "version": "3.13.5"
  }
 },
 "nbformat": 4,
 "nbformat_minor": 5
}
