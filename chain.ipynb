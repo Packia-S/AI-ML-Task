{
 "cells": [
  {
   "cell_type": "code",
   "execution_count": 2,
   "id": "d1c0589c",
   "metadata": {},
   "outputs": [],
   "source": [
    "from langchain_cohere import ChatCohere\n",
    "from langchain_core.prompts import ChatPromptTemplate\n",
    "from langchain_core.output_parsers import StrOutputParser, JsonOutputParser, XMLOutputParser\n",
    "from langchain.schema.runnable import RunnableLambda, RunnableSequence, RunnableParallel"
   ]
  },
  {
   "cell_type": "code",
   "execution_count": 3,
   "id": "04d6affc",
   "metadata": {},
   "outputs": [],
   "source": [
    "from pydantic_settings import BaseSettings\n",
    "\n",
    "class Settings(BaseSettings):\n",
    "    cohere_api_key: str\n",
    "    \n",
    "    class Config:\n",
    "        env_file = \".env\"\n",
    "        extra = \"ignore\"\n",
    "        \n",
    "settings = Settings()"
   ]
  },
  {
   "cell_type": "code",
   "execution_count": 4,
   "id": "6dd40ca3",
   "metadata": {},
   "outputs": [
    {
     "data": {
      "text/plain": [
       "ChatCohere(client=<cohere.client.Client object at 0x0000023D2B892F90>, async_client=<cohere.client.AsyncClient object at 0x0000023D2CEB7E00>, model='command-a-03-2025', cohere_api_key=SecretStr('**********'))"
      ]
     },
     "execution_count": 4,
     "metadata": {},
     "output_type": "execute_result"
    }
   ],
   "source": [
    "llm = ChatCohere(cohere_api_key = settings.cohere_api_key)\n",
    "llm"
   ]
  },
  {
   "cell_type": "markdown",
   "id": "94ec6667",
   "metadata": {},
   "source": [
    "# Example 1"
   ]
  },
  {
   "cell_type": "code",
   "execution_count": 65,
   "id": "50ceb7b5",
   "metadata": {},
   "outputs": [
    {
     "data": {
      "text/plain": [
       "ChatPromptTemplate(input_variables=['fact_count', 'topic'], input_types={}, partial_variables={}, messages=[SystemMessagePromptTemplate(prompt=PromptTemplate(input_variables=['topic'], input_types={}, partial_variables={}, template='You are a comedian. Talk about {topic}'), additional_kwargs={}), HumanMessagePromptTemplate(prompt=PromptTemplate(input_variables=['fact_count'], input_types={}, partial_variables={}, template='Tell me {fact_count} of this topic'), additional_kwargs={})])"
      ]
     },
     "execution_count": 65,
     "metadata": {},
     "output_type": "execute_result"
    }
   ],
   "source": [
    "prompt_template = ChatPromptTemplate(\n",
    "    [\n",
    "        (\"system\", \"You are a comedian. Talk about {topic}\"),\n",
    "        (\"human\", \"Tell me {fact_count} of this topic\"),\n",
    "    ]\n",
    ")\n",
    "prompt_template"
   ]
  },
  {
   "cell_type": "code",
   "execution_count": 66,
   "id": "066fc724",
   "metadata": {},
   "outputs": [],
   "source": [
    "chain = (\n",
    "    prompt_template \n",
    "    | llm \n",
    ")"
   ]
  },
  {
   "cell_type": "code",
   "execution_count": 67,
   "id": "6bb5b1cc",
   "metadata": {},
   "outputs": [
    {
     "data": {
      "text/plain": [
       "ChatPromptTemplate(input_variables=['fact_count', 'topic'], input_types={}, partial_variables={}, messages=[SystemMessagePromptTemplate(prompt=PromptTemplate(input_variables=['topic'], input_types={}, partial_variables={}, template='You are a comedian. Talk about {topic}'), additional_kwargs={}), HumanMessagePromptTemplate(prompt=PromptTemplate(input_variables=['fact_count'], input_types={}, partial_variables={}, template='Tell me {fact_count} of this topic'), additional_kwargs={})])\n",
       "| ChatCohere(client=<cohere.client.Client object at 0x00000250041F30E0>, async_client=<cohere.client.AsyncClient object at 0x00000250049CC050>, model='command-a-03-2025', cohere_api_key=SecretStr('**********'))"
      ]
     },
     "execution_count": 67,
     "metadata": {},
     "output_type": "execute_result"
    }
   ],
   "source": [
    "chain"
   ]
  },
  {
   "cell_type": "code",
   "execution_count": 68,
   "id": "62b0fe76",
   "metadata": {},
   "outputs": [
    {
     "name": "stdout",
     "output_type": "stream",
     "text": [
      "Ah, magic! The art of making things disappear—like your wallet at a magician’s show. Here are two magical musings for you:\n",
      "\n",
      "1. **The Magic of Misdirection**: Magicians are basically life coaches for your attention span. They say, \"Look over here!\" while your watch ends up in their pocket. It’s like a masterclass in \"How to Distract Your Boss During a Meeting 101.\" Next time you’re late with a report, just wave a shiny object and whisper, \"Ta-da!\"  \n",
      "\n",
      "2. **The Rabbit in the Hat**: Why is it always a rabbit? Did magicians just have a pet rabbit shortage in the 1800s? \"Oh, I need a trick! Quick, grab Fluffy!\" And now, centuries later, we’re still pulling bunnies out of hats like it’s the only animal that fits. What if they upgraded? \"Ladies and gentlemen, behold… a fully assembled IKEA bookshelf!\" Now *that’s* magic.  \n",
      "\n",
      "Magic: where logic takes a vacation and rabbits work overtime.\n"
     ]
    }
   ],
   "source": [
    "response = chain.invoke({\"topic\": \"magic\", \"fact_count\": 2 })\n",
    "print(response.content)"
   ]
  },
  {
   "cell_type": "code",
   "execution_count": 70,
   "id": "40b89c2a",
   "metadata": {},
   "outputs": [
    {
     "data": {
      "text/plain": [
       "ChatPromptTemplate(input_variables=['animal', 'fact_count'], input_types={}, partial_variables={}, messages=[SystemMessagePromptTemplate(prompt=PromptTemplate(input_variables=['animal'], input_types={}, partial_variables={}, template='You are know about the facts like animal. Talk about {animal}'), additional_kwargs={}), HumanMessagePromptTemplate(prompt=PromptTemplate(input_variables=['fact_count'], input_types={}, partial_variables={}, template='Tell me {fact_count} of this topic'), additional_kwargs={})])"
      ]
     },
     "execution_count": 70,
     "metadata": {},
     "output_type": "execute_result"
    }
   ],
   "source": [
    "prompt_template = ChatPromptTemplate.from_messages(\n",
    "    [\n",
    "        (\"system\", \"You are know about the facts like animal. Talk about {animal}\"),\n",
    "        (\"human\", \"Tell me {fact_count} of this topic\"),\n",
    "    ]\n",
    ")\n",
    "prompt_template"
   ]
  },
  {
   "cell_type": "code",
   "execution_count": 71,
   "id": "98e49b20",
   "metadata": {},
   "outputs": [],
   "source": [
    "chain = (\n",
    "    prompt_template \n",
    "    | llm \n",
    "    | StrOutputParser() \n",
    ")"
   ]
  },
  {
   "cell_type": "code",
   "execution_count": 72,
   "id": "70b3e8ff",
   "metadata": {},
   "outputs": [
    {
     "data": {
      "text/plain": [
       "ChatPromptTemplate(input_variables=['animal', 'fact_count'], input_types={}, partial_variables={}, messages=[SystemMessagePromptTemplate(prompt=PromptTemplate(input_variables=['animal'], input_types={}, partial_variables={}, template='You are know about the facts like animal. Talk about {animal}'), additional_kwargs={}), HumanMessagePromptTemplate(prompt=PromptTemplate(input_variables=['fact_count'], input_types={}, partial_variables={}, template='Tell me {fact_count} of this topic'), additional_kwargs={})])\n",
       "| ChatCohere(client=<cohere.client.Client object at 0x00000250041F30E0>, async_client=<cohere.client.AsyncClient object at 0x00000250049CC050>, model='command-a-03-2025', cohere_api_key=SecretStr('**********'))\n",
       "| StrOutputParser()"
      ]
     },
     "execution_count": 72,
     "metadata": {},
     "output_type": "execute_result"
    }
   ],
   "source": [
    "chain"
   ]
  },
  {
   "cell_type": "code",
   "execution_count": 73,
   "id": "b64300fa",
   "metadata": {},
   "outputs": [
    {
     "data": {
      "text/plain": [
       "langchain_core.runnables.base.RunnableSequence"
      ]
     },
     "execution_count": 73,
     "metadata": {},
     "output_type": "execute_result"
    }
   ],
   "source": [
    "type(chain)"
   ]
  },
  {
   "cell_type": "code",
   "execution_count": 74,
   "id": "dbacd89d",
   "metadata": {},
   "outputs": [
    {
     "name": "stdout",
     "output_type": "stream",
     "text": [
      "Sure! Here are three interesting facts about cats:\n",
      "\n",
      "1. **Cats have an incredible sense of balance**: Thanks to their flexible spine and powerful tail, cats can easily navigate narrow spaces and land on their feet after a fall. This ability is known as the \"righting reflex,\" which allows them to twist their bodies mid-air to land feet-first.\n",
      "\n",
      "2. **Cats can make over 100 different vocal sounds**: While dogs typically have about 10 vocalizations, cats are much more verbose. They use a variety of meows, purrs, chirps, and hisses to communicate with humans and other cats. Each cat’s meow is unique and can convey different emotions or needs.\n",
      "\n",
      "3. **Cats spend 70% of their lives sleeping**: On average, cats sleep for 12–16 hours a day, with some sleeping up to 20 hours. This behavior stems from their ancestral hunting instincts, as they conserve energy for short bursts of activity. Even domestic cats retain this trait, though they don’t need to hunt for food!\n",
      "\n",
      "Let me know if you'd like to learn more about these fascinating creatures!\n"
     ]
    }
   ],
   "source": [
    "print(chain.invoke({\"animal\": \"cat\",  \"fact_count\": 3, 'name':\"riya\"}))"
   ]
  },
  {
   "cell_type": "code",
   "execution_count": 25,
   "id": "02230775",
   "metadata": {},
   "outputs": [
    {
     "data": {
      "text/plain": [
       "StrOutputParser()"
      ]
     },
     "execution_count": 25,
     "metadata": {},
     "output_type": "execute_result"
    }
   ],
   "source": [
    "parser = StrOutputParser()\n",
    "parser"
   ]
  },
  {
   "cell_type": "code",
   "execution_count": 27,
   "id": "517d6e45",
   "metadata": {},
   "outputs": [
    {
     "data": {
      "text/plain": [
       "AIMessage(content='this is ai message', additional_kwargs={}, response_metadata={})"
      ]
     },
     "execution_count": 27,
     "metadata": {},
     "output_type": "execute_result"
    }
   ],
   "source": [
    "from langchain_core.messages import AIMessage\n",
    "\n",
    "llm_response = AIMessage(content = \"this is ai message\")\n",
    "llm_response"
   ]
  },
  {
   "cell_type": "code",
   "execution_count": 28,
   "id": "8b8be740",
   "metadata": {},
   "outputs": [
    {
     "data": {
      "text/plain": [
       "'this is ai message'"
      ]
     },
     "execution_count": 28,
     "metadata": {},
     "output_type": "execute_result"
    }
   ],
   "source": [
    "parser.invoke(llm_response)"
   ]
  },
  {
   "cell_type": "code",
   "execution_count": null,
   "id": "9638aadb",
   "metadata": {},
   "outputs": [],
   "source": []
  },
  {
   "cell_type": "code",
   "execution_count": 57,
   "id": "6c16a1e8",
   "metadata": {},
   "outputs": [],
   "source": [
    "prompt_template = ChatPromptTemplate.from_messages(\n",
    "    [\n",
    "        (\n",
    "            \"system\",\n",
    "            \"You are helpful assistant, going to tell about a country\"\n",
    "            \"Your response should be in the format of below json\"\n",
    "            \"Format -> country_name, national_language, currency, capital, these should be the keys and the answer should be the values.\"\n",
    "            \"Do not add any extra answers and dont include any markdown codes. be sure the response properly terminated.\"\n",
    "        ),\n",
    "        (\"human\", \"Tell me about {country}\") \n",
    "    ]\n",
    ")"
   ]
  },
  {
   "cell_type": "code",
   "execution_count": 42,
   "id": "bf5b4ce3",
   "metadata": {},
   "outputs": [
    {
     "data": {
      "text/plain": [
       "ChatPromptValue(messages=[SystemMessage(content='You are helpful assistant, going to tell about a countryYour response should be in the format of below jsonFormat -> country_name, national_language, currency, capital, these should be the keys and the answer should be the values.Do not add any extra answers and dont include any markdown codes. be sure the response properly terminated.', additional_kwargs={}, response_metadata={}), HumanMessage(content='Tell me about China', additional_kwargs={}, response_metadata={})])"
      ]
     },
     "execution_count": 42,
     "metadata": {},
     "output_type": "execute_result"
    }
   ],
   "source": [
    "prompt_template.invoke({\"country\": \"China\"})"
   ]
  },
  {
   "cell_type": "code",
   "execution_count": 51,
   "id": "c455c491",
   "metadata": {},
   "outputs": [
    {
     "data": {
      "text/plain": [
       "ChatPromptTemplate(input_variables=['country'], input_types={}, partial_variables={}, messages=[SystemMessagePromptTemplate(prompt=PromptTemplate(input_variables=[], input_types={}, partial_variables={}, template='You are helpful assistant, going to tell about a countryYour response should be in the format of below jsonFormat -> country_name, national_language, currency, capital, these should be the keys and the answer should be the values.Do not add any extra answers and dont include any markdown codes. be sure the response properly terminated.'), additional_kwargs={}), HumanMessagePromptTemplate(prompt=PromptTemplate(input_variables=['country'], input_types={}, partial_variables={}, template='Tell me about {country}'), additional_kwargs={})])\n",
       "| ChatCohere(client=<cohere.client.Client object at 0x000001F7EA7B6210>, async_client=<cohere.client.AsyncClient object at 0x000001F7EA7B7390>, model='command-a-03-2025', cohere_api_key=SecretStr('**********'))\n",
       "| JsonOutputParser()"
      ]
     },
     "execution_count": 51,
     "metadata": {},
     "output_type": "execute_result"
    }
   ],
   "source": [
    "chain = prompt_template | llm | JsonOutputParser()\n",
    "chain"
   ]
  },
  {
   "cell_type": "code",
   "execution_count": 52,
   "id": "5e6e622b",
   "metadata": {},
   "outputs": [],
   "source": [
    "response = chain.invoke({\"country\": \"United States\"})"
   ]
  },
  {
   "cell_type": "code",
   "execution_count": 55,
   "id": "8a749f46",
   "metadata": {},
   "outputs": [
    {
     "data": {
      "text/plain": [
       "{'country_name': 'United States of America',\n",
       " 'national_language': 'English',\n",
       " 'currency': 'United States Dollar (USD)',\n",
       " 'capital': 'Washington, D.C.'}"
      ]
     },
     "execution_count": 55,
     "metadata": {},
     "output_type": "execute_result"
    }
   ],
   "source": [
    "response"
   ]
  },
  {
   "cell_type": "code",
   "execution_count": null,
   "id": "e06b155c",
   "metadata": {},
   "outputs": [],
   "source": []
  },
  {
   "cell_type": "code",
   "execution_count": 58,
   "id": "f0a9694f",
   "metadata": {},
   "outputs": [],
   "source": [
    "prompt_template = ChatPromptTemplate.from_messages(\n",
    "    [\n",
    "        (\n",
    "            \"system\",\n",
    "            \"You are helpful assistant, going to tell about a country\"\n",
    "            \"Your response should be in the format of below format **XML**\"\n",
    "            \"Format -> country_name, national_language, currency, capital, these should be the tags and the answer should be the values.\"\n",
    "            \"Do not add any extra answers and dont include any markdown codes. be sure the response properly terminated.\"\n",
    "        ),\n",
    "        (\"human\", \"Tell me about {country}\") \n",
    "    ]\n",
    ")"
   ]
  },
  {
   "cell_type": "code",
   "execution_count": 61,
   "metadata": {},
   "outputs": [
    {
     "data": {
      "text/plain": [
       "ChatPromptTemplate(input_variables=['country'], input_types={}, partial_variables={}, messages=[SystemMessagePromptTemplate(prompt=PromptTemplate(input_variables=[], input_types={}, partial_variables={}, template='You are helpful assistant, going to tell about a countryYour response should be in the format of below format **XML**Format -> country_name, national_language, currency, capital, these should be the tags and the answer should be the values.Do not add any extra answers and dont include any markdown codes. be sure the response properly terminated.'), additional_kwargs={}), HumanMessagePromptTemplate(prompt=PromptTemplate(input_variables=['country'], input_types={}, partial_variables={}, template='Tell me about {country}'), additional_kwargs={})])\n",
       "| ChatCohere(client=<cohere.client.Client object at 0x000001F7EA7B6210>, async_client=<cohere.client.AsyncClient object at 0x000001F7EA7B7390>, model='command-a-03-2025', cohere_api_key=SecretStr('**********'))\n",
       "| XMLOutputParser()"
      ]
     },
     "execution_count": 61,
     "metadata": {},
     "output_type": "execute_result"
    }
   ],
   "source": [
    "chain = prompt_template | llm | XMLOutputParser()\n",
    "chain"
   ]
  },
  {
   "cell_type": "code",
   "execution_count": 62,
   "id": "9d8c87e8",
   "metadata": {},
   "outputs": [],
   "source": [
    "response = chain.invoke({\"country\": \"India\"})"
   ]
  },
  {
   "cell_type": "code",
   "execution_count": 64,
   "id": "cad061dc",
   "metadata": {},
   "outputs": [
    {
     "name": "stdout",
     "output_type": "stream",
     "text": [
      "{'country': [{'country_name': 'India'}, {'national_language': 'Hindi, English'}, {'currency': 'Indian Rupee (INR)'}, {'capital': 'New Delhi'}]}\n"
     ]
    }
   ],
   "source": [
    "print(response)"
   ]
  },
  {
   "cell_type": "markdown",
   "id": "fb876549",
   "metadata": {},
   "source": [
    "# Chain Inner Working"
   ]
  },
  {
   "cell_type": "markdown",
   "id": "661d3723",
   "metadata": {},
   "source": [
    "### Example 2 Without pipeline"
   ]
  },
  {
   "cell_type": "code",
   "execution_count": 75,
   "id": "78a796a6",
   "metadata": {},
   "outputs": [
    {
     "data": {
      "text/plain": [
       "ChatPromptTemplate(input_variables=['animal', 'fact_count'], input_types={}, partial_variables={}, messages=[SystemMessagePromptTemplate(prompt=PromptTemplate(input_variables=['animal'], input_types={}, partial_variables={}, template='You are know about the facts like animal. Talk about {animal}'), additional_kwargs={}), HumanMessagePromptTemplate(prompt=PromptTemplate(input_variables=['fact_count'], input_types={}, partial_variables={}, template='Tell me {fact_count} facts'), additional_kwargs={})])"
      ]
     },
     "execution_count": 75,
     "metadata": {},
     "output_type": "execute_result"
    }
   ],
   "source": [
    "# Task 1\n",
    "prompt_template = ChatPromptTemplate.from_messages(          \n",
    "    [\n",
    "        (\"system\", \"You are know about the facts like animal. Talk about {animal}\"),\n",
    "        (\"human\", \"Tell me {fact_count} facts\"),\n",
    "    ]\n",
    ")\n",
    "prompt_template"
   ]
  },
  {
   "cell_type": "code",
   "execution_count": 78,
   "id": "514224c9",
   "metadata": {},
   "outputs": [],
   "source": [
    "# individual runnable (steps in the chain)\n",
    "format_prompt = RunnableLambda(lambda x: prompt_template.format_prompt(**x))\n",
    "invoke_model = RunnableLambda(lambda x: llm.invoke(x.to_messages()))\n",
    "parse_output = RunnableLambda(lambda x: x.content)\n"
   ]
  },
  {
   "cell_type": "code",
   "execution_count": 81,
   "id": "0a80bdc4",
   "metadata": {},
   "outputs": [],
   "source": [
    "# create runnablesequence\n",
    "chain = RunnableSequence(first = format_prompt, middle = [invoke_model], last = parse_output)"
   ]
  },
  {
   "cell_type": "code",
   "execution_count": 84,
   "id": "b2ff02c8",
   "metadata": {},
   "outputs": [
    {
     "name": "stdout",
     "output_type": "stream",
     "text": [
      "Here are three fascinating facts about tigers:\n",
      "\n",
      "1. **Tigers are the largest cat species**: Among all wild cats, tigers are the biggest, with males (called \"tigers\") weighing up to 660 pounds (300 kg) and measuring up to 10 feet (3 meters) in length, including their tail.\n",
      "\n",
      "2. **Each tiger has unique stripes**: Just like human fingerprints, no two tigers have the same stripe pattern. Their stripes act as camouflage in their natural habitat, helping them blend into the tall grass and ambush prey.\n",
      "\n",
      "3. **Tigers are excellent swimmers**: Unlike most cats, tigers are strong and confident swimmers. They often swim between islands or across rivers to hunt, cool off, or mark their territory. Some tigers have been observed swimming distances of up to 18 miles (29 kilometers) in a single day!\n"
     ]
    }
   ],
   "source": [
    "response = chain.invoke({\"animal\": \"Tiger\",\"fact_count\": 3})\n",
    "print(response)"
   ]
  },
  {
   "cell_type": "markdown",
   "id": "91c55037",
   "metadata": {},
   "source": [
    "# Types of chain"
   ]
  },
  {
   "cell_type": "markdown",
   "id": "34127c84",
   "metadata": {},
   "source": [
    "## Sequence Chain"
   ]
  },
  {
   "cell_type": "code",
   "execution_count": 75,
   "id": "d6eb3862",
   "metadata": {},
   "outputs": [
    {
     "data": {
      "text/plain": [
       "ChatPromptTemplate(input_variables=['animal', 'count'], input_types={}, partial_variables={}, messages=[SystemMessagePromptTemplate(prompt=PromptTemplate(input_variables=['animal'], input_types={}, partial_variables={}, template='You like telling facts and you tell facts about {animal}.'), additional_kwargs={}), HumanMessagePromptTemplate(prompt=PromptTemplate(input_variables=['count'], input_types={}, partial_variables={}, template='Tell me {count} facts.'), additional_kwargs={})])"
      ]
     },
     "execution_count": 75,
     "metadata": {},
     "output_type": "execute_result"
    }
   ],
   "source": [
    "animal_prompt_template = ChatPromptTemplate.from_messages(\n",
    "    [\n",
    "        (\"system\", \"You like telling facts and you tell facts about {animal}.\"),\n",
    "        (\"human\", \"Tell me {count} facts.\")\n",
    "    ]\n",
    ")\n",
    "animal_prompt_template"
   ]
  },
  {
   "cell_type": "code",
   "execution_count": 76,
   "id": "41f8ee42",
   "metadata": {},
   "outputs": [
    {
     "data": {
      "text/plain": [
       "ChatPromptTemplate(input_variables=['language', 'text'], input_types={}, partial_variables={}, messages=[SystemMessagePromptTemplate(prompt=PromptTemplate(input_variables=['language'], input_types={}, partial_variables={}, template='You are a translator and convert the provided text into {language}.'), additional_kwargs={}), HumanMessagePromptTemplate(prompt=PromptTemplate(input_variables=['language', 'text'], input_types={}, partial_variables={}, template='Translate the following text to {language}: {text}'), additional_kwargs={})])"
      ]
     },
     "execution_count": 76,
     "metadata": {},
     "output_type": "execute_result"
    }
   ],
   "source": [
    "translation_template = ChatPromptTemplate.from_messages(\n",
    "    [\n",
    "        (\"system\", \"You are a translator and convert the provided text into {language}.\"),\n",
    "        (\"human\", \"Translate the following text to {language}: {text}\"),\n",
    "    ]\n",
    ")\n",
    "translation_template"
   ]
  },
  {
   "cell_type": "code",
   "execution_count": 82,
   "id": "952984ec",
   "metadata": {},
   "outputs": [],
   "source": [
    "count_words = RunnableLambda(lambda x: f\"Word count: {len(x.split())}\\n{x}\")\n",
    "prepare_for_translation = RunnableLambda(lambda output: {\"text\": output, \"language\":\"Saurashtra\"})\n"
   ]
  },
  {
   "cell_type": "code",
   "execution_count": 83,
   "id": "bf98bd8e",
   "metadata": {},
   "outputs": [],
   "source": [
    "chain = (\n",
    "    animal_prompt_template \n",
    "    | llm \n",
    "    | StrOutputParser() \n",
    "    | prepare_for_translation \n",
    "    | translation_template \n",
    "    | llm \n",
    "    | StrOutputParser()\n",
    "    | count_words\n",
    "    )"
   ]
  },
  {
   "cell_type": "code",
   "execution_count": 84,
   "id": "94d7f552",
   "metadata": {},
   "outputs": [
    {
     "data": {
      "text/plain": [
       "ChatPromptTemplate(input_variables=['animal', 'count'], input_types={}, partial_variables={}, messages=[SystemMessagePromptTemplate(prompt=PromptTemplate(input_variables=['animal'], input_types={}, partial_variables={}, template='You like telling facts and you tell facts about {animal}.'), additional_kwargs={}), HumanMessagePromptTemplate(prompt=PromptTemplate(input_variables=['count'], input_types={}, partial_variables={}, template='Tell me {count} facts.'), additional_kwargs={})])\n",
       "| ChatCohere(client=<cohere.client.Client object at 0x00000250041F30E0>, async_client=<cohere.client.AsyncClient object at 0x00000250049CC050>, model='command-a-03-2025', cohere_api_key=SecretStr('**********'))\n",
       "| StrOutputParser()\n",
       "| RunnableLambda(lambda output: {'text': output, 'language': 'Saurashtra'})\n",
       "| ChatPromptTemplate(input_variables=['language', 'text'], input_types={}, partial_variables={}, messages=[SystemMessagePromptTemplate(prompt=PromptTemplate(input_variables=['language'], input_types={}, partial_variables={}, template='You are a translator and convert the provided text into {language}.'), additional_kwargs={}), HumanMessagePromptTemplate(prompt=PromptTemplate(input_variables=['language', 'text'], input_types={}, partial_variables={}, template='Translate the following text to {language}: {text}'), additional_kwargs={})])\n",
       "| ChatCohere(client=<cohere.client.Client object at 0x00000250041F30E0>, async_client=<cohere.client.AsyncClient object at 0x00000250049CC050>, model='command-a-03-2025', cohere_api_key=SecretStr('**********'))\n",
       "| StrOutputParser()\n",
       "| RunnableLambda(lambda x: f'Word count: {len(x.split())}\\n{x}')"
      ]
     },
     "execution_count": 84,
     "metadata": {},
     "output_type": "execute_result"
    }
   ],
   "source": [
    "chain"
   ]
  },
  {
   "cell_type": "code",
   "execution_count": 85,
   "id": "15e1910a",
   "metadata": {},
   "outputs": [],
   "source": [
    "result = chain.invoke({\"animal\": \"Elephant\", \"count\": 2})"
   ]
  },
  {
   "cell_type": "code",
   "execution_count": 86,
   "id": "d6c43d39",
   "metadata": {},
   "outputs": [
    {
     "name": "stdout",
     "output_type": "stream",
     "text": [
      "Word count: 105\n",
      "અહીં હાથીઓ વિશે બે રોચક તાણાં છે:\n",
      "\n",
      "1. **હાથીઓને કોઈપણ જમીની જાનવરની સૌથી લાંબી ગર્ભાવસ્થા છે.** એક માદા હાથી (ગાય) તેની બાછળને લગભગ **22 મહિના** (લગભગ 2 વર્ષ) સુધી પોતાની કોખ માં રાખે છે અને જન્મ આપે છે. આ વિસ્તારિત ગર્ભાવસ્થા બાછળને પૂરી રીતે વિકાસ કરવા અને જન્મના સમયે સાપેક્ષ સ્વતંત્ર બનવાની મજબૂતી આપે છે.\n",
      "\n",
      "2. **હાથીઓ લો-ફ્રીક્વેન્સી આવાજ વાળા અન્ફ્રાસાઉન્ડ વાપરીને લાંબા દૂરીઓ પર સંચાર કરી શકે છે.** આ આવાજો, જે માનવ સાંભળવાની સીમા કરતાં નીચે છે, જમીન અને હવા દ્વારા વધુ કિલોમીટર સુધી પ્રવાહિત થઈ શકે છે. હાથીઓ તેમના જૂથો સાથે સમન્વય કરવા, ખતરીની ચેતવણી આપવા અને જોડાઓ શોધવા માટે અન્ફ્રાસાઉન્ડ વાપરે છે.\n"
     ]
    }
   ],
   "source": [
    "print(result)"
   ]
  },
  {
   "cell_type": "code",
   "execution_count": 52,
   "id": "4e053d46",
   "metadata": {},
   "outputs": [],
   "source": [
    "a = \"hi\""
   ]
  },
  {
   "cell_type": "code",
   "execution_count": null,
   "id": "9daeb69c",
   "metadata": {},
   "outputs": [],
   "source": []
  },
  {
   "cell_type": "markdown",
   "id": "3ad34110",
   "metadata": {},
   "source": [
    "# Parallel Chaining"
   ]
  },
  {
   "cell_type": "code",
   "execution_count": 5,
   "id": "0c3628ab",
   "metadata": {},
   "outputs": [],
   "source": [
    "summery_template = ChatPromptTemplate.from_messages(\n",
    "    [\n",
    "        (\"system\", \" You are a movie critic\"),\n",
    "        (\"human\", \" Provide a brief summary of the movie {movie_name}\"),\n",
    "    ]\n",
    ")"
   ]
  },
  {
   "cell_type": "code",
   "execution_count": 6,
   "id": "62023148",
   "metadata": {},
   "outputs": [],
   "source": [
    "# Define Plot Analysis step\n",
    "\n",
    "def analyze_plot(plot):\n",
    "    plot_template = ChatPromptTemplate.from_messages(\n",
    "        [\n",
    "            (\"system\", \"you are a movie Critic.\"),\n",
    "            (\"human\", \"Analyze the plot: {plot}. What are its strengths and weaknesses?\"),\n",
    "        ]\n",
    "    )\n",
    "    return plot_template.format_prompt(plot=plot)"
   ]
  },
  {
   "cell_type": "code",
   "execution_count": 7,
   "id": "bbdaa2f0",
   "metadata": {},
   "outputs": [],
   "source": [
    "# Define characters analyses step\n",
    "\n",
    "def analyze_characters(characters):\n",
    "    character_template = ChatPromptTemplate.from_messages(\n",
    "        [\n",
    "            (\"system\", \"you are a movie Critic.\"),\n",
    "            (\"human\", \"Analysze the character: {characters} What are its strengths and weaknesses?\")\n",
    "\n",
    "        ]\n",
    "    )\n",
    "    return character_template.format_prompt(characters = characters)"
   ]
  },
  {
   "cell_type": "code",
   "execution_count": 8,
   "id": "38aba520",
   "metadata": {},
   "outputs": [],
   "source": [
    "# combine analyses into a final verdict\n",
    "\n",
    "def combine_verdicts(plot_analysis, character_analysis):\n",
    "    return f\"Plot Analysis:\\n {plot_analysis} \\n\\n Character Analysis: \\n{character_analysis}\""
   ]
  },
  {
   "cell_type": "code",
   "execution_count": 9,
   "id": "e9f6d585",
   "metadata": {},
   "outputs": [],
   "source": [
    "# Simplify branches with LCEL\n",
    "\n",
    "plot_branch_chain = (\n",
    "    RunnableLambda(lambda x: analyze_plot(x)) | llm | StrOutputParser()\n",
    ")"
   ]
  },
  {
   "cell_type": "code",
   "execution_count": 10,
   "id": "ff76394b",
   "metadata": {},
   "outputs": [],
   "source": [
    "character_branch_chain = (\n",
    "    RunnableLambda(lambda x: analyze_characters(x)) | llm | StrOutputParser()\n",
    ")"
   ]
  },
  {
   "cell_type": "code",
   "execution_count": 11,
   "id": "a467c091",
   "metadata": {},
   "outputs": [],
   "source": [
    "chain = (\n",
    "    summery_template\n",
    "    | llm\n",
    "    | StrOutputParser()\n",
    "    | RunnableParallel(branches = {\"plot\": plot_branch_chain, \"characters\": character_branch_chain})\n",
    "    | RunnableLambda(lambda x: combine_verdicts(x[\"branches\"][\"plot\"],x[\"branches\"][\"characters\"]))\n",
    ")"
   ]
  },
  {
   "cell_type": "code",
   "execution_count": 12,
   "id": "40e8e81a",
   "metadata": {},
   "outputs": [],
   "source": [
    "response = chain.invoke({\"movie_name\": \"Master Tamil Movie\"})"
   ]
  },
  {
   "cell_type": "code",
   "execution_count": 13,
   "id": "3e57524c",
   "metadata": {},
   "outputs": [
    {
     "name": "stdout",
     "output_type": "stream",
     "text": [
      "Plot Analysis:\n",
      " **Strengths of *Master***:\n",
      "\n",
      "1. **Star Power and Performances**:  \n",
      "   The film leverages the charisma and screen presence of its lead actors, Vijay and Vijay Sethupathi. Vijay delivers a balanced performance as John Durairaj, effortlessly switching between mass hero moments and emotional vulnerability. Vijay Sethupathi, as Bhavani, is menacing and compelling, creating a formidable antagonist that elevates the conflict. Their face-off is one of the film's highlights, drawing audiences in with their chemistry and intensity.\n",
      "\n",
      "2. **High-Octane Action Sequences**:  \n",
      "   Lokesh Kanagaraj’s direction shines in the action set pieces, which are choreographed with precision and scale. The film’s mass moments, particularly those featuring Vijay, are designed to cater to his fan base while also appealing to general audiences. The climax confrontation between John and Bhavani is particularly gripping, leaving a lasting impact.\n",
      "\n",
      "3. **Emotional Depth and Social Commentary**:  \n",
      "   *Master* goes beyond its action-thriller framework to address serious issues within the juvenile justice system. The film’s portrayal of exploited youth adds emotional weight to the narrative, making John’s mission more than just personal vengeance. This layer of social commentary gives the film a sense of purpose beyond its entertainment value.\n",
      "\n",
      "4. **Music and Technical Brilliance**:  \n",
      "   Anirudh Ravichander’s soundtrack complements the film’s tone, with songs like *\"Vaathi Coming\"* becoming instant hits. The background score enhances the tension and emotion in key scenes. The cinematography and editing are top-notch, particularly in the action sequences, which are visually stunning and seamlessly executed.\n",
      "\n",
      "5. **Gripping Storyline and Pacing**:  \n",
      "   The film maintains a brisk pace, balancing its various elements—action, emotion, and social commentary—without losing focus. The cat-and-mouse game between John and Bhavani keeps the audience engaged, while the subplots involving the juveniles add depth to the narrative.\n",
      "\n",
      "**Weaknesses of *Master***:\n",
      "\n",
      "1. **Predictable Plot Twists**:  \n",
      "   While the film is engaging, some of its plot twists and turns feel formulaic and predictable. The storyline follows a familiar template of a hero fighting a powerful villain, with few surprises along the way. This lack of novelty might make the film feel less innovative to viewers accustomed to the genre.\n",
      "\n",
      "2. **Underdeveloped Supporting Characters**:  \n",
      "   Apart from the two leads, the supporting characters, including the juveniles, are not fully fleshed out. Their backstories and motivations remain superficial, which limits the emotional impact of their arcs. This is particularly noticeable in the juvenile home sequences, where the focus remains largely on John rather than the children he aims to protect.\n",
      "\n",
      "3. **Over-Reliance on Mass Moments**:  \n",
      "   While the mass moments are a strength, they sometimes feel forced or excessive, catering too heavily to Vijay’s fan base. These scenes occasionally disrupt the narrative flow and detract from the film’s more serious themes. A more balanced approach could have enhanced the overall coherence of the story.\n",
      "\n",
      "4. **Pacing Issues in the Second Half**:  \n",
      "   The second half of the film, particularly after the interval, feels slightly dragged out. The buildup to the climax, while intense, could have been tighter. Some scenes feel repetitive, diluting the impact of the final confrontation.\n",
      "\n",
      "5. **Limited Exploration of John’s Past**:  \n",
      "   John Durairaj’s troubled past is hinted at but never fully explored. While this adds an air of mystery to his character, it also leaves audiences wanting more depth. A clearer understanding of his backstory could have made his transformation and motivations more compelling.\n",
      "\n",
      "**Conclusion**:  \n",
      "*Master* is a solid action thriller that capitalizes on the star power of its leads, high-octane action, and emotional depth. Its strengths lie in its performances, technical brilliance, and social commentary, making it a thrilling cinematic experience. However, its weaknesses—predictable plot twists, underdeveloped supporting characters, and occasional pacing issues—prevent it from reaching its full potential. Despite these flaws, *Master* remains a crowd-pleaser that delivers on its promise of entertainment. \n",
      "\n",
      " Character Analysis: \n",
      "**Strengths of *Master* and its Characterization:**\n",
      "\n",
      "1. **Vijay’s Charismatic Performance as John Durairaj:**  \n",
      "   Vijay’s portrayal of John Durairaj is a standout strength. He effortlessly balances the character’s duality—a flawed, alcoholic professor with a troubled past and a determined, righteous hero. His charisma, mass appeal, and emotional depth make John a relatable and compelling protagonist. The character’s arc, from a self-destructive individual to a protector of the vulnerable, is well-executed, giving the audience a hero to root for.\n",
      "\n",
      "2. **Vijay Sethupathi’s Menacing Bhavani:**  \n",
      "   Vijay Sethupathi’s Bhavani is a chilling antagonist, exuding ruthlessness and unpredictability. His performance adds gravitas to the film, creating a formidable adversary for John. The dynamic between the two Vijays is electric, and their confrontations are among the film’s highlights, elevating the narrative tension.\n",
      "\n",
      "3. **Action Sequences and Mass Moments:**  \n",
      "   The film’s action sequences are expertly choreographed, particularly the climax, which is both visually stunning and emotionally charged. Vijay’s mass moments, such as his entry scenes and punch dialogues, cater to his fan base while enhancing the overall entertainment quotient.\n",
      "\n",
      "4. **Social Commentary and Emotional Depth:**  \n",
      "   *Master* effectively weaves in social commentary on the juvenile justice system and the exploitation of vulnerable youth. The emotional bond between John and the juveniles adds layers to the story, making it more than just a typical action thriller. The film’s ability to balance high-octane action with heartfelt moments is commendable.\n",
      "\n",
      "5. **Anirudh’s Music and Technical Brilliance:**  \n",
      "   Anirudh Ravichander’s soundtrack and background score complement the film’s tone, enhancing its mass appeal and emotional impact. The cinematography, editing, and production design are top-notch, contributing to the film’s immersive experience.\n",
      "\n",
      "**Weaknesses of *Master* and its Characterization:**\n",
      "\n",
      "1. **Predictable Plot and Formulaic Structure:**  \n",
      "   Despite its gripping execution, the film’s plot is somewhat predictable, following a familiar hero-vs-villain template. The storyline lacks originality, and certain twists are telegraphed, reducing the element of surprise.\n",
      "\n",
      "2. **Underdeveloped Supporting Characters:**  \n",
      "   While the focus on John and Bhavani is strong, the supporting characters, including the juveniles and other cast members, feel underdeveloped. Their backstories and motivations are not explored in depth, making them less impactful.\n",
      "\n",
      "3. **Pacing Issues in the Second Half:**  \n",
      "   The film’s pacing slows down in the second half, particularly during the emotional sequences, which could have been tighter. Some scenes feel stretched, diluting the momentum built in the first half.\n",
      "\n",
      "4. **Over-Reliance on Mass Moments:**  \n",
      "   While the mass moments are a strength, they sometimes overshadow the narrative’s subtler aspects. The film occasionally leans too heavily on Vijay’s star power, at the expense of a more nuanced storyline.\n",
      "\n",
      "5. **Bhavani’s Backstory Lacks Depth:**  \n",
      "   Vijay Sethupathi’s Bhavani is a compelling villain, but his backstory and motivations are not fully explored. A deeper understanding of his character could have made the conflict between him and John even more compelling.\n",
      "\n",
      "**Conclusion:**  \n",
      "*Master* is a solid action thriller that leverages the star power of its leads and delivers a thrilling cinematic experience. Its strengths lie in Vijay and Vijay Sethupathi’s performances, high-octane action, and emotional depth. However, its weaknesses, including a predictable plot, underdeveloped supporting characters, and pacing issues, prevent it from reaching its full potential. Despite these flaws, *Master* remains an entertaining and impactful film that resonates with both fans and general audiences.\n"
     ]
    }
   ],
   "source": [
    "print(response)"
   ]
  },
  {
   "cell_type": "code",
   "execution_count": null,
   "id": "f0b745d7",
   "metadata": {},
   "outputs": [],
   "source": []
  }
 ],
 "metadata": {
  "kernelspec": {
   "display_name": "my_ai_env",
   "language": "python",
   "name": "python3"
  },
  "language_info": {
   "codemirror_mode": {
    "name": "ipython",
    "version": 3
   },
   "file_extension": ".py",
   "mimetype": "text/x-python",
   "name": "python",
   "nbconvert_exporter": "python",
   "pygments_lexer": "ipython3",
   "version": "3.13.5"
  }
 },
 "nbformat": 4,
 "nbformat_minor": 5
}
