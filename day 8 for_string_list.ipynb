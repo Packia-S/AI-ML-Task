{
 "cells": [
  {
   "cell_type": "markdown",
   "id": "4b368423",
   "metadata": {},
   "source": [
    "## Python Practice – For Loop with Conditionals + String & List Methods\n"
   ]
  },
  {
   "cell_type": "markdown",
   "id": "b04f269f",
   "metadata": {},
   "source": [
    "1. Print only words that start with 'A' (case-insensitive) from a list.\n",
    "    words = [\"apple\", \"Banana\", \"Avocado\", \"grape\", \"Apricot\"]\n",
    "    Output:\n",
    "    apple\n",
    "    Avocado\n",
    "    Apricot"
   ]
  },
  {
   "cell_type": "code",
   "execution_count": 5,
   "id": "c0ebf2ce",
   "metadata": {},
   "outputs": [
    {
     "name": "stdout",
     "output_type": "stream",
     "text": [
      "apple\n",
      "Avocado\n",
      "Apricot\n"
     ]
    }
   ],
   "source": [
    "fruits=[\"apple\", \"Banana\", \"Avocado\", \"grape\", \"Apricot\"]\n",
    "for fruit in fruits:\n",
    "    if fruit.lower().startswith(\"a\"):\n",
    "        print(fruit)"
   ]
  },
  {
   "cell_type": "code",
   "execution_count": 85,
   "id": "dd4e96a6",
   "metadata": {},
   "outputs": [
    {
     "name": "stdout",
     "output_type": "stream",
     "text": [
      "apple\n",
      "grape\n",
      "pineapple\n",
      "words ending with ' e': 3\n"
     ]
    }
   ],
   "source": [
    "# 2. Count how many words in a list end with the letter 'e'.\n",
    "# words = [\"apple\", \"banana\", \"grape\", \"mango\", \"pineapple\"]\n",
    "# Output:\n",
    "# Words ending with 'e': 2\n",
    "\n",
    "\n",
    "fruits=[\"apple\", \"banana\", \"grape\", \"mango\", \"pineapple\"]\n",
    "count=0\n",
    "for fruit in fruits:\n",
    "    if fruit[-1].lower().endswith(\"e\"):\n",
    "        count+=1\n",
    "        print(fruit)\n",
    "print(f\"words ending with ' e': {count}\")"
   ]
  },
  {
   "cell_type": "code",
   "execution_count": 12,
   "id": "b48e9621",
   "metadata": {},
   "outputs": [
    {
     "name": "stdout",
     "output_type": "stream",
     "text": [
      "P\n",
      "I\n",
      "F\n",
      "N\n"
     ]
    }
   ],
   "source": [
    "\n",
    "# 3. Loop through a string and print all uppercase letters.\n",
    "# text = \"Python Is FuN\"\n",
    "# Output:\n",
    "# P\n",
    "# I\n",
    "# F\n",
    "# N\n",
    "\n",
    "\n",
    "\n",
    "text=\"Python Is FuN\"\n",
    "for char in text:\n",
    "    if char.isupper():\n",
    "        print(char)"
   ]
  },
  {
   "cell_type": "code",
   "execution_count": 13,
   "id": "bbfb78c2",
   "metadata": {},
   "outputs": [
    {
     "name": "stdout",
     "output_type": "stream",
     "text": [
      "Alice\n",
      "Bob\n",
      "John\n"
     ]
    }
   ],
   "source": [
    "# 4. Loop through a list of names and print only those that are fully alphabetic.\n",
    "# names = [\"Alice\", \"Bob\", \"An4a\", \"Steve123\", \"John\"]\n",
    "# Output:\n",
    "# Alice\n",
    "# Bob\n",
    "# John\n",
    "\n",
    "\n",
    "names = [\"Alice\", \"Bob\", \"An4a\", \"Steve123\", \"John\"]\n",
    "for name in names:\n",
    "    if name.isalpha():\n",
    "        print(name)"
   ]
  },
  {
   "cell_type": "code",
   "execution_count": 29,
   "id": "db0aac3a",
   "metadata": {},
   "outputs": [
    {
     "name": "stdout",
     "output_type": "stream",
     "text": [
      "London\n",
      "Amsterdam\n"
     ]
    }
   ],
   "source": [
    "# 5. Given a list of strings, print those that have more than 5 characters.\n",
    "# cities = [\"Paris\", \"London\", \"Amsterdam\", \"NYC\", \"Delhi\"]\n",
    "# Output:\n",
    "# London\n",
    "# Amsterdam\n",
    "\n",
    "\n",
    "cities = [\"Paris\", \"London\", \"Amsterdam\", \"NYC\", \"Delhi\"]\n",
    "for city in cities:\n",
    "    if len(city) > 5:\n",
    "        print(city)"
   ]
  },
  {
   "cell_type": "code",
   "execution_count": 80,
   "id": "307d4226",
   "metadata": {},
   "outputs": [
    {
     "name": "stdout",
     "output_type": "stream",
     "text": [
      "['APPLE', 'BANANA', 'CHERRY']\n"
     ]
    }
   ],
   "source": [
    "# 6. Create a new list with all words converted to uppercase.\n",
    "# fruits = [\"apple\", \"banana\", \"cherry\"]\n",
    "# Output:\n",
    "# ['APPLE', 'BANANA', 'CHERRY']\n",
    "\n",
    "\n",
    "fruits = [\"apple\", \"banana\", \"cherry\"]\n",
    "fru=[]\n",
    "for fruit in fruits:\n",
    "    fru.append(fruit.upper())\n",
    "print(fru)\n",
    "    \n"
   ]
  },
  {
   "cell_type": "code",
   "execution_count": 33,
   "id": "b5469ab4",
   "metadata": {},
   "outputs": [
    {
     "name": "stdout",
     "output_type": "stream",
     "text": [
      "I love Python\n",
      "python is powerful\n"
     ]
    }
   ],
   "source": [
    "# 7. From a list of sentences, print only those containing the word 'python'.\n",
    "# lines = [\"I love Python\", \"Java is cool\", \"python is powerful\", \"I like programming\"]\n",
    "# Output:\n",
    "# I love Python\n",
    "# python is powerful\n",
    "\n",
    "\n",
    "lines = [\"I love Python\", \"Java is cool\", \"python is powerful\", \"I like programming\"]\n",
    "for line in lines:\n",
    "    if \"python\" in line.lower():\n",
    "        print(line)\n"
   ]
  },
  {
   "cell_type": "code",
   "execution_count": 83,
   "id": "b50bdb2f",
   "metadata": {},
   "outputs": [
    {
     "name": "stdout",
     "output_type": "stream",
     "text": [
      "edoc\n",
      "pool\n",
      "nuf\n"
     ]
    }
   ],
   "source": [
    "# 8. Print the reversed version of each word in a list.\n",
    "# words = [\"code\", \"loop\", \"fun\"]\n",
    "# Output:\n",
    "# edoc\n",
    "# pool\n",
    "# nuf\n",
    "\n",
    "words = [\"code\", \"loop\", \"fun\"]\n",
    "\n",
    "for word in words:\n",
    "    print(word[::-1])\n",
    "\n"
   ]
  },
  {
   "cell_type": "code",
   "execution_count": 107,
   "id": "e41de410",
   "metadata": {},
   "outputs": [
    {
     "name": "stdout",
     "output_type": "stream",
     "text": [
      "start and end with same letter: Anna\n",
      "start and end with same letter: Bob\n",
      "start and end with same letter: Ava\n",
      "start and end with same letter: madam\n",
      "start and end with same letter: envelope\n"
     ]
    }
   ],
   "source": [
    "# 9. Filter and print names that start and end with the same letter.\n",
    "# names = [\"Anna\", \"Bob\", \"Alice\", \"Ava\", \"Sam\"]\n",
    "# Output:\n",
    "# Anna\n",
    "# Bob\n",
    "# Ava\n",
    "\n",
    "names = [\"Anna\", \"Bob\", \"Alice\", \"Ava\", \"Sam\",\"madam\",\"envelope\"]\n",
    "for name in names:\n",
    "    if name[0].lower() == name[-1].lower():\n",
    "        print(f\"start and end with same letter: {name}\")"
   ]
  },
  {
   "cell_type": "code",
   "execution_count": null,
   "id": "156d7e20",
   "metadata": {},
   "outputs": [
    {
     "name": "stdout",
     "output_type": "stream",
     "text": [
      " apple - 2 vowels\n",
      " grape - 2 vowels\n",
      " plum - 1 vowels\n"
     ]
    }
   ],
   "source": [
    "# 10. Loop through a list of strings and print the number of vowels in each.\n",
    "# words = [\"apple\", \"grape\", \"plum\"]\n",
    "# Output:\n",
    "# apple - 2 vowels\n",
    "# grape - 2 vowels\n",
    "# plum - 1 vowel\n",
    "\n",
    "\n",
    "fruits=[\"apple\", \"grape\", \"plum\"]\n",
    "vowel=\"aeiou\"\n",
    "for fruit in fruits:\n",
    "    count=0\n",
    "    for fru in fruit:\n",
    "        if fru in vowel:\n",
    "            count+=1\n",
    "    print(f\" {fruit} - {count} vowels\")\n",
    "\n",
    "# for fruit in fruits:\n",
    "#     # I can get individual fruit.\n",
    "#     count_of_vowels = 0\n",
    "#     for char in fruit:\n",
    "#         if char.lower() in [\"a\", \"e\", \"i\", \"o\", \"u\"]:\n",
    "#             count_of_vowels = count_of_vowels + 1\n",
    "#     print(f\"{fruit} - {count_of_vowels} vowels\")\n",
    "\n"
   ]
  },
  {
   "cell_type": "code",
   "execution_count": 13,
   "id": "1f6fb9a6",
   "metadata": {},
   "outputs": [
    {
     "name": "stdout",
     "output_type": "stream",
     "text": [
      "apple contains 2 vowels\n",
      "grape contains 2 vowels\n",
      "plum contains 1 vowels\n",
      "melon contains 2 vowels\n",
      "orange contains 3 vowels\n",
      "papaya contains 3 vowels\n",
      "litchi contains 2 vowels\n",
      "rumtaan contains 3 vowels\n"
     ]
    }
   ],
   "source": [
    "fruits = [[\"apple\", \"grape\", \"plum\"], [\"melon\", \"orange\"], [\"papaya\", \"litchi\", \"rumtaan\"]]\n",
    "for fruit_list in fruits:\n",
    "    # print(fruit_list)\n",
    "    for fruit in fruit_list:\n",
    "        # print(fruit)\n",
    "        count_of_vowels = 0\n",
    "        for char in fruit:\n",
    "            if char.lower() in \"aeiou\":\n",
    "                count_of_vowels += 1\n",
    "        print(f\"{fruit} contains {count_of_vowels} vowels\")"
   ]
  },
  {
   "cell_type": "code",
   "execution_count": 56,
   "id": "d302dc5a",
   "metadata": {},
   "outputs": [
    {
     "name": "stdout",
     "output_type": "stream",
     "text": [
      "['apple', 'banana', 'grape']\n"
     ]
    }
   ],
   "source": [
    "# 11. From a list of mixed data, keep only the strings.\n",
    "# items = [\"apple\", 42, \"banana\", True, \"grape\"]\n",
    "# Output:\n",
    "# ['apple', 'banana', 'grape']\n",
    "\n",
    "\n",
    "items = [\"apple\", 42, \"banana\", True, \"grape\"]\n",
    "fruit=[]\n",
    "for item in items:\n",
    "    if type(item) == str :\n",
    "        fruit.append(item)\n",
    "print(fruit)"
   ]
  },
  {
   "cell_type": "code",
   "execution_count": null,
   "id": "dee0224b",
   "metadata": {},
   "outputs": [
    {
     "data": {
      "text/plain": [
       "['grape', 'banana', 'apple']"
      ]
     },
     "execution_count": 23,
     "metadata": {},
     "output_type": "execute_result"
    }
   ],
   "source": [
    "# 12. Remove all duplicates from a list of words.\n",
    "# words = [\"apple\", \"banana\", \"apple\", \"grape\", \"banana\"]\n",
    "# Output:\n",
    "# ['apple', 'banana', 'grape']\n",
    "\n",
    "fruits = [\"apple\", \"banana\", \"apple\", \"grape\", \"banana\"]\n",
    "list(set(fruits))"
   ]
  },
  {
   "cell_type": "code",
   "execution_count": 41,
   "id": "b47b3544",
   "metadata": {},
   "outputs": [
    {
     "name": "stdout",
     "output_type": "stream",
     "text": [
      "['Dog', 'Zebra', 'cat', 'elephant']\n"
     ]
    }
   ],
   "source": [
    "# 13. Sort a list of strings in alphabetical order and print them.\n",
    "# animals = [\"Zebra\", \"elephant\", \"Dog\", \"cat\"]\n",
    "# Output:\n",
    "# ['Dog', 'Zebra', 'cat', 'elephant']\n",
    "    \n",
    "animals = [\"Zebra\", \"elephant\", \"Dog\", \"cat\"]\n",
    "print(sorted(animals))\n"
   ]
  },
  {
   "cell_type": "code",
   "execution_count": 39,
   "id": "d118fea6",
   "metadata": {},
   "outputs": [
    {
     "name": "stdout",
     "output_type": "stream",
     "text": [
      "john\n",
      "bob\n"
     ]
    }
   ],
   "source": [
    "# 14. From a list of names, print only those where all letters are lowercase.\n",
    "# names = [\"john\", \"ALICE\", \"bob\", \"Steve\"]\n",
    "# Output:\n",
    "# john\n",
    "# bob\n",
    "\n",
    "names = [\"john\", \"ALICE\", \"bob\", \"Steve\"]\n",
    "for name in names:\n",
    "    if name.islower():\n",
    "        print(name)"
   ]
  },
  {
   "cell_type": "code",
   "execution_count": null,
   "id": "41663dcf",
   "metadata": {},
   "outputs": [
    {
     "name": "stdout",
     "output_type": "stream",
     "text": [
      "Hello, 5\n",
      "world! 5\n",
      "This 4\n",
      "is 2\n",
      "Python. 6\n"
     ]
    }
   ],
   "source": [
    "# 15. Create a list of word lengths from a sentence, ignoring punctuation.\n",
    "# sentence = \"Hello, world! This is Python.\"\n",
    "# Output:\n",
    "# [5, 5, 4, 2, 6]\n",
    "punc = ['!', '\"', '#', '$', '%', '&', \"'\", '(', ')', '*', '+', ',', '-', '.', '/', \n",
    " ':', ';', '<', '=', '>', '?', '@', '[', '\\\\', ']', '^', '_', '`', '{', '|', \n",
    " '}', '~']\n",
    "\n",
    "sentences = \"Hello, world! This is Python.\"\n",
    "for word in sentences.split(): # split the string with space -> list[str]: words\n",
    "    word_count = 0\n",
    "    for char in word:\n",
    "        if char not in punc:\n",
    "            word_count += 1\n",
    "    print(word, word_count)\n",
    "        \n",
    "\n",
    "\n"
   ]
  },
  {
   "cell_type": "code",
   "execution_count": null,
   "id": "bc5dc179",
   "metadata": {},
   "outputs": [],
   "source": [
    "# Remove punctuation\n",
    "# "
   ]
  },
  {
   "cell_type": "code",
   "execution_count": null,
   "id": "2381673a",
   "metadata": {},
   "outputs": [
    {
     "data": {
      "text/plain": [
       "'hello'"
      ]
     },
     "execution_count": 59,
     "metadata": {},
     "output_type": "execute_result"
    }
   ],
   "source": []
  }
 ],
 "metadata": {
  "kernelspec": {
   "display_name": "my_ai_env",
   "language": "python",
   "name": "python3"
  },
  "language_info": {
   "codemirror_mode": {
    "name": "ipython",
    "version": 3
   },
   "file_extension": ".py",
   "mimetype": "text/x-python",
   "name": "python",
   "nbconvert_exporter": "python",
   "pygments_lexer": "ipython3",
   "version": "3.13.5"
  }
 },
 "nbformat": 4,
 "nbformat_minor": 5
}
