{
 "cells": [
  {
   "cell_type": "code",
   "execution_count": 1,
   "id": "7f54a2f9",
   "metadata": {},
   "outputs": [],
   "source": [
    "from langchain_core.prompts import ChatPromptTemplate, MessagesPlaceholder, PromptTemplate\n",
    "from langchain_cohere import ChatCohere\n",
    "from langchain_core.messages import AIMessage, SystemMessage, HumanMessage\n",
    "from langchain_cohere.embeddings import CohereEmbeddings"
   ]
  },
  {
   "cell_type": "code",
   "execution_count": 2,
   "id": "4370c2a6",
   "metadata": {},
   "outputs": [],
   "source": [
    "from pydantic_settings import BaseSettings\n",
    "\n",
    "class Settings(BaseSettings):\n",
    "    cohere_api_key: str\n",
    "    \n",
    "    class Config:\n",
    "        env_file = \"../.env\"\n",
    "        extra = \"ignore\"\n",
    "        \n",
    "        \n",
    "settings = Settings()"
   ]
  },
  {
   "cell_type": "code",
   "execution_count": 3,
   "id": "f90ae6b2",
   "metadata": {},
   "outputs": [
    {
     "data": {
      "text/plain": [
       "ChatCohere(client=<cohere.client.Client object at 0x0000029E05D85D30>, async_client=<cohere.client.AsyncClient object at 0x0000029E072EEBA0>, model='command-a-03-2025', cohere_api_key=SecretStr('**********'))"
      ]
     },
     "execution_count": 3,
     "metadata": {},
     "output_type": "execute_result"
    }
   ],
   "source": [
    "llm = ChatCohere(cohere_api_key = settings.cohere_api_key)\n",
    "llm"
   ]
  },
  {
   "cell_type": "markdown",
   "id": "3d9b004d",
   "metadata": {},
   "source": [
    "### 1. Travel Itinerary Generator\n",
    "#### Tags: ChatPromptTemplate, SystemMessage\n",
    "#### Task: Create a chat prompt template where the system message defines you as an “expert travel planner” and the human message provides a location, trip length, and preferences. The model should return a day-by-day itinerary."
   ]
  },
  {
   "cell_type": "code",
   "execution_count": 4,
   "id": "25c711b8",
   "metadata": {},
   "outputs": [
    {
     "data": {
      "text/plain": [
       "ChatPromptTemplate(input_variables=['question'], input_types={}, partial_variables={}, messages=[SystemMessagePromptTemplate(prompt=PromptTemplate(input_variables=[], input_types={}, partial_variables={}, template=' \\n         You are an expert travel planner with years of experience designing personalized travel itineraries. \\nYour task is to create detailed day-by-day plans for travelers based on their location, trip length, and preferences. \\nEach itinerary should include activities, sightseeing suggestions, meals, travel tips, and any local recommendations. \\nBe concise but thorough, providing realistic timings and practical advice. \\nAlways consider the traveler’s interests and preferences when recommending activities.\\n'), additional_kwargs={}), HumanMessagePromptTemplate(prompt=PromptTemplate(input_variables=['question'], input_types={}, partial_variables={}, template='{question}'), additional_kwargs={})])"
      ]
     },
     "execution_count": 4,
     "metadata": {},
     "output_type": "execute_result"
    }
   ],
   "source": [
    "prompt_template = ChatPromptTemplate.from_messages(\n",
    "    [\n",
    "        (\"system\", \"\"\" \n",
    "         You are an expert travel planner with years of experience designing personalized travel itineraries. \n",
    "Your task is to create detailed day-by-day plans for travelers based on their location, trip length, and preferences. \n",
    "Each itinerary should include activities, sightseeing suggestions, meals, travel tips, and any local recommendations. \n",
    "Be concise but thorough, providing realistic timings and practical advice. \n",
    "Always consider the traveler’s interests and preferences when recommending activities.\n",
    "\"\"\"),\n",
    "        (\"human\", \"{question}\")\n",
    "    ]\n",
    ")\n",
    "prompt_template"
   ]
  },
  {
   "cell_type": "code",
   "execution_count": 5,
   "id": "f41490fb",
   "metadata": {},
   "outputs": [
    {
     "data": {
      "text/plain": [
       "ChatPromptValue(messages=[SystemMessage(content=' \\n         You are an expert travel planner with years of experience designing personalized travel itineraries. \\nYour task is to create detailed day-by-day plans for travelers based on their location, trip length, and preferences. \\nEach itinerary should include activities, sightseeing suggestions, meals, travel tips, and any local recommendations. \\nBe concise but thorough, providing realistic timings and practical advice. \\nAlways consider the traveler’s interests and preferences when recommending activities.\\n', additional_kwargs={}, response_metadata={}), HumanMessage(content='I have planned a long trip to Ooty for 1 days', additional_kwargs={}, response_metadata={})])"
      ]
     },
     "execution_count": 5,
     "metadata": {},
     "output_type": "execute_result"
    }
   ],
   "source": [
    "prompt = prompt_template.invoke(\"I have planned a long trip to Ooty for 1 days\")\n",
    "prompt"
   ]
  },
  {
   "cell_type": "code",
   "execution_count": 6,
   "id": "c57b0b5f",
   "metadata": {},
   "outputs": [
    {
     "name": "stdout",
     "output_type": "stream",
     "text": [
      "A one-day trip to Ooty (Udhagamandalam) can be quite rewarding if planned well. Here’s a concise yet comprehensive itinerary tailored for a single day, focusing on key attractions and experiences:\n",
      "\n",
      "---\n",
      "\n",
      "### **Ooty 1-Day Itinerary**\n",
      "\n",
      "#### **Morning (8:00 AM - 12:00 PM)**\n",
      "1. **Arrival & Breakfast (8:00 AM - 9:00 AM)**  \n",
      "   - Arrive in Ooty early. Start with a local breakfast at **Chai Pani Junction** or **Quality Restaurant** (try their masala dosa or tea).  \n",
      "   - *Tip*: Ooty is best explored early to avoid crowds.\n",
      "\n",
      "2. **Botanical Garden (9:00 AM - 10:30 AM)**  \n",
      "   - Visit the **Government Botanical Garden**, a must-see with its lush greenery, fossil tree, and flower shows.  \n",
      "   - *Tip*: Wear comfortable shoes for walking.\n",
      "\n",
      "3. **Ooty Lake (10:30 AM - 11:30 AM)**  \n",
      "   - Head to **Ooty Lake** for a peaceful walk or a short boat ride (rowboats/paddle boats available).  \n",
      "   - *Tip*: Carry a light jacket as it can get chilly.\n",
      "\n",
      "4. **Doddabetta Peak (11:30 AM - 12:00 PM)**  \n",
      "   - Drive to **Doddabetta Peak**, the highest point in Nilgiris, for panoramic views of the hills.  \n",
      "   - *Tip*: Visit early for clearer views.\n",
      "\n",
      "---\n",
      "\n",
      "#### **Afternoon (12:00 PM - 3:00 PM)**\n",
      "5. **Lunch (12:30 PM - 1:30 PM)**  \n",
      "   - Enjoy a meal at **Earl’s Secret** or **Hyderabad Biryani House** for local and multi-cuisine options.  \n",
      "\n",
      "6. **Tea Factory & Museum (1:30 PM - 2:30 PM)**  \n",
      "   - Visit the **Tea Factory and Museum** to learn about tea production and enjoy a fresh cup of Nilgiri tea.  \n",
      "   - *Tip*: Buy tea leaves as souvenirs.\n",
      "\n",
      "7. **Rose Garden (2:30 PM - 3:00 PM)**  \n",
      "   - Stop by the **Government Rose Garden**, home to thousands of rose varieties.  \n",
      "   - *Tip*: Skip if short on time.\n",
      "\n",
      "---\n",
      "\n",
      "#### **Evening (3:00 PM - 6:00 PM)**\n",
      "8. **Pykara Lake & Falls (3:30 PM - 5:00 PM)**  \n",
      "   - Drive to **Pykara Lake** for a serene boat ride and visit the nearby **Pykara Falls**.  \n",
      "   - *Tip*: Carry snacks for the journey.\n",
      "\n",
      "9. **Charle’s Chocolate Factory (5:00 PM - 5:30 PM)**  \n",
      "   - Visit **Charle’s Chocolate Factory** for homemade chocolates and truffles.  \n",
      "   - *Tip*: Try their dark chocolate variants.\n",
      "\n",
      "10. **Sunset at Shooting Point (5:30 PM - 6:00 PM)**  \n",
      "    - End the day at **Shooting Point** (near Pykara) for a picturesque sunset.  \n",
      "\n",
      "---\n",
      "\n",
      "#### **Night (6:00 PM Onwards)**\n",
      "11. **Dinner & Departure (6:30 PM - 7:30 PM)**  \n",
      "    - Have dinner at **Willy’s Coffee Pub** or **Place to Bee** (known for honey-based dishes).  \n",
      "    - Depart Ooty with memories of its natural beauty.  \n",
      "\n",
      "---\n",
      "\n",
      "### **Travel Tips**  \n",
      "- **Transport**: Hire a local cab or use your own vehicle for convenience.  \n",
      "- **Weather**: Carry a light jacket and umbrella (Ooty can be unpredictable).  \n",
      "- **Timing**: Stick to the schedule to cover all highlights.  \n",
      "\n",
      "Enjoy your day in Ooty!\n"
     ]
    }
   ],
   "source": [
    "response: AIMessage = llm.invoke(prompt)\n",
    "print(response.content)"
   ]
  },
  {
   "cell_type": "markdown",
   "id": "a98b052b",
   "metadata": {},
   "source": [
    "### 2. Customer Support Bot with Context\n",
    "#### Tags: ChatPromptTemplate, SystemMessage, MessagesPlaceholder\n",
    "#### Task: Build a prompt template for a customer support bot where the system message sets the tone (“helpful and polite support agent”), the conversation history is preserved using MessagesPlaceholder, and the human input contains the current customer query.\n"
   ]
  },
  {
   "cell_type": "code",
   "execution_count": 7,
   "id": "5b8f81fe",
   "metadata": {},
   "outputs": [],
   "source": [
    "# prompt_template = ChatPromptTemplate.from_messages(\n",
    "#     [\n",
    "#         (\"system\", \"\"\" You are a helpful and polite customer support agent. \n",
    "# Your role is to assist users with their questions, issues, or concerns in a clear, professional, and friendly manner. \n",
    "# Always provide accurate information, step-by-step guidance if needed, and maintain a courteous tone. \n",
    "# If you do not know the answer, politely inform the user and suggest the next steps or resources. give maximum 2 line answer\n",
    "# \"\"\"),\n",
    "#         (\"human\", \"{question}\")\n",
    "#     ]\n",
    "# )\n",
    "\n",
    "# prompt = prompt_template.invoke(\"I can’t track my shipment product\")\n",
    "# response: AIMessage = llm.invoke(prompt)\n",
    "# print(response.content)"
   ]
  },
  {
   "cell_type": "code",
   "execution_count": 8,
   "id": "852f60b3",
   "metadata": {},
   "outputs": [
    {
     "data": {
      "text/plain": [
       "ChatPromptTemplate(input_variables=['history', 'query'], input_types={'history': list[typing.Annotated[typing.Union[typing.Annotated[langchain_core.messages.ai.AIMessage, Tag(tag='ai')], typing.Annotated[langchain_core.messages.human.HumanMessage, Tag(tag='human')], typing.Annotated[langchain_core.messages.chat.ChatMessage, Tag(tag='chat')], typing.Annotated[langchain_core.messages.system.SystemMessage, Tag(tag='system')], typing.Annotated[langchain_core.messages.function.FunctionMessage, Tag(tag='function')], typing.Annotated[langchain_core.messages.tool.ToolMessage, Tag(tag='tool')], typing.Annotated[langchain_core.messages.ai.AIMessageChunk, Tag(tag='AIMessageChunk')], typing.Annotated[langchain_core.messages.human.HumanMessageChunk, Tag(tag='HumanMessageChunk')], typing.Annotated[langchain_core.messages.chat.ChatMessageChunk, Tag(tag='ChatMessageChunk')], typing.Annotated[langchain_core.messages.system.SystemMessageChunk, Tag(tag='SystemMessageChunk')], typing.Annotated[langchain_core.messages.function.FunctionMessageChunk, Tag(tag='FunctionMessageChunk')], typing.Annotated[langchain_core.messages.tool.ToolMessageChunk, Tag(tag='ToolMessageChunk')]], FieldInfo(annotation=NoneType, required=True, discriminator=Discriminator(discriminator=<function _get_type at 0x0000029E02B8A840>, custom_error_type=None, custom_error_message=None, custom_error_context=None))]]}, partial_variables={}, messages=[SystemMessagePromptTemplate(prompt=PromptTemplate(input_variables=[], input_types={}, partial_variables={}, template=' You are a helpful and polite customer support agent. \\nYour role is to assist users with their questions, issues, or concerns in a clear, professional, and friendly manner. \\nAlways provide accurate information, step-by-step guidance if needed, and maintain a courteous tone. \\nIf you do not know the answer, politely inform the user and suggest the next steps or resources.\\n '), additional_kwargs={}), MessagesPlaceholder(variable_name='history'), HumanMessagePromptTemplate(prompt=PromptTemplate(input_variables=['query'], input_types={}, partial_variables={}, template='{query}'), additional_kwargs={})])"
      ]
     },
     "execution_count": 8,
     "metadata": {},
     "output_type": "execute_result"
    }
   ],
   "source": [
    "customer_prompt = ChatPromptTemplate.from_messages(\n",
    "    [\n",
    "        (\"system\", \"\"\" You are a helpful and polite customer support agent. \n",
    "Your role is to assist users with their questions, issues, or concerns in a clear, professional, and friendly manner. \n",
    "Always provide accurate information, step-by-step guidance if needed, and maintain a courteous tone. \n",
    "If you do not know the answer, politely inform the user and suggest the next steps or resources.\n",
    " \"\"\"),\n",
    "        MessagesPlaceholder(\"history\"),\n",
    "        (\"human\", \"{query}\")\n",
    "    ]\n",
    ")\n",
    "customer_prompt"
   ]
  },
  {
   "cell_type": "code",
   "execution_count": 9,
   "id": "41917a78",
   "metadata": {},
   "outputs": [],
   "source": [
    "prompt = customer_prompt.invoke(\n",
    "    {\n",
    "        \"history\": [\n",
    "            (\"human\", \"I can’t track my shipment product\"),\n",
    "            (\"ai\", \"I'm sorry to hear you're having trouble tracking your shipment. Could you please provide the tracking number or order details so I can assist you further?\")\n",
    "        ],\n",
    "        \"query\" : \"My product is broken\"\n",
    "    }\n",
    ")"
   ]
  },
  {
   "cell_type": "code",
   "execution_count": 10,
   "id": "8d425192",
   "metadata": {},
   "outputs": [
    {
     "name": "stdout",
     "output_type": "stream",
     "text": [
      "I'm sorry to hear that your product arrived broken. Let’s get this resolved for you as quickly as possible. Here’s what you can do:\n",
      "\n",
      "1. **Document the Damage**: Take clear photos of the broken product and its packaging, if possible. This will help with the claims process.\n",
      "\n",
      "2. **Contact Customer Support**: Reach out to the seller or the shipping carrier’s customer service. Provide them with your order number, tracking number, and details about the damage. Most companies have a dedicated process for handling damaged items.\n",
      "\n",
      "3. **Check the Return/Refund Policy**: Review the seller’s return or refund policy to understand your options. Many companies offer replacements or refunds for damaged items.\n",
      "\n",
      "4. **File a Claim (if applicable)**: If the item was shipped through a carrier, you may need to file a damage claim with them. They will guide you through the process.\n",
      "\n",
      "5. **Keep Records**: Save all communication, receipts, and documentation related to the issue.\n",
      "\n",
      "If you’re unsure who to contact or need further assistance, please let me know the company or platform you purchased from, and I’ll guide you on the next steps!\n"
     ]
    }
   ],
   "source": [
    "response: AIMessage = llm.invoke(prompt)\n",
    "print(response.content)"
   ]
  },
  {
   "cell_type": "markdown",
   "id": "31520a77",
   "metadata": {},
   "source": [
    "### 3. Medical Symptom Checker (Educational Purpose)\n",
    "#### Tags: PromptTemplate, ChatPromptTemplate\n",
    "#### Task: Create a template where the model acts as a medical knowledge assistant (for educational use only) that takes in symptoms and returns possible causes in layman terms, along with a recommendation to see a doctor."
   ]
  },
  {
   "cell_type": "code",
   "execution_count": 11,
   "id": "a4afe8e9",
   "metadata": {},
   "outputs": [],
   "source": [
    "template = \"\"\"You are a medical knowledge assistant, and your purpose is for educational use only.\n",
    "Take the input symptoms: {symptoms}, and return possible causes in simple layman terms.\n",
    "Always include a recommendation to see a doctor for proper diagnosis and treatment.\"\"\""
   ]
  },
  {
   "cell_type": "code",
   "execution_count": 12,
   "id": "5ba6e24f",
   "metadata": {},
   "outputs": [
    {
     "data": {
      "text/plain": [
       "PromptTemplate(input_variables=['symptoms'], input_types={}, partial_variables={}, template='You are a medical knowledge assistant, and your purpose is for educational use only.\\nTake the input symptoms: {symptoms}, and return possible causes in simple layman terms.\\nAlways include a recommendation to see a doctor for proper diagnosis and treatment.')"
      ]
     },
     "execution_count": 12,
     "metadata": {},
     "output_type": "execute_result"
    }
   ],
   "source": [
    "medical_prompt = PromptTemplate.from_template(template)\n",
    "medical_prompt"
   ]
  },
  {
   "cell_type": "code",
   "execution_count": 13,
   "id": "a9a6fe25",
   "metadata": {},
   "outputs": [],
   "source": [
    "prompt = medical_prompt.invoke({\n",
    "    \"symptoms\" : \"Today i have a cough\"\n",
    "})"
   ]
  },
  {
   "cell_type": "code",
   "execution_count": 14,
   "id": "0e20fc1c",
   "metadata": {},
   "outputs": [
    {
     "name": "stdout",
     "output_type": "stream",
     "text": [
      "If you have a cough today, it could be due to several possible causes. Here are some common reasons in simple terms:\n",
      "\n",
      "1. **Common Cold**: A viral infection that often causes a cough along with a runny or stuffy nose, sneezing, and a sore throat.  \n",
      "2. **Flu (Influenza)**: Similar to a cold but usually more severe, with symptoms like fever, body aches, and a persistent cough.  \n",
      "3. **Allergies**: Exposure to allergens like pollen, dust, or pet dander can trigger a cough, especially if you have allergies or asthma.  \n",
      "4. **Sinus Infection**: When sinuses become inflamed or infected, postnasal drip can irritate your throat and cause coughing.  \n",
      "5. **Bronchitis**: Inflammation of the bronchial tubes in your lungs, often caused by a virus or bacteria, leading to a persistent cough.  \n",
      "6. **Asthma**: A chronic condition where airways become inflamed and narrow, causing coughing, wheezing, and shortness of breath.  \n",
      "7. **Acid Reflux (GERD)**: Stomach acid flowing back into the throat can irritate it and trigger a cough, especially at night or after eating.  \n",
      "8. **Infection (e.g., Pneumonia)**: A more serious lung infection that can cause a cough, fever, and difficulty breathing.  \n",
      "9. **Environmental Irritants**: Exposure to smoke, pollution, or chemicals can irritate your airways and lead to coughing.  \n",
      "\n",
      "**Recommendation**: While many coughs are mild and resolve on their own, it’s important to see a doctor if your cough is severe, lasts more than a few weeks, is accompanied by fever, difficulty breathing, or blood, or if you have underlying health conditions. A doctor can provide a proper diagnosis and recommend the best treatment for you.\n"
     ]
    }
   ],
   "source": [
    "response = llm.invoke(prompt)\n",
    "print(response.content)"
   ]
  },
  {
   "cell_type": "markdown",
   "id": "34f09d3e",
   "metadata": {},
   "source": [
    "#### 4. AI Resume Tailor\n",
    "##### Tags: ChatPromptTemplate, SystemMessage, MessagesPlaceholder\n",
    "##### Task: Make a prompt template that takes a user’s resume text, a job description, and past conversation history, and rewrites the resume to highlight relevant skills."
   ]
  },
  {
   "cell_type": "code",
   "execution_count": 15,
   "id": "09163821",
   "metadata": {},
   "outputs": [
    {
     "data": {
      "text/plain": [
       "ChatPromptTemplate(input_variables=['history', 'resume'], input_types={'history': list[typing.Annotated[typing.Union[typing.Annotated[langchain_core.messages.ai.AIMessage, Tag(tag='ai')], typing.Annotated[langchain_core.messages.human.HumanMessage, Tag(tag='human')], typing.Annotated[langchain_core.messages.chat.ChatMessage, Tag(tag='chat')], typing.Annotated[langchain_core.messages.system.SystemMessage, Tag(tag='system')], typing.Annotated[langchain_core.messages.function.FunctionMessage, Tag(tag='function')], typing.Annotated[langchain_core.messages.tool.ToolMessage, Tag(tag='tool')], typing.Annotated[langchain_core.messages.ai.AIMessageChunk, Tag(tag='AIMessageChunk')], typing.Annotated[langchain_core.messages.human.HumanMessageChunk, Tag(tag='HumanMessageChunk')], typing.Annotated[langchain_core.messages.chat.ChatMessageChunk, Tag(tag='ChatMessageChunk')], typing.Annotated[langchain_core.messages.system.SystemMessageChunk, Tag(tag='SystemMessageChunk')], typing.Annotated[langchain_core.messages.function.FunctionMessageChunk, Tag(tag='FunctionMessageChunk')], typing.Annotated[langchain_core.messages.tool.ToolMessageChunk, Tag(tag='ToolMessageChunk')]], FieldInfo(annotation=NoneType, required=True, discriminator=Discriminator(discriminator=<function _get_type at 0x0000029E02B8A840>, custom_error_type=None, custom_error_message=None, custom_error_context=None))]]}, partial_variables={}, messages=[SystemMessagePromptTemplate(prompt=PromptTemplate(input_variables=[], input_types={}, partial_variables={}, template='You are an expert resume writer and career advisor. Your job is to tailor resumes for specific job applications while keeping them professional.'), additional_kwargs={}), MessagesPlaceholder(variable_name='history'), HumanMessagePromptTemplate(prompt=PromptTemplate(input_variables=['resume'], input_types={}, partial_variables={}, template='{resume}'), additional_kwargs={})])"
      ]
     },
     "execution_count": 15,
     "metadata": {},
     "output_type": "execute_result"
    }
   ],
   "source": [
    "resume_prompt = ChatPromptTemplate.from_messages(\n",
    "    [\n",
    "        (\"system\", \"You are an expert resume writer and career advisor. Your job is to tailor resumes for specific job applications while keeping them professional.\"),\n",
    "        MessagesPlaceholder(\"history\"),\n",
    "        (\"human\", \"{resume}\")\n",
    "    ]\n",
    ")\n",
    "resume_prompt"
   ]
  },
  {
   "cell_type": "code",
   "execution_count": 16,
   "id": "63d9a6ef",
   "metadata": {},
   "outputs": [],
   "source": [
    "prompt = resume_prompt.invoke(\n",
    "    {\n",
    "        \"history\": [\n",
    "            (\"human\", \"what is the job description in python\"),\n",
    "            (\"ai\", \"\"\"In Python, a \"job description\" typically refers to a structured representation of a job posting or role, often used in job boards, recruitment platforms, or career websites. It usually includes details like job title, responsibilities, requirements, qualifications, and company information. When working with job descriptions in Python, you might parse, analyze, or generate them using libraries like `BeautifulSoup` for web scraping, `spaCy` or `NLTK` for natural language processing, or `pandas` for data manipulation. For example, you might extract keywords, categorize job roles, or match candidates to job postings based on skills and experience. Python's versatility allows for automating tasks like scraping job boards, analyzing trends in job markets, or building recommendation systems for job seekers.\"\"\")\n",
    "        ],\n",
    "        \"resume\" : \"\"\"Resume text: “Worked as a software engineer at XYZ. Developed apps in Python and Java.\n",
    "Job description: Looking for a backend engineer with Python, API development, and cloud skills.\"\"\"\n",
    "    }\n",
    ")"
   ]
  },
  {
   "cell_type": "code",
   "execution_count": 17,
   "id": "9cf1263e",
   "metadata": {},
   "outputs": [
    {
     "name": "stdout",
     "output_type": "stream",
     "text": [
      "Here’s how you can tailor the resume text to align with the job description for a **Backend Engineer** role:\n",
      "\n",
      "**Tailored Resume Text:**  \n",
      "\"Experienced **Backend Engineer** with a strong background in developing scalable applications using **Python** and **Java**. Designed and implemented robust **APIs** to support seamless integration between systems. Proficient in leveraging **cloud technologies** to optimize application performance and reliability. At XYZ, successfully delivered backend solutions that improved system efficiency by 20%.\"\n",
      "\n",
      "**Key Improvements:**  \n",
      "1. **Highlighted Relevant Skills:** Emphasized Python, API development, and cloud skills, which are explicitly mentioned in the job description.  \n",
      "2. **Role Alignment:** Changed \"Software Engineer\" to \"Backend Engineer\" to directly match the job title.  \n",
      "3. **Quantifiable Achievement:** Added a measurable outcome to demonstrate impact.  \n",
      "4. **Keyword Matching:** Ensured the resume includes terms like \"backend,\" \"APIs,\" and \"cloud\" to pass Applicant Tracking Systems (ATS) and catch the recruiter's attention.  \n",
      "\n",
      "This tailored version makes it clear that the candidate is a strong fit for the role.\n"
     ]
    }
   ],
   "source": [
    "response = llm.invoke(prompt)\n",
    "print(response.content)"
   ]
  },
  {
   "cell_type": "markdown",
   "id": "8872b613",
   "metadata": {},
   "source": [
    "####  5. Storytelling Bot for Kids\n",
    "##### Tags: PromptTemplate, SystemMessage\n",
    "##### Task: Build a prompt template for an AI that generates bedtime stories for children, with inputs for theme, age group, and moral lesson."
   ]
  },
  {
   "cell_type": "code",
   "execution_count": null,
   "id": "75fa9e81",
   "metadata": {},
   "outputs": [],
   "source": [
    "template = \"\"\"\n",
    "You are a creative story teller who writes engaging, age-appropriate bedtime stories for children.\n",
    "\n",
    "Inputs: \n",
    "- Theme: {theme}\n",
    "- Age Group: {age_group}\n",
    "- Moral Lesson: {moral_lesson}\n",
    "\n",
    "Task:\n",
    "Write a warm, imaginative, and simple bedtime story based on the theme. \n",
    "The story should be suitable for the given age group, easy to understand, and entertaining. \n",
    "Make sure the moral lesson is gently conveyed at the end of the story. \n",
    "Keep the tone positive, calming, and magical.\n",
    "\"\"\"\n"
   ]
  },
  {
   "cell_type": "code",
   "execution_count": 19,
   "id": "d5b6451f",
   "metadata": {},
   "outputs": [
    {
     "data": {
      "text/plain": [
       "PromptTemplate(input_variables=['age_group', 'moral_lesson', 'theme'], input_types={}, partial_variables={}, template='\\nYou are a creative storyteller who writes engaging, age-appropriate bedtime stories for children.\\n\\nInputs: \\n- Theme: {theme}\\n- Age Group: {age_group}\\n- Moral Lesson: {moral_lesson}\\n\\nTask:\\nWrite a warm, imaginative, and simple bedtime story based on the theme. \\nThe story should be suitable for the given age group, easy to understand, and entertaining. \\nMake sure the moral lesson is gently conveyed at the end of the story. \\nKeep the tone positive, calming, and magical.\\n')"
      ]
     },
     "execution_count": 19,
     "metadata": {},
     "output_type": "execute_result"
    }
   ],
   "source": [
    "story_telling_prompt = PromptTemplate.from_template(template)\n",
    "story_telling_prompt"
   ]
  },
  {
   "cell_type": "code",
   "execution_count": 26,
   "id": "9df42723",
   "metadata": {},
   "outputs": [
    {
     "data": {
      "text/plain": [
       "StringPromptValue(text='\\nYou are a creative storyteller who writes engaging, age-appropriate bedtime stories for children.\\n\\nInputs: \\n- Theme: fairy tail\\n- Age Group: 3\\n- Moral Lesson: Never act before you think\\n\\nTask:\\nWrite a warm, imaginative, and simple bedtime story based on the theme. \\nThe story should be suitable for the given age group, easy to understand, and entertaining. \\nMake sure the moral lesson is gently conveyed at the end of the story. \\nKeep the tone positive, calming, and magical.\\n')"
      ]
     },
     "execution_count": 26,
     "metadata": {},
     "output_type": "execute_result"
    }
   ],
   "source": [
    "prompt_template = story_telling_prompt.invoke(\n",
    "    {\n",
    "        \"theme\" : \"fairy tail\",\n",
    "        \"age_group\" : 3,\n",
    "        \"moral_lesson\" : \"Never act before you think\"\n",
    "    }\n",
    ")\n",
    "prompt_template"
   ]
  },
  {
   "cell_type": "code",
   "execution_count": 27,
   "id": "67d2e145",
   "metadata": {},
   "outputs": [
    {
     "name": "stdout",
     "output_type": "stream",
     "text": [
      "**The Magical Pond of Patience**\n",
      "\n",
      "Once upon a time, in a sparkling forest filled with twinkling fireflies and soft, glowing flowers, there lived a little fairy named Lila. Lila had sparkly wings that shimmered like the morning dew and a heart full of curiosity. She loved to explore the forest, but sometimes her excitement made her rush into things without thinking.\n",
      "\n",
      "One sunny morning, Lila fluttered over to her best friend, a wise old turtle named Mr. Shellington, who lived by the Magical Pond. \"Mr. Shellington!\" Lila called out, her voice bubbling with excitement. \"I heard there’s a special flower at the bottom of the pond that grants wishes! Let’s go get it right now!\"\n",
      "\n",
      "Mr. Shellington slowly turned his head, his kind eyes twinkling. \"Now, Lila, remember what I always say: *Think before you leap.* The pond is beautiful, but it has its mysteries. Let’s take a moment to plan.\"\n",
      "\n",
      "But Lila was too excited to wait. \"There’s no time to think! The flower might disappear!\" With a flutter of her wings, she zoomed toward the pond and dove right in without looking.\n",
      "\n",
      "Splash! The water was cool and sparkly, but as Lila swam deeper, she realized something was wrong. The pond was darker than she expected, and she couldn’t see the flower anywhere. Worse, she got tangled in some slippery seaweed and couldn’t find her way back to the surface.\n",
      "\n",
      "Just as Lila started to feel scared, Mr. Shellington appeared, his shell glowing softly in the water. \"Lila, I’m here,\" he said calmly. \"Let’s take a deep breath and think. Can you follow my shell back to the surface?\"\n",
      "\n",
      "Lila nodded, her heart slowing down. She followed Mr. Shellington’s glowing shell, and soon they were back in the warm sunlight. Lila sat on the edge of the pond, catching her breath.\n",
      "\n",
      "\"I’m sorry, Mr. Shellington,\" she said, her voice small. \"I should have listened to you. I was so excited I didn’t think.\"\n",
      "\n",
      "Mr. Shellington smiled gently. \"It’s okay, Lila. We all make mistakes. The important thing is to learn from them. Sometimes, when we act too quickly, we miss important things—like the fact that the wishing flower only blooms at night, and it’s right here by the shore!\"\n",
      "\n",
      "Lila looked down and gasped. There it was, a tiny, glowing flower with petals that shimmered like stars. She giggled, her sparkly wings fluttering happily.\n",
      "\n",
      "\"Thank you, Mr. Shellington,\" she said, hugging him gently. \"I’ll always remember to think before I leap. And maybe I’ll wait for nighttime to make my wish!\"\n",
      "\n",
      "From that day on, Lila became a little more patient, always taking a moment to think before she acted. And every night, she visited the Magical Pond to admire the wishing flower, knowing that the best things in life are worth waiting for.\n",
      "\n",
      "**Moral of the Story:**  \n",
      "Never act before you think, for patience and thoughtfulness can lead to the most magical moments of all.  \n",
      "\n",
      "Sweet dreams, little one. May your nights be filled with sparkles and wise choices. 🌟\n"
     ]
    }
   ],
   "source": [
    "response = llm.invoke(prompt_template)\n",
    "print(response.content)"
   ]
  },
  {
   "cell_type": "markdown",
   "id": "be67d1fc",
   "metadata": {},
   "source": [
    "#### 6. Social Media Caption Creator\n",
    "##### Tags: ChatPromptTemplate\n",
    "##### Task: Create a chat prompt template that generates catchy Instagram captions based on a product description, tone (funny, motivational, luxury), and audience type."
   ]
  },
  {
   "cell_type": "code",
   "execution_count": 23,
   "id": "e1671b70",
   "metadata": {},
   "outputs": [],
   "source": [
    "media_caption_template = ChatPromptTemplate.from_messages(\n",
    "    [\n",
    "        (\"system\", \"\"\"\n",
    "        You are a creative social media assistant who specializes in writing catchy Instagram captions. \n",
    "Your job is to generate short, engaging, and attention-grabbing captions based on three inputs:\n",
    "1. Product description\n",
    "2. Tone (funny, motivational, luxury)\n",
    "3. Audience type (e.g., teenagers, professionals, parents, travelers)\n",
    "\n",
    "Guidelines:\n",
    "- Keep captions concise (under 20 words).\n",
    "- Use emojis where appropriate to enhance engagement.\n",
    "- Adapt the style and word choice to match the requested tone and audience.\n",
    "- Always make the product sound appealing and share-worthy. \n",
    "\"\"\"),\n",
    "        (\"human\", \"{input}\")\n",
    "    ]\n",
    ")"
   ]
  },
  {
   "cell_type": "code",
   "execution_count": 29,
   "id": "a29af554",
   "metadata": {},
   "outputs": [
    {
     "data": {
      "text/plain": [
       "ChatPromptValue(messages=[SystemMessage(content='\\n        You are a creative social media assistant who specializes in writing catchy Instagram captions. \\nYour job is to generate short, engaging, and attention-grabbing captions based on three inputs:\\n1. Product description\\n2. Tone (funny, motivational, luxury)\\n3. Audience type (e.g., teenagers, professionals, parents, travelers)\\n\\nGuidelines:\\n- Keep captions concise (under 20 words).\\n- Use emojis where appropriate to enhance engagement.\\n- Adapt the style and word choice to match the requested tone and audience.\\n- Always make the product sound appealing and share-worthy. \\n', additional_kwargs={}, response_metadata={}), HumanMessage(content='write instagram captions in funny way', additional_kwargs={}, response_metadata={})])"
      ]
     },
     "execution_count": 29,
     "metadata": {},
     "output_type": "execute_result"
    }
   ],
   "source": [
    "media_prompt = media_caption_template.invoke({\n",
    "    \"input\": \"write instagram captions in funny way\"\n",
    "})\n",
    "media_prompt"
   ]
  },
  {
   "cell_type": "code",
   "execution_count": 32,
   "id": "e7c4a401",
   "metadata": {},
   "outputs": [
    {
     "name": "stdout",
     "output_type": "stream",
     "text": [
      "Here are three funny Instagram captions for different products:\n",
      "\n",
      "1. **Product:** Oversized hoodie\n",
      "**Caption:** Snuggle season is here! 🍂 This hoodie is basically a hug you can wear. 😏 #CozyAF #HoodieWeather\n",
      "\n",
      "2. **Product:** Instant coffee packets\n",
      "**Caption:** Adulting is hard, but this coffee makes it a little less terrible. ☕️ #ButFirstCoffee #InstantGratification\n",
      "\n",
      "3. **Product:** Colorful socks\n",
      "**Caption:** My socks are cooler than your personality. 😎🧦 #SockGameStrong #FeetSelfie\n",
      "\n",
      "Let me know if you'd like me to create more funny captions for specific products!\n"
     ]
    }
   ],
   "source": [
    "response = llm.invoke(media_prompt)\n",
    "print(response.content)"
   ]
  },
  {
   "cell_type": "markdown",
   "id": "2b357d9f",
   "metadata": {},
   "source": [
    "#### 7. AI Language Tutor\n",
    "##### Tags: ChatPromptTemplate, SystemMessage, MessagesPlaceholder\n",
    "##### Task: Create a template where the AI acts as a language teacher, remembers past vocabulary from MessagesPlaceholder, and uses them in follow-up example sentences. "
   ]
  },
  {
   "cell_type": "code",
   "execution_count": 38,
   "metadata": {},
   "outputs": [],
   "source": [
    "language_prompt = ChatPromptTemplate.from_messages(\n",
    "    [\n",
    "        (\"system\", \"\"\"You are an AI language tutor. \n",
    "- Teach the user vocabulary and grammar step by step.  \n",
    "- When the user learns a new word, remember it.  \n",
    "- Reuse previously learned vocabulary in your examples and exercises.  \n",
    "- Give short, practical example sentences.  \n",
    "- Correct the user gently if they make mistakes.  \n",
    "\"\"\"),\n",
    "        MessagesPlaceholder(\"history\"),\n",
    "        (\"human\", \"{input}\")\n",
    "    ]\n",
    ")"
   ]
  },
  {
   "cell_type": "code",
   "execution_count": 44,
   "id": "70c34b99",
   "metadata": {},
   "outputs": [
    {
     "data": {
      "text/plain": [
       "ChatPromptValue(messages=[SystemMessage(content='You are an AI language tutor. \\n- Teach the user vocabulary and grammar step by step.  \\n- When the user learns a new word, remember it.  \\n- Reuse previously learned vocabulary in your examples and exercises.  \\n- Give short, practical example sentences.  \\n- Correct the user gently if they make mistakes.  \\n', additional_kwargs={}, response_metadata={}), HumanMessage(content='what is the apple in hindi', additional_kwargs={}, response_metadata={}), AIMessage(content='In Hindi, the word for \"apple\" is **सेब** (pronounced as \"seb\").  \\n\\nExample sentence:  \\n**मैंने एक सेब खाया।**  \\n(I ate an apple.)  \\n\\nRemember:  \\n- **सेब** (seb) is a masculine noun in Hindi.  \\n- You can use it in sentences like: **क्या तुम्हें सेब पसंद है?** (Do you like apples?)  \\n\\nLet me know if you\\'d like to learn more words or practice further!', additional_kwargs={}, response_metadata={}), HumanMessage(content='what is the man in Arabic', additional_kwargs={}, response_metadata={})])"
      ]
     },
     "execution_count": 44,
     "metadata": {},
     "output_type": "execute_result"
    }
   ],
   "source": [
    "prompt = language_prompt.invoke(\n",
    "    {\n",
    "        \"history\": [\n",
    "            (\"human\", \"what is the apple in hindi\"), (\"ai\", \"\"\"In Hindi, the word for \"apple\" is **सेब** (pronounced as \"seb\").  \n",
    "\n",
    "Example sentence:  \n",
    "**मैंने एक सेब खाया।**  \n",
    "(I ate an apple.)  \n",
    "\n",
    "Remember:  \n",
    "- **सेब** (seb) is a masculine noun in Hindi.  \n",
    "- You can use it in sentences like: **क्या तुम्हें सेब पसंद है?** (Do you like apples?)  \n",
    "\n",
    "Let me know if you'd like to learn more words or practice further!\"\"\")\n",
    "        ],\n",
    "        \"input\": \"what is the man in Arabic\"\n",
    "    }\n",
    ")\n",
    "prompt"
   ]
  },
  {
   "cell_type": "code",
   "execution_count": 45,
   "id": "42bd26df",
   "metadata": {},
   "outputs": [
    {
     "name": "stdout",
     "output_type": "stream",
     "text": [
      "In Arabic, the word for \"man\" is **رَجُل** (pronounced as \"rajul\").  \n",
      "\n",
      "Example sentence:  \n",
      "**الرَجُلُ واقِفٌ هُناك.**  \n",
      "(The man is standing over there.)  \n",
      "\n",
      "Remember:  \n",
      "- **رَجُل** (rajul) is a masculine noun in Arabic.  \n",
      "- The definite article **الـ** (al) is added to make it \"the man.\"  \n",
      "\n",
      "Let me know if you'd like to learn more words or practice further!\n"
     ]
    }
   ],
   "source": [
    "response = llm.invoke(prompt)\n",
    "print(response.content)"
   ]
  },
  {
   "cell_type": "markdown",
   "id": "b43f4771",
   "metadata": {},
   "source": [
    "### 8. Legal Document Simplifier\n",
    "#### Tags: PromptTemplate, SystemMessage\n",
    "#### Task: Create a prompt template where the system message says “You are a legal document simplifier” and the human input is a paragraph of legal text. The output should be plain-language explanation."
   ]
  },
  {
   "cell_type": "code",
   "execution_count": 46,
   "id": "9af4cbb6",
   "metadata": {},
   "outputs": [],
   "source": [
    "template = \"\"\"You are a legal document simplifier. Your job is to read the following legal text and explain it in plain, simple, everyday language that anyone can understand.\n",
    "        Legal text:{legal_text} Simplified explanation about human message.\"\"\""
   ]
  },
  {
   "cell_type": "code",
   "execution_count": 47,
   "id": "f48a1ca1",
   "metadata": {},
   "outputs": [
    {
     "data": {
      "text/plain": [
       "PromptTemplate(input_variables=['legal_text'], input_types={}, partial_variables={}, template='You are a legal document simplifier. Your job is to read the following legal text and explain it in plain, simple, everyday language that anyone can understand.\\n        Legal text:{legal_text} Simplified explanation about human message.')"
      ]
     },
     "execution_count": 47,
     "metadata": {},
     "output_type": "execute_result"
    }
   ],
   "source": [
    "legal_document_simplifier = PromptTemplate.from_template(template)\n",
    "legal_document_simplifier"
   ]
  },
  {
   "cell_type": "code",
   "execution_count": 51,
   "id": "585e9926",
   "metadata": {},
   "outputs": [
    {
     "data": {
      "text/plain": [
       "StringPromptValue(text='You are a legal document simplifier. Your job is to read the following legal text and explain it in plain, simple, everyday language that anyone can understand.\\n        Legal text:The party of the first part agrees to deliver the goods to the party of the second part no later than thirty (30) days from the execution of this agreement. In the event of a delay caused by unforeseen circumstances beyond the control of the party of the first part, an extension of up to fifteen (15) days shall be permitted, provided that written notice is given to the party of the second part within five (5) business days of the occurrence of such circumstances. Simplified explanation about human message.')"
      ]
     },
     "execution_count": 51,
     "metadata": {},
     "output_type": "execute_result"
    }
   ],
   "source": [
    "doc_simplifier = legal_document_simplifier.invoke(\n",
    "    {\n",
    "        \"legal_text\": \"The party of the first part agrees to deliver the goods to the party of the second part no later than thirty (30) days from the execution of this agreement. In the event of a delay caused by unforeseen circumstances beyond the control of the party of the first part, an extension of up to fifteen (15) days shall be permitted, provided that written notice is given to the party of the second part within five (5) business days of the occurrence of such circumstances.\"\n",
    "    }\n",
    ")\n",
    "doc_simplifier"
   ]
  },
  {
   "cell_type": "code",
   "execution_count": 53,
   "id": "ee46e9cd",
   "metadata": {},
   "outputs": [
    {
     "name": "stdout",
     "output_type": "stream",
     "text": [
      "Here’s the simplified explanation in plain, everyday language:\n",
      "\n",
      "**One person (let’s call them \"Party A\") agrees to deliver goods to another person (\"Party B\") within 30 days of signing this agreement.**  \n",
      "\n",
      "**If something unexpected happens that’s completely out of Party A’s control (like a natural disaster or a supply chain issue), they can get an extra 15 days to deliver the goods. But, Party A has to let Party B know in writing within 5 business days after the problem starts.**  \n",
      "\n",
      "In short:  \n",
      "- **Party A delivers goods to Party B within 30 days.**  \n",
      "- **If there’s an unexpected delay, Party A gets 15 extra days, but they must tell Party B quickly (within 5 business days).**\n"
     ]
    }
   ],
   "source": [
    "response = llm.invoke(doc_simplifier)\n",
    "print(response.content)"
   ]
  },
  {
   "cell_type": "markdown",
   "id": "8523e825",
   "metadata": {},
   "source": [
    "### 9. News Summarizer with Style\n",
    "#### Tags: ChatPromptTemplate\n",
    "#### Task: Build a prompt template that takes a news article and outputs a summary in a chosen style: formal, conversational, or humorous."
   ]
  },
  {
   "cell_type": "code",
   "execution_count": 59,
   "id": "652e13bb",
   "metadata": {},
   "outputs": [
    {
     "data": {
      "text/plain": [
       "ChatPromptTemplate(input_variables=['article_text', 'style'], input_types={}, partial_variables={}, messages=[SystemMessagePromptTemplate(prompt=PromptTemplate(input_variables=['style'], input_types={}, partial_variables={}, template='You are a news summarizer. You will read the following news article and create a concise summary. The summary must be written in the chosen style {style}. Available styles: formal, conversational, humorous.'), additional_kwargs={}), HumanMessagePromptTemplate(prompt=PromptTemplate(input_variables=['article_text'], input_types={}, partial_variables={}, template='{article_text}'), additional_kwargs={})])"
      ]
     },
     "execution_count": 59,
     "metadata": {},
     "output_type": "execute_result"
    }
   ],
   "source": [
    "news_summarizer_prompt = ChatPromptTemplate.from_messages(\n",
    "    [\n",
    "        (\"system\", \"You are a news summarizer. You will read the following news article and create a concise summary. The summary must be written in the chosen style {style}. Available styles: formal, conversational, humorous.\"),\n",
    "        (\"human\", \"{article_text}\")\n",
    "    ]\n",
    ")\n",
    "news_summarizer_prompt"
   ]
  },
  {
   "cell_type": "code",
   "execution_count": 60,
   "id": "a092df3a",
   "metadata": {},
   "outputs": [
    {
     "data": {
      "text/plain": [
       "ChatPromptValue(messages=[SystemMessage(content='You are a news summarizer. You will read the following news article and create a concise summary. The summary must be written in the chosen style conversational. Available styles: formal, conversational, humorous.', additional_kwargs={}, response_metadata={}), HumanMessage(content='\\nApple has announced the launch of its latest iPhone model, which includes a faster processor,\\nan improved camera system, and a longer battery life. The device will be available in stores\\nstarting next month, with pre-orders opening this Friday.\\n', additional_kwargs={}, response_metadata={})])"
      ]
     },
     "execution_count": 60,
     "metadata": {},
     "output_type": "execute_result"
    }
   ],
   "source": [
    "news_summarizer = news_summarizer_prompt.invoke(\n",
    "    {\n",
    "        \"style\": \"conversational\",\n",
    "        \"article_text\": \"\"\"\n",
    "Apple has announced the launch of its latest iPhone model, which includes a faster processor,\n",
    "an improved camera system, and a longer battery life. The device will be available in stores\n",
    "starting next month, with pre-orders opening this Friday.\n",
    "\"\"\"\n",
    "    }\n",
    ")\n",
    "news_summarizer"
   ]
  },
  {
   "cell_type": "code",
   "execution_count": 62,
   "id": "2f3b3930",
   "metadata": {},
   "outputs": [
    {
     "name": "stdout",
     "output_type": "stream",
     "text": [
      "Hey, guess what? Apple just dropped the news about their newest iPhone! It’s packing a faster processor, a killer camera upgrade, and a battery that lasts longer than ever. You can snag one starting next month, but if you’re eager, pre-orders kick off this Friday. Time to start saving those pennies!\n"
     ]
    }
   ],
   "source": [
    "response: AIMessage = llm.invoke(news_summarizer) \n",
    "print(response.content)"
   ]
  },
  {
   "cell_type": "markdown",
   "id": "dc20f961",
   "metadata": {},
   "source": [
    "### 10. Fitness Coach\n",
    "#### Tags: ChatPromptTemplate, SystemMessage, MessagesPlaceholder\n",
    "#### Task: Create a prompt template where the AI acts as a personal fitness trainer, remembers the user’s past workout logs via MessagesPlaceholder, and suggests a new workout plan."
   ]
  },
  {
   "cell_type": "code",
   "execution_count": null,
   "id": "0131e9d2",
   "metadata": {},
   "outputs": [
    {
     "data": {
      "text/plain": [
       "ChatPromptTemplate(input_variables=['input'], input_types={}, partial_variables={}, messages=[SystemMessagePromptTemplate(prompt=PromptTemplate(input_variables=[], input_types={}, partial_variables={}, template=\"You are a certified personal fitness trainer.\\n- Track the user's workout history and fitness goals. Ensure workouts include variety (strength, cardio, flexibility, recovery).\\n- Adapt recommendations if the user reports soreness, fatigue, or specific preferences. use 1 lines.\\n\"), additional_kwargs={}), HumanMessagePromptTemplate(prompt=PromptTemplate(input_variables=['input'], input_types={}, partial_variables={}, template='{input}'), additional_kwargs={})])"
      ]
     },
     "execution_count": 74,
     "metadata": {},
     "output_type": "execute_result"
    }
   ],
   "source": [
    "fitness_coach_template = ChatPromptTemplate.from_messages(\n",
    "    [\n",
    "        (\"system\", \"\"\"You are a certified personal fitness trainer.\n",
    "- Track the user's workout history and fitness goals. Ensure workouts include variety (strength, cardio, flexibility, recovery).\n",
    "- Adapt recommendations if the user reports soreness, fatigue, or specific preferences. use 1 lines.\n",
    "\"\"\"),\n",
    "        MessagesPlaceholder(\"msg\")\n",
    "        (\"human\", \"{input}\")\n",
    "    ]\n",
    ")\n",
    "fitness_coach_template"
   ]
  },
  {
   "cell_type": "code",
   "execution_count": 82,
   "id": "0b1e5f22",
   "metadata": {},
   "outputs": [],
   "source": [
    "fitness_coach = fitness_coach_template.invoke(\n",
    "    {\n",
    "        \"msg\": [\n",
    "            (\"human\", \"what workout should i do today\"), \n",
    "            (\"ai\", \"\"\" Let’s tailor your workout based on your goals and recent activity. Here’s a balanced plan:  \n",
    "\n",
    "**Strength & Cardio Combo (45-60 mins):**  \n",
    "- **Warm-up:** 5 mins dynamic stretches + light jogging.  \n",
    "- **Strength Circuit (3 rounds):**  \n",
    "  - Squats (12 reps)  \n",
    "  - Push-ups (10 reps)  \n",
    "  - Bent-over rows (12 reps)  \n",
    "  - Plank (30 secs)  \n",
    "- **Cardio:** 20 mins moderate intensity (e.g., brisk walk, cycling, or HIIT intervals).  \n",
    "- **Cool-down:** Stretch hamstrings, quads, chest, and shoulders.  \n",
    "\n",
    "Let me know your goals or how you’re feeling to adjust! 💪\"\"\"),\n",
    "        ],\n",
    "        \"input\": \"yesterday I did 20 push-ups, 15 squats, and a 2 km run. What should I do today\"\n",
    "    }\n",
    ")"
   ]
  },
  {
   "cell_type": "code",
   "execution_count": 83,
   "id": "de36003b",
   "metadata": {},
   "outputs": [
    {
     "name": "stdout",
     "output_type": "stream",
     "text": [
      "Today, focus on **recovery and flexibility** with a **light yoga session (20-30 mins)** or **active stretching** to ease soreness. If you feel energetic, add **10-15 core exercises** (e.g., planks, leg raises) for variety.\n"
     ]
    }
   ],
   "source": [
    "response = llm.invoke(fitness_coach)\n",
    "print(response.content)"
   ]
  },
  {
   "cell_type": "code",
   "execution_count": null,
   "id": "5965d075",
   "metadata": {},
   "outputs": [],
   "source": []
  }
 ],
 "metadata": {
  "kernelspec": {
   "display_name": "my_ai_env",
   "language": "python",
   "name": "python3"
  },
  "language_info": {
   "codemirror_mode": {
    "name": "ipython",
    "version": 3
   },
   "file_extension": ".py",
   "mimetype": "text/x-python",
   "name": "python",
   "nbconvert_exporter": "python",
   "pygments_lexer": "ipython3",
   "version": "3.13.5"
  }
 },
 "nbformat": 4,
 "nbformat_minor": 5
}
