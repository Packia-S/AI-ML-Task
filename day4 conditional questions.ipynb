{
 "cells": [
  {
   "cell_type": "markdown",
   "id": "0f01cca1-7aea-4854-a164-60a66f6c1dac",
   "metadata": {},
   "source": [
    "## 1. Ask the user to enter their name and print a welcome message using it."
   ]
  },
  {
   "cell_type": "code",
   "execution_count": 77,
   "id": "6a4845fc-b5d5-4c96-8e3a-b23ee745d0e3",
   "metadata": {},
   "outputs": [
    {
     "name": "stdin",
     "output_type": "stream",
     "text": [
      "Enter your name:  Riya\n"
     ]
    },
    {
     "name": "stdout",
     "output_type": "stream",
     "text": [
      "Welcome Riya\n"
     ]
    }
   ],
   "source": [
    "name=input(\"Enter your name: \")\n",
    "print(f\"Welcome {name}\")"
   ]
  },
  {
   "cell_type": "markdown",
   "id": "b8e945be-2341-4554-afb6-e695e87b1c1d",
   "metadata": {},
   "source": [
    "## 2. Ask the user to enter a number and print whether it is positive or negative."
   ]
  },
  {
   "cell_type": "code",
   "execution_count": 79,
   "id": "7aa911da-b741-401e-b52b-c7b6f0ac3812",
   "metadata": {},
   "outputs": [
    {
     "name": "stdin",
     "output_type": "stream",
     "text": [
      "Enter the number:  -5\n"
     ]
    },
    {
     "name": "stdout",
     "output_type": "stream",
     "text": [
      "The number is Negative\n"
     ]
    }
   ],
   "source": [
    "n= int(input(\"Enter the number: \"))\n",
    "if n <= 0:\n",
    "    print (\"The number is Negative\")\n",
    "else:\n",
    "    print(\"The number is Positive\")"
   ]
  },
  {
   "cell_type": "markdown",
   "id": "996acfd7-aa12-47ae-be85-e1c78d57b6c1",
   "metadata": {},
   "source": [
    "## 3. Take the user's age as input. If the age is 18 or more, print \"Eligible to vote\"."
   ]
  },
  {
   "cell_type": "code",
   "execution_count": 81,
   "id": "84734b7c-b536-4847-9f1a-28100f228a7d",
   "metadata": {},
   "outputs": [
    {
     "name": "stdin",
     "output_type": "stream",
     "text": [
      "Enter your Age:  24\n"
     ]
    },
    {
     "name": "stdout",
     "output_type": "stream",
     "text": [
      "Eligible to Vote\n"
     ]
    }
   ],
   "source": [
    "age=int(input(\"Enter your Age: \"))\n",
    "if age >= 18:\n",
    "    print(\"Eligible to Vote\")\n",
    "else:\n",
    "    print(\"Not Eligible to vote\")\n",
    "    "
   ]
  },
  {
   "cell_type": "markdown",
   "id": "f106f5a3-8229-44a0-a068-daa1600f3259",
   "metadata": {},
   "source": [
    "## 4. Ask the user for their favorite programming language. If it is \"Python\", print \"Nice Choice!\"."
   ]
  },
  {
   "cell_type": "code",
   "execution_count": 83,
   "id": "315508ca-01de-4037-9139-b128cd5e0960",
   "metadata": {},
   "outputs": [
    {
     "name": "stdin",
     "output_type": "stream",
     "text": [
      "Enter your favorite Programming Language:  python\n"
     ]
    },
    {
     "name": "stdout",
     "output_type": "stream",
     "text": [
      "Nice Choice!\n"
     ]
    }
   ],
   "source": [
    "program=input(\"Enter your favorite Programming Language: \")\n",
    "if program.lower() == \"python\":\n",
    "    print(\"Nice Choice!\")\n"
   ]
  },
  {
   "cell_type": "markdown",
   "id": "9ccfd898-1ca8-4c30-8b16-c6319de397a4",
   "metadata": {},
   "source": [
    "## 5. Get two numbers from the user and print their sum."
   ]
  },
  {
   "cell_type": "code",
   "execution_count": 85,
   "id": "f7c3ad58-0bd8-4f5b-80a5-2cfd264fdb66",
   "metadata": {},
   "outputs": [
    {
     "name": "stdin",
     "output_type": "stream",
     "text": [
      "Enter the a number:  5\n",
      "Enter the b number:  6\n"
     ]
    },
    {
     "data": {
      "text/plain": [
       "11"
      ]
     },
     "execution_count": 85,
     "metadata": {},
     "output_type": "execute_result"
    }
   ],
   "source": [
    "def sum():\n",
    "    a=int(input(\"Enter the a number: \"))\n",
    "    b=int(input(\"Enter the b number: \"))\n",
    "    c=a+b\n",
    "    return c\n",
    "sum()"
   ]
  },
  {
   "cell_type": "code",
   "execution_count": 86,
   "id": "67862fd7-e92b-43fd-9540-682320ce7178",
   "metadata": {},
   "outputs": [
    {
     "name": "stdin",
     "output_type": "stream",
     "text": [
      "Enter the a number:  3\n",
      "Enter the b number:  4\n"
     ]
    },
    {
     "name": "stdout",
     "output_type": "stream",
     "text": [
      "sum of two number 3 and 4.0 is 7.0\n"
     ]
    }
   ],
   "source": [
    "a=int(input(\"Enter the a number: \"))\n",
    "b=float(input(\"Enter the b number: \"))\n",
    "c=a+b\n",
    "print(f\"sum of two number {a} and {b} is {c}\")"
   ]
  },
  {
   "cell_type": "markdown",
   "id": "5f1b29fa-05ab-4ea1-a4fb-26542cab3b2e",
   "metadata": {},
   "source": [
    "## 6. Ask the user to enter their city. If the city is \"Delhi\", print \"Capital of India\"."
   ]
  },
  {
   "cell_type": "code",
   "execution_count": 21,
   "id": "02878426-6e43-4480-9dea-98af36b0df87",
   "metadata": {},
   "outputs": [
    {
     "name": "stdin",
     "output_type": "stream",
     "text": [
      "Enter city: DELHI\n"
     ]
    },
    {
     "name": "stdout",
     "output_type": "stream",
     "text": [
      "DELHI is Capital of India\n"
     ]
    }
   ],
   "source": [
    "city=input(\"Enter city:\")\n",
    "if city.title() == \"Delhi\":\n",
    "    print (f\"{city} is Capital of India\")\n",
    "else:\n",
    "    print(f\"{city} is my favourite\")"
   ]
  },
  {
   "cell_type": "markdown",
   "id": "5dbb5eb9-7035-4dbe-be93-29934d1461ba",
   "metadata": {},
   "source": [
    "### 7. Take a number from the user. If the number is even, print \"Even number\", else print \"Odd number\"."
   ]
  },
  {
   "cell_type": "code",
   "execution_count": 90,
   "id": "c5474e20-7a9d-434a-a979-1147c4b4d1bd",
   "metadata": {},
   "outputs": [
    {
     "name": "stdin",
     "output_type": "stream",
     "text": [
      "Enter the Number:  54\n"
     ]
    },
    {
     "name": "stdout",
     "output_type": "stream",
     "text": [
      "The number is Even Number\n"
     ]
    }
   ],
   "source": [
    "n=int(input(\"Enter the Number: \"))\n",
    "if n%2== 0:\n",
    "    print(\"The number is Even Number\")\n",
    "else:\n",
    "    print(\"The number is Odd Number\")"
   ]
  },
  {
   "cell_type": "markdown",
   "id": "a949d1bb-3d12-4823-9f9d-13f051f375dd",
   "metadata": {},
   "source": [
    "### 8. Ask the user for their score. If it's 90 or more, print \"Grade A\", elif 75 or more print \"Grade B\", else print \"Grade C\"."
   ]
  },
  {
   "cell_type": "code",
   "execution_count": 92,
   "id": "86101e75-c67c-4ebc-9ebb-8313f269efbd",
   "metadata": {},
   "outputs": [
    {
     "name": "stdin",
     "output_type": "stream",
     "text": [
      "Enter your Maths Mark:  79\n",
      "Enter your Maths Mark:  86\n",
      "Enter your Maths Mark:  95\n"
     ]
    },
    {
     "name": "stdout",
     "output_type": "stream",
     "text": [
      "86.66666666666667\n",
      "Grade B your score is 86.66666666666667\n"
     ]
    }
   ],
   "source": [
    "marks=[\"maths\",\"science\",\"social\"]\n",
    "maths=int(input(\"Enter your Maths Mark: \"))\n",
    "science=int(input(\"Enter your Maths Mark: \"))\n",
    "social=int(input(\"Enter your Maths Mark: \"))\n",
    "total=maths+science+social\n",
    "avg_score=total/len(marks)\n",
    "print(avg_score)\n",
    "if avg_score>90:\n",
    "    print(f\"Grade A your score is {avg_score}\")\n",
    "elif avg_score>75:\n",
    "    print(f\"Grade B your score is {avg_score}\")\n",
    "else:\n",
    "    print(f\"Grade C your score is {avg_score}\")"
   ]
  },
  {
   "cell_type": "markdown",
   "id": "67a64791-29e5-4175-be9e-9ec7748fae46",
   "metadata": {},
   "source": [
    "## 9. Get the user's gender (`M` or `F`). If 'M', print \"Male\", if 'F', print \"Female\", else print \"Invalid input\"."
   ]
  },
  {
   "cell_type": "code",
   "execution_count": 94,
   "id": "55667897-5996-4ba3-945c-3239b662e245",
   "metadata": {},
   "outputs": [
    {
     "name": "stdin",
     "output_type": "stream",
     "text": [
      "Enter the Gender(M or F)):  f\n"
     ]
    },
    {
     "name": "stdout",
     "output_type": "stream",
     "text": [
      "Female\n"
     ]
    }
   ],
   "source": [
    "n=input(\"Enter the Gender(M or F)): \")\n",
    "if n.upper() == \"M\":\n",
    "    print(\"Male\")\n",
    "elif n.upper()== \"F\":\n",
    "    print(\"Female\")\n",
    "else:\n",
    "    print(\"Invalid\")"
   ]
  },
  {
   "cell_type": "markdown",
   "id": "ee5a128a-f30e-4c2c-a63f-810f76153f6a",
   "metadata": {},
   "source": [
    "## 10. Take input for a number. If it's a multiple of 5, print \"Divisible by 5\"."
   ]
  },
  {
   "cell_type": "code",
   "execution_count": 96,
   "id": "5e2c58c6-0dc6-45bc-9c5d-7b229f17df72",
   "metadata": {},
   "outputs": [
    {
     "name": "stdin",
     "output_type": "stream",
     "text": [
      "Enter a number:  85\n"
     ]
    },
    {
     "name": "stdout",
     "output_type": "stream",
     "text": [
      "It is divisible by 5\n"
     ]
    }
   ],
   "source": [
    "x=int(input(\"Enter a number: \"))\n",
    "if x%5==0:\n",
    "    print(\"It is divisible by 5\")\n",
    "else:\n",
    "    print(\"Not divisible by 5\")"
   ]
  },
  {
   "cell_type": "markdown",
   "id": "6eea6421-da27-4f50-a48c-fed2810d8b00",
   "metadata": {},
   "source": [
    "## 11. Ask the user to enter their marks. If marks are 33 or more, print \"Pass\", otherwise print \"Fail\"."
   ]
  },
  {
   "cell_type": "code",
   "execution_count": 98,
   "id": "b77a4f89-d8e7-441b-b8d6-71cfb20f2d2b",
   "metadata": {},
   "outputs": [
    {
     "name": "stdin",
     "output_type": "stream",
     "text": [
      "Enter a mark:  65\n"
     ]
    },
    {
     "name": "stdout",
     "output_type": "stream",
     "text": [
      "Your are pass\n"
     ]
    }
   ],
   "source": [
    "mark=int(input(\"Enter a mark: \"))\n",
    "if mark >= 33:\n",
    "    print (\"Your are pass\")\n",
    "else:\n",
    "    print(\"Your are Fail\")"
   ]
  },
  {
   "cell_type": "markdown",
   "id": "65c4de57-2aae-4f90-b472-e46c802c98ad",
   "metadata": {},
   "source": [
    "## 12. Take the user's name and age as input, and print both in one sentence."
   ]
  },
  {
   "cell_type": "code",
   "execution_count": 100,
   "id": "376e9170-6382-46ab-801c-09a9d1a0b738",
   "metadata": {},
   "outputs": [
    {
     "name": "stdin",
     "output_type": "stream",
     "text": [
      "Enter your name:  riya\n",
      "Enter your age:  25\n"
     ]
    },
    {
     "name": "stdout",
     "output_type": "stream",
     "text": [
      "Your name is riya and your age is 25\n"
     ]
    }
   ],
   "source": [
    "name=input(\"Enter your name: \")\n",
    "age=int(input(\"Enter your age: \"))\n",
    "print(f\"Your name is {name} and your age is {age}\")"
   ]
  },
  {
   "cell_type": "markdown",
   "id": "b329708b-da97-47da-a0aa-eb293bc23f46",
   "metadata": {},
   "source": [
    "## 13. Ask for a temperature value. If it's more than 35, print \"Too Hot\""
   ]
  },
  {
   "cell_type": "code",
   "execution_count": 102,
   "id": "7260bac7-e58a-40f7-8f45-b7396cc4cb74",
   "metadata": {},
   "outputs": [
    {
     "name": "stdin",
     "output_type": "stream",
     "text": [
      "Enter a Temperature value:  54\n"
     ]
    },
    {
     "name": "stdout",
     "output_type": "stream",
     "text": [
      "Too Hot\n"
     ]
    }
   ],
   "source": [
    "temp=int(input(\"Enter a Temperature value: \"))\n",
    "if temp< 35:\n",
    "    print (\"Too Cool\")\n",
    "else:\n",
    "    print (\"Too Hot\")"
   ]
  },
  {
   "cell_type": "markdown",
   "id": "e9c329b6-1685-4390-ba5d-a2820c5a2581",
   "metadata": {},
   "source": [
    "## 14. Input a number and check if it's greater than 100. If yes, print \"Big Number\""
   ]
  },
  {
   "cell_type": "code",
   "execution_count": 104,
   "id": "b48789d7-c33e-4db3-8883-5b5bc5f1614f",
   "metadata": {},
   "outputs": [
    {
     "name": "stdin",
     "output_type": "stream",
     "text": [
      "Enter the Number:  106\n"
     ]
    },
    {
     "name": "stdout",
     "output_type": "stream",
     "text": [
      "106 is Big Number than 100\n"
     ]
    }
   ],
   "source": [
    "num=int(input(\"Enter the Number: \"))\n",
    "if num >= 100:\n",
    "    print(f\"{num} is Big Number than 100\")\n",
    "else:\n",
    "    print(f\"{num} is small Number than 100\")"
   ]
  },
  {
   "cell_type": "markdown",
   "id": "36d47ec8-2362-4a3c-ac8f-40fea75ac466",
   "metadata": {},
   "source": [
    "## 15. Ask the user for a year. If the year is divisible by 4, print \"Leap Year\", else print \"Not a Leap Year\"."
   ]
  },
  {
   "cell_type": "code",
   "execution_count": 106,
   "id": "4f6fcd4f-913a-45ab-b2ef-838bf75fc5b1",
   "metadata": {},
   "outputs": [
    {
     "name": "stdin",
     "output_type": "stream",
     "text": [
      "Enter the year:  2025\n"
     ]
    },
    {
     "name": "stdout",
     "output_type": "stream",
     "text": [
      "2025 is Not a Leap year\n"
     ]
    }
   ],
   "source": [
    "year=int(input(\"Enter the year: \"))\n",
    "if year%4==0:\n",
    "    print(f\"{year} is Leap year\")\n",
    "else:\n",
    "    print(f\"{year} is Not a Leap year\")"
   ]
  },
  {
   "cell_type": "markdown",
   "id": "a0aa9269-06e3-4fee-9755-5fe9d1f90071",
   "metadata": {},
   "source": [
    "## 16. Get the name of a fruit from the user. If it's \"Mango\", print \"King of Fruits\"."
   ]
  },
  {
   "cell_type": "code",
   "execution_count": 25,
   "id": "99ac266e-e284-44aa-bdfc-3dce5c077d56",
   "metadata": {},
   "outputs": [
    {
     "name": "stdin",
     "output_type": "stream",
     "text": [
      "Enter a fruit name:  Mango\n"
     ]
    },
    {
     "name": "stdout",
     "output_type": "stream",
     "text": [
      " Mango is a King of Fruits\n"
     ]
    }
   ],
   "source": [
    "fruit=input(\"Enter a fruit name: \")\n",
    "if fruit.lower() ==\"mango\":\n",
    "    print(f\" {fruit} is a King of Fruits\")\n",
    "else:\n",
    "    print(f\"i like {fruit}\")"
   ]
  },
  {
   "cell_type": "markdown",
   "id": "8f4e3ac0-8da7-40c5-b22d-d1c75d394b5d",
   "metadata": {},
   "source": [
    "## 17. Take a username as input. If it matches \"admin\", print \"Welcome Admin\", else print \"Unknown User\"."
   ]
  },
  {
   "cell_type": "code",
   "execution_count": 110,
   "id": "ee2c47ea-c8a4-4bea-a3b0-9d1566bebc15",
   "metadata": {},
   "outputs": [
    {
     "name": "stdin",
     "output_type": "stream",
     "text": [
      "Enter the username:  riya\n"
     ]
    },
    {
     "name": "stdout",
     "output_type": "stream",
     "text": [
      "Welcome Admin\n"
     ]
    }
   ],
   "source": [
    "admin=[\"riya\",\"kavya\",\"maya\"]\n",
    "name=input(\"Enter the username: \")\n",
    "if name in admin:\n",
    "    print(\"Welcome Admin\")\n",
    "else:\n",
    "    print(\"Unknown User\")\n",
    "\n"
   ]
  },
  {
   "cell_type": "markdown",
   "id": "f206bc7c-a3f4-4f9f-91fe-b7b8c7bf7b67",
   "metadata": {},
   "source": [
    "## 18. Ask the user for two numbers. If the first is greater than the second, print \"First is bigger\""
   ]
  },
  {
   "cell_type": "code",
   "execution_count": 112,
   "id": "177d7368-f561-4694-b80c-54c5d8e23e81",
   "metadata": {},
   "outputs": [
    {
     "name": "stdin",
     "output_type": "stream",
     "text": [
      "Enter the first Number:  56\n",
      "Enter the Second Number:  35\n"
     ]
    },
    {
     "name": "stdout",
     "output_type": "stream",
     "text": [
      "First number is Bigger\n"
     ]
    }
   ],
   "source": [
    "first=input(\"Enter the first Number: \")\n",
    "second=input(\"Enter the Second Number: \")\n",
    "if first > second:\n",
    "    print(\"First number is Bigger\")\n",
    "else:\n",
    "    print(\"Second number is Bigger\")"
   ]
  },
  {
   "cell_type": "markdown",
   "id": "cfbf5813-2596-4e17-a826-ffd9c1a44a64",
   "metadata": {},
   "source": [
    "## 19. Input a password. If it is \"1234\", print \"Access Granted\", else print \"Access Denied\"."
   ]
  },
  {
   "cell_type": "code",
   "execution_count": 114,
   "id": "91b030d0-38a1-4eda-a2a8-c50438c9146f",
   "metadata": {},
   "outputs": [
    {
     "name": "stdin",
     "output_type": "stream",
     "text": [
      "Enter the name:  aaa\n",
      "Enter the password:  1234\n"
     ]
    },
    {
     "name": "stdout",
     "output_type": "stream",
     "text": [
      "Access Granted\n"
     ]
    }
   ],
   "source": [
    "pas={\n",
    "    \"aaa\":1234,\n",
    "    \"bbb\":2345,\n",
    "    \"ccc\":3456\n",
    "}\n",
    "name=input(\"Enter the name: \")\n",
    "\n",
    "if name in pas:\n",
    "    password=int(input(\"Enter the password: \"))\n",
    "    if password == pas[name]:\n",
    "        print (\"Access Granted\")\n",
    "    else:\n",
    "        print(\"Access Denied\")\n",
    "else:\n",
    "    print(\"invalid name\")"
   ]
  },
  {
   "cell_type": "code",
   "execution_count": 115,
   "id": "c96efd6b-e6be-41fe-b9d8-12ba83f8027c",
   "metadata": {},
   "outputs": [
    {
     "name": "stdin",
     "output_type": "stream",
     "text": [
      "Enter password:  1234\n"
     ]
    },
    {
     "name": "stdout",
     "output_type": "stream",
     "text": [
      "Access Granted\n"
     ]
    }
   ],
   "source": [
    "password=int(input(\"Enter password: \"))\n",
    "if password == 1234:\n",
    "    print(\"Access Granted\")\n",
    "else:\n",
    "    print (\"Access Denied\")"
   ]
  },
  {
   "cell_type": "markdown",
   "id": "31d5eb5d-3996-45cf-bf71-615e2448b8ea",
   "metadata": {},
   "source": [
    "## 20. Get the name of a day from the user. If it's \"Sunday\", print \"Holiday\", else print \"Working Day\"."
   ]
  },
  {
   "cell_type": "code",
   "execution_count": 117,
   "id": "f50f0ab1-a174-4a42-be6d-2f8e255ae75b",
   "metadata": {},
   "outputs": [
    {
     "name": "stdin",
     "output_type": "stream",
     "text": [
      "Enter the days:  sunday\n"
     ]
    },
    {
     "name": "stdout",
     "output_type": "stream",
     "text": [
      "sunday is Holiday\n"
     ]
    }
   ],
   "source": [
    "day=input(\"Enter the days: \")\n",
    "if day.lower()==\"sunday\":\n",
    "    print(f\"{day} is Holiday\")\n",
    "else:\n",
    "    print(f\"{day} is Working day\")"
   ]
  },
  {
   "cell_type": "markdown",
   "id": "af36f445-3f4c-4533-a36e-d27ab2d4fb02",
   "metadata": {},
   "source": [
    "## 21. Ask the user to enter a number. Print \"Zero\" if it is zero, else print \"Non-Zero\"."
   ]
  },
  {
   "cell_type": "code",
   "execution_count": 119,
   "id": "4876b57b-bf05-44a3-b05e-39eafe3e9638",
   "metadata": {},
   "outputs": [
    {
     "name": "stdin",
     "output_type": "stream",
     "text": [
      "Enter a number:  0\n"
     ]
    },
    {
     "name": "stdout",
     "output_type": "stream",
     "text": [
      "It is Zero\n"
     ]
    }
   ],
   "source": [
    "num=int(input(\"Enter a number: \"))\n",
    "if num == 0:\n",
    "    print(\"It is Zero\")\n",
    "else:\n",
    "    print(\"It is Non-Zero\")"
   ]
  },
  {
   "cell_type": "markdown",
   "id": "def90dd2-926d-45d6-806b-76097b15beaf",
   "metadata": {},
   "source": [
    "## 22. Input the user's height. If it's less than 150, print \"Short\", else print \"Tall\"."
   ]
  },
  {
   "cell_type": "code",
   "execution_count": 1,
   "id": "ba3c9226-cc32-4eda-9488-61e7198b3c07",
   "metadata": {},
   "outputs": [
    {
     "name": "stdin",
     "output_type": "stream",
     "text": [
      "Enter your height:  452\n"
     ]
    },
    {
     "name": "stdout",
     "output_type": "stream",
     "text": [
      "your are tall\n"
     ]
    }
   ],
   "source": [
    "height=int(input(\"Enter your height: \"))\n",
    "if height<150:\n",
    "    print(\"you are short\")\n",
    "else:\n",
    "    print(\"your are tall\")"
   ]
  },
  {
   "cell_type": "markdown",
   "id": "9a5be2bd-6eb7-4902-901f-eb3ef6f9f577",
   "metadata": {},
   "source": [
    "## 23. Ask the user to enter their percentage. Print \"Passed with Distinction\" if it's above 85."
   ]
  },
  {
   "cell_type": "code",
   "execution_count": 3,
   "id": "1f0801af-8d65-4d2f-8879-ea3fe20de1f6",
   "metadata": {},
   "outputs": [
    {
     "name": "stdin",
     "output_type": "stream",
     "text": [
      "Enter percentage:  68\n"
     ]
    },
    {
     "name": "stdout",
     "output_type": "stream",
     "text": [
      "you are 68% Passed with First Class\n"
     ]
    }
   ],
   "source": [
    "percentage=int(input(\"Enter percentage: \"))\n",
    "if percentage > 85:\n",
    "    print(f\"you are {percentage}% Passed with Distinction\")\n",
    "elif percentage >65:\n",
    "        print(f\"you are {percentage}% Passed with First Class\")\n",
    "else:\n",
    "    print(f\"you are {percentage}% Passed\")\n"
   ]
  },
  {
   "cell_type": "markdown",
   "id": "696d200c-b5bf-4147-b3bb-1b797da87ea7",
   "metadata": {},
   "source": [
    "## 24. Input the price of an item. If price is above 1000, print \"Expensive\", else print \"Affordable\"."
   ]
  },
  {
   "cell_type": "code",
   "execution_count": 7,
   "id": "b2e67596-3b5a-480f-8e0a-c0560bee1cca",
   "metadata": {},
   "outputs": [
    {
     "name": "stdin",
     "output_type": "stream",
     "text": [
      "Enter apple price:  320\n",
      "Enter orange price:  65\n",
      "Enter banana price:  390\n",
      "Enter kiwi price:  530\n"
     ]
    },
    {
     "name": "stdout",
     "output_type": "stream",
     "text": [
      "total price of an item 1305\n",
      "Expensive\n"
     ]
    }
   ],
   "source": [
    "item=['apple','orange','banana','kiwi']\n",
    "apple=int(input(\"Enter apple price: \"))\n",
    "orange=int(input(\"Enter orange price: \"))\n",
    "banana=int(input(\"Enter banana price: \"))\n",
    "kiwi=int(input(\"Enter kiwi price: \"))\n",
    "total=apple+orange+banana+kiwi\n",
    "print(f\"total price of an item {total}\")\n",
    "if total > 1000:\n",
    "    print(\"Expensive\")\n",
    "else:\n",
    "    print(\"Affordable\")"
   ]
  },
  {
   "cell_type": "markdown",
   "id": "08604f0e-092a-453a-bad1-ad329c57d689",
   "metadata": {},
   "source": [
    "## 25. Ask for the user's favorite color. If it's not \"Red\", print \"Nice, but not Red\"."
   ]
  },
  {
   "cell_type": "code",
   "execution_count": 9,
   "id": "a755e01d-754b-4b96-91d8-3940b99f03d5",
   "metadata": {},
   "outputs": [
    {
     "name": "stdin",
     "output_type": "stream",
     "text": [
      "Enter your favorite color:  red\n"
     ]
    },
    {
     "name": "stdout",
     "output_type": "stream",
     "text": [
      "Nice Color\n"
     ]
    }
   ],
   "source": [
    "color=input(\"Enter your favorite color: \")\n",
    "if color.lower() != \"red\":\n",
    "    print(\"Nice, but not Red\")\n",
    "else:\n",
    "    print(\"Nice Color\")"
   ]
  },
  {
   "cell_type": "code",
   "execution_count": null,
   "id": "4c059a78-6581-4d18-90b4-d809bf91d89e",
   "metadata": {},
   "outputs": [],
   "source": []
  }
 ],
 "metadata": {
  "kernelspec": {
   "display_name": "Python [conda env:base] *",
   "language": "python",
   "name": "conda-base-py"
  },
  "language_info": {
   "codemirror_mode": {
    "name": "ipython",
    "version": 3
   },
   "file_extension": ".py",
   "mimetype": "text/x-python",
   "name": "python",
   "nbconvert_exporter": "python",
   "pygments_lexer": "ipython3",
   "version": "3.12.7"
  }
 },
 "nbformat": 4,
 "nbformat_minor": 5
}
