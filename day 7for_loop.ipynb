{
 "cells": [
  {
   "cell_type": "code",
   "execution_count": 27,
   "id": "c72b5258",
   "metadata": {},
   "outputs": [
    {
     "name": "stdout",
     "output_type": "stream",
     "text": [
      "Priya\n"
     ]
    }
   ],
   "source": [
    "print(\"Priya\")"
   ]
  },
  {
   "cell_type": "code",
   "execution_count": null,
   "id": "468529c3",
   "metadata": {},
   "outputs": [],
   "source": []
  },
  {
   "cell_type": "code",
   "execution_count": 28,
   "id": "b1938b15",
   "metadata": {},
   "outputs": [
    {
     "name": "stdout",
     "output_type": "stream",
     "text": [
      "Blocked\n"
     ]
    }
   ],
   "source": [
    "text = \"hello 123\"\n",
    "for char in text:\n",
    "    if char.isdigit():\n",
    "        print(\"Blocked\")\n",
    "        break\n"
   ]
  },
  {
   "cell_type": "code",
   "execution_count": 29,
   "id": "b5f2b90a",
   "metadata": {},
   "outputs": [
    {
     "name": "stdout",
     "output_type": "stream",
     "text": [
      "Command Line Chat Filter\n",
      "quit.....\n"
     ]
    }
   ],
   "source": [
    "print(\"Command Line Chat Filter\")\n",
    "\n",
    "while True:\n",
    "    message=input(\"Enter your message:\")\n",
    "    if not message.strip():\n",
    "        continue\n",
    "        \n",
    "    elif message.lower()==\"quit\":\n",
    "        print(\"quit.....\")\n",
    "        break\n",
    "    \n",
    "    elif message.lower().startswith(\"help\") or message.lower().startswith(\"emergency\"):\n",
    "        print(f\"⚠️ Attention Needed: {message}\")\n",
    "    \n",
    "    elif message.strip():\n",
    "        for text in message:\n",
    "            if text.isdigit():\n",
    "                print(\"Blocked:  Message contains numbers. Stopping moderation... \")\n",
    "                break\n",
    "        break\n",
    "    else:\n",
    "        print(f\"✅ Message Received: {message}\")\n",
    "    \n",
    "   \n",
    "        "
   ]
  },
  {
   "cell_type": "code",
   "execution_count": null,
   "id": "88c45d77",
   "metadata": {},
   "outputs": [
    {
     "name": "stdout",
     "output_type": "stream",
     "text": [
      "Command Line Chat Filter\n",
      "quit.....\n"
     ]
    }
   ],
   "source": [
    "print(\"Command Line Chat Filter\")\n",
    "\n",
    "while True:\n",
    "    message=input(\"Enter your message:\")\n",
    "    if not message.strip():\n",
    "        continue\n",
    "        \n",
    "    if message.lower()==\"quit\":\n",
    "        print(\"quit.....\")\n",
    "        break\n",
    "    \n",
    "    if message.isalpha():\n",
    "        print(\"Blocked:  Message contains numbers. Stopping moderation... \")\n",
    "        break\n",
    "             \n",
    "    if message.lower().startswith(\"help\") or message.lower().startswith(\"emergency\"):\n",
    "        print(f\"⚠️ Attention Needed: {message}\")\n",
    "    else:\n",
    "        print(f\"✅ Message Received: {message}\")\n",
    "    \n",
    "   \n",
    "        "
   ]
  },
  {
   "cell_type": "code",
   "execution_count": 36,
   "id": "fef28d56",
   "metadata": {},
   "outputs": [
    {
     "name": "stdout",
     "output_type": "stream",
     "text": [
      "*\n",
      "*\n",
      "*\n",
      "*\n",
      "*\n"
     ]
    }
   ],
   "source": [
    "\n",
    "# 1. Use a while loop to print a pattern of stars (*) up to 5 lines.\n",
    "# Output:\n",
    "# *\n",
    "# *\n",
    "# *\n",
    "# *\n",
    "# *\n",
    "\n",
    "star=int(input(\"enter star number\"))\n",
    "for i in range(0,star):\n",
    "    print(\"*\")"
   ]
  },
  {
   "cell_type": "markdown",
   "id": "3f80135a",
   "metadata": {},
   "source": [
    "Print only odd numbers from 1 to 15 using a for loop \n",
    "Output:\n",
    "1 3 5 7 9 11 13 15\n"
   ]
  },
  {
   "cell_type": "code",
   "execution_count": 42,
   "id": "669757b9",
   "metadata": {},
   "outputs": [
    {
     "name": "stdout",
     "output_type": "stream",
     "text": [
      "1\n",
      "3\n",
      "5\n",
      "7\n",
      "9\n",
      "11\n",
      "13\n",
      "15\n"
     ]
    }
   ],
   "source": [
    "for i in range(1,16):\n",
    "    if i%2!=0:\n",
    "        print(i)"
   ]
  },
  {
   "cell_type": "markdown",
   "id": "7abfc245",
   "metadata": {},
   "source": [
    "Print all even numbers from 2 to 20 using for loop.\n",
    "Output:\n",
    "2 4 6 8 10 12 14 16 18 20"
   ]
  },
  {
   "cell_type": "code",
   "execution_count": 44,
   "id": "c40cbb66",
   "metadata": {},
   "outputs": [
    {
     "name": "stdout",
     "output_type": "stream",
     "text": [
      "2\n",
      "4\n",
      "6\n",
      "8\n",
      "10\n",
      "12\n",
      "14\n",
      "16\n",
      "18\n",
      "20\n"
     ]
    }
   ],
   "source": [
    "for i in range(1,21):\n",
    "    if i%2==0:\n",
    "        print(i)"
   ]
  },
  {
   "cell_type": "markdown",
   "id": "5c5fb229",
   "metadata": {},
   "source": [
    "Create a countdown from 5 to 1. Use for.\n",
    "Output:\n",
    "5\n",
    "4\n",
    "3\n",
    "2\n",
    "1\n",
    "Liftoff!"
   ]
  },
  {
   "cell_type": "code",
   "execution_count": 47,
   "id": "503fc926",
   "metadata": {},
   "outputs": [
    {
     "name": "stdout",
     "output_type": "stream",
     "text": [
      "6\n",
      "5\n",
      "4\n",
      "3\n",
      "2\n",
      "1\n",
      "Liftoff!\n"
     ]
    }
   ],
   "source": [
    "num=int(input(\"Enter number\"))\n",
    "for i in range(num,0,-1):\n",
    "    print(i)\n",
    "print(\"Liftoff!\")"
   ]
  },
  {
   "cell_type": "markdown",
   "id": "15a8f071",
   "metadata": {},
   "source": [
    "1. Print all numbers from 1 to 10 using a for loop.\n",
    "Output:1 2 3 4 5 6 7 8 9 10"
   ]
  },
  {
   "cell_type": "code",
   "execution_count": 51,
   "id": "0c7ab509",
   "metadata": {},
   "outputs": [
    {
     "name": "stdout",
     "output_type": "stream",
     "text": [
      "1\n",
      "2\n",
      "3\n",
      "4\n",
      "5\n",
      "6\n",
      "7\n",
      "8\n",
      "9\n",
      "10\n"
     ]
    }
   ],
   "source": [
    "for num in range(1,11):\n",
    "    print(num)"
   ]
  },
  {
   "cell_type": "markdown",
   "id": "fb5cb0f0",
   "metadata": {},
   "source": [
    "2. Print the square of numbers from 1 to 5.\n",
    "Output:1 4 9 16 25"
   ]
  },
  {
   "cell_type": "code",
   "execution_count": 57,
   "id": "a862ae2e",
   "metadata": {},
   "outputs": [
    {
     "name": "stdout",
     "output_type": "stream",
     "text": [
      "1\n",
      "4\n",
      "9\n",
      "16\n",
      "25\n",
      "36\n",
      "49\n",
      "64\n",
      "81\n"
     ]
    }
   ],
   "source": [
    "square=int(input(\"enter number\"))\n",
    "for sqrt in range(1,square+1):\n",
    "    print(sqrt**2)"
   ]
  },
  {
   "cell_type": "code",
   "execution_count": 59,
   "id": "a8a6f3b4",
   "metadata": {},
   "outputs": [
    {
     "name": "stdout",
     "output_type": "stream",
     "text": [
      "1\n",
      "8\n",
      "27\n"
     ]
    }
   ],
   "source": [
    "# cube\n",
    "\n",
    "cube_num=int(input(\"enter number\"))\n",
    "for cube in range(1,cube_num+1):\n",
    "    print(cube**3)"
   ]
  },
  {
   "cell_type": "markdown",
   "id": "725c3cf5",
   "metadata": {},
   "source": [
    "3. Ask the user to enter 5 numbers and print the sum.\n",
    "Sample Input:\n",
    "3\n",
    "4\n",
    "5\n",
    "2\n",
    "6\n",
    "Output: Total sum is: 20"
   ]
  },
  {
   "cell_type": "code",
   "execution_count": 67,
   "id": "ca2a56b0",
   "metadata": {},
   "outputs": [
    {
     "name": "stdout",
     "output_type": "stream",
     "text": [
      "30\n"
     ]
    }
   ],
   "source": [
    "nums=[5,9,3,7,6]\n",
    "sum=0\n",
    "for num in nums:\n",
    "    sum=sum+num\n",
    "print(sum)"
   ]
  },
  {
   "cell_type": "markdown",
   "id": "30735094",
   "metadata": {},
   "source": [
    "4. Print each character in the word “Python” using a for loop.\n",
    "Output:\n",
    "\n",
    "P  \n",
    "y  \n",
    "t  \n",
    "h  \n",
    "o  \n",
    "n"
   ]
  },
  {
   "cell_type": "code",
   "execution_count": 68,
   "id": "b5cc0405",
   "metadata": {},
   "outputs": [
    {
     "name": "stdout",
     "output_type": "stream",
     "text": [
      "p\n",
      "y\n",
      "t\n",
      "h\n",
      "o\n",
      "n\n"
     ]
    }
   ],
   "source": [
    "text=\"python\"\n",
    "for char in text:\n",
    "    print(char)"
   ]
  },
  {
   "cell_type": "markdown",
   "id": "f35bc1f6",
   "metadata": {},
   "source": [
    "5. Ask for 3 names and print them in uppercase.\n",
    "Sample Input:\n",
    "Alice\n",
    "Bob\n",
    "John\n",
    "Output:\n",
    "\n",
    "ALICE  \n",
    "BOB  \n",
    "JOHN"
   ]
  },
  {
   "cell_type": "code",
   "execution_count": 187,
   "id": "1a8acd0f",
   "metadata": {},
   "outputs": [
    {
     "name": "stdout",
     "output_type": "stream",
     "text": [
      "ALICE\n",
      "BOB\n",
      "JOHN\n",
      "\n",
      "PRIYA\n",
      "\n"
     ]
    }
   ],
   "source": [
    "names=['Alice','Bob','John', \"\", \"Priya\", \"\"]\n",
    "for name in names:\n",
    "    print(name.upper())"
   ]
  },
  {
   "cell_type": "code",
   "execution_count": 188,
   "id": "f5539eef",
   "metadata": {},
   "outputs": [
    {
     "name": "stdout",
     "output_type": "stream",
     "text": [
      "ALICE\n",
      "BOB\n",
      "JOHN\n",
      "PRIYA\n"
     ]
    }
   ],
   "source": [
    "names=['Alice','Bob','John', \"\", \"Priya\", \"\"]\n",
    "for name in names:\n",
    "    if name:\n",
    "        print(name.upper())"
   ]
  },
  {
   "cell_type": "markdown",
   "id": "ec46345f",
   "metadata": {},
   "source": [
    "6. Print the multiplication table of 3 (from 1 to 10).\n",
    "Output:\n",
    "\n",
    "python-repl\n",
    "Copy\n",
    "Edit\n",
    "3 x 1 = 3  \n",
    "3 x 2 = 6  \n",
    "...  \n",
    "3 x 10 = 30"
   ]
  },
  {
   "cell_type": "code",
   "execution_count": 72,
   "id": "b7849247",
   "metadata": {},
   "outputs": [
    {
     "name": "stdout",
     "output_type": "stream",
     "text": [
      "3 x 1 = 3\n",
      "3 x 2 = 6\n",
      "3 x 3 = 9\n",
      "3 x 4 = 12\n",
      "3 x 5 = 15\n",
      "3 x 6 = 18\n",
      "3 x 7 = 21\n",
      "3 x 8 = 24\n",
      "3 x 9 = 27\n",
      "3 x 10 = 30\n"
     ]
    }
   ],
   "source": [
    "for i in range(1,11):\n",
    "    print(f\"3 x {i} = {3*i}\")"
   ]
  },
  {
   "cell_type": "markdown",
   "id": "a81bc66d",
   "metadata": {},
   "source": [
    "7. Print all vowels in a given sentence.\n",
    "Sample Input:\n",
    "\"Hello World\"\n",
    "Output:\n",
    "e  \n",
    "o  \n",
    "o"
   ]
  },
  {
   "cell_type": "code",
   "execution_count": 81,
   "id": "d681682b",
   "metadata": {},
   "outputs": [
    {
     "name": "stdout",
     "output_type": "stream",
     "text": [
      "A\n",
      "i\n",
      "a\n"
     ]
    }
   ],
   "source": [
    "text=input(\"enter a text\")\n",
    "vowel=\"aeiou\"\n",
    "for char in text:\n",
    "    if char.lower() in vowel:\n",
    "        print(char)"
   ]
  },
  {
   "cell_type": "markdown",
   "id": "ed98ea06",
   "metadata": {},
   "source": [
    "8. Check and print only words with more than 5 characters from a list.\n",
    "Sample List: [\"apple\", \"banana\", \"grape\", \"pineapple\"]\n",
    "Output:\n",
    "banana  \n",
    "pineapple"
   ]
  },
  {
   "cell_type": "code",
   "execution_count": 87,
   "id": "002de4be",
   "metadata": {},
   "outputs": [
    {
     "name": "stdout",
     "output_type": "stream",
     "text": [
      "banana\n",
      "pineapple\n"
     ]
    }
   ],
   "source": [
    "fruits=[\"apple\", \"banana\", \"grape\", \"pineapple\"]\n",
    "for fruit in fruits:\n",
    "    if len(fruit) > 5:\n",
    "        print(fruit)"
   ]
  },
  {
   "cell_type": "markdown",
   "id": "6f584c39",
   "metadata": {},
   "source": [
    "9. Ask the user for 5 numbers and print only the even ones.\n",
    "Sample Input:\n",
    "4\n",
    "7\n",
    "2\n",
    "9\n",
    "10\n",
    "Output:\n",
    "Even numbers: 4 2 10\n"
   ]
  },
  {
   "cell_type": "code",
   "execution_count": 112,
   "id": "1565f405",
   "metadata": {},
   "outputs": [
    {
     "name": "stdout",
     "output_type": "stream",
     "text": [
      "[2]\n",
      "[2, 6]\n",
      "[2, 6]\n",
      "[2, 6]\n",
      "[2, 6, 4]\n"
     ]
    }
   ],
   "source": [
    "number = []\n",
    "for i in range(5):\n",
    "    num = int(input(\"Enter number:\"))\n",
    "    if num%2 == 0:\n",
    "        number.append(num)\n",
    "    print(number)"
   ]
  },
  {
   "cell_type": "code",
   "execution_count": 113,
   "id": "5a3f5955",
   "metadata": {},
   "outputs": [
    {
     "name": "stdout",
     "output_type": "stream",
     "text": [
      "\n",
      "*\n",
      "**\n",
      "***\n",
      "****\n",
      "*****\n"
     ]
    }
   ],
   "source": [
    "# 10.Print a right-angle triangle using stars * for 5 rows.\n",
    "# Output:\n",
    "\n",
    "# *  \n",
    "# **  \n",
    "# ***  \n",
    "# ****  \n",
    "# *****\n",
    "\n",
    "for i in range (0,6):\n",
    "    print(\"*\" *i)"
   ]
  },
  {
   "cell_type": "markdown",
   "id": "75fa51bd",
   "metadata": {},
   "source": [
    "11. Reverse a word using a for loop.\n",
    "Sample Input:\n",
    "\"Tiger\"\n",
    "Output:\n",
    "regiT"
   ]
  },
  {
   "cell_type": "code",
   "execution_count": 170,
   "id": "599c5a97",
   "metadata": {},
   "outputs": [
    {
     "name": "stdout",
     "output_type": "stream",
     "text": [
      "T\n",
      "iT\n",
      "giT\n",
      "egiT\n",
      "regiT\n"
     ]
    }
   ],
   "source": [
    "animal='Tiger'\n",
    "reverse=''\n",
    "for ani in animal:\n",
    "    reverse=ani+reverse\n",
    "    print(reverse)"
   ]
  },
  {
   "cell_type": "code",
   "execution_count": 175,
   "id": "6e0546ce",
   "metadata": {},
   "outputs": [
    {
     "name": "stdout",
     "output_type": "stream",
     "text": [
      "regiT\n"
     ]
    }
   ],
   "source": [
    "animal=\"Tiger\"\n",
    "reverse=animal[::-1]\n",
    "print(reverse)\n"
   ]
  },
  {
   "cell_type": "markdown",
   "id": "61b60ce0",
   "metadata": {},
   "source": [
    "12. Print the factorial of a given number using a for loop.\n",
    "Input: 5\n",
    "Output:\n",
    "Factorial of 5 is 120"
   ]
  },
  {
   "cell_type": "code",
   "execution_count": 171,
   "id": "36491f3c",
   "metadata": {},
   "outputs": [
    {
     "name": "stdout",
     "output_type": "stream",
     "text": [
      "120\n"
     ]
    }
   ],
   "source": [
    "fact=int(input(\"Enter number\"))\n",
    "factorial=1\n",
    "for i in range(1,fact+1):\n",
    "    factorial*=i\n",
    "print(factorial)"
   ]
  },
  {
   "cell_type": "markdown",
   "id": "40311901",
   "metadata": {},
   "source": [
    "13. Ask for 5 fruits and print how many start with a vowel.\n",
    "Sample Input:\n",
    "Apple\n",
    "Mango\n",
    "Orange\n",
    "Grape\n",
    "Apricot\n",
    "Output:\n",
    "Fruits starting with vowels: 3"
   ]
  },
  {
   "cell_type": "code",
   "execution_count": 172,
   "id": "f5f659c4",
   "metadata": {},
   "outputs": [
    {
     "name": "stdout",
     "output_type": "stream",
     "text": [
      "Apple\n",
      "Orange\n",
      "Apricot\n",
      "Fruit start with vowel 3\n"
     ]
    }
   ],
   "source": [
    "fruits=['Apple','Mango','Orange','Grape','Apricot']\n",
    "vowel='aeiou'\n",
    "count=0\n",
    "for fruit in fruits:\n",
    "    if fruit[0].lower() in vowel:\n",
    "        count+=1\n",
    "        print(fruit)\n",
    "print(f\"Fruit start with vowel {count}\")"
   ]
  },
  {
   "cell_type": "markdown",
   "id": "b70e6d2c",
   "metadata": {},
   "source": [
    "14. Print all characters from a word, but skip spaces.\n",
    "Input: \"New York\"\n",
    "Output:\n",
    "\n",
    "N  \n",
    "e  \n",
    "w  \n",
    "Y  \n",
    "o  \n",
    "r  \n",
    "k\n"
   ]
  },
  {
   "cell_type": "code",
   "execution_count": 6,
   "id": "3cae9ef9",
   "metadata": {},
   "outputs": [
    {
     "name": "stdout",
     "output_type": "stream",
     "text": [
      "N\n",
      "e\n",
      "w\n",
      "Y\n",
      "o\n",
      "r\n",
      "k\n"
     ]
    }
   ],
   "source": [
    "text=\"New York\"\n",
    "for city in text:\n",
    "    if city.strip():\n",
    "        print(city)"
   ]
  },
  {
   "cell_type": "markdown",
   "id": "491a7500",
   "metadata": {},
   "source": [
    "15. Create a list of squares from 1 to 10 using a for loop and print it.\n",
    "Output:\n",
    "\n",
    "[1, 4, 9, 16, 25, 36, 49, 64, 81, 100]"
   ]
  },
  {
   "cell_type": "code",
   "execution_count": 174,
   "id": "43903393",
   "metadata": {},
   "outputs": [
    {
     "name": "stdout",
     "output_type": "stream",
     "text": [
      "[1, 4, 9, 16, 25, 36, 49, 64, 81, 100]\n"
     ]
    }
   ],
   "source": [
    "sqrt=[]\n",
    "for square in range(1,11):\n",
    "    sqrt.append(square**2)\n",
    "print(sqrt)"
   ]
  },
  {
   "cell_type": "markdown",
   "id": "89eca538",
   "metadata": {},
   "source": [
    "16. Count how many vowels are in a sentence.\n",
    "Input: \"Python is powerful\"\n",
    "Output: Vowel count: 5"
   ]
  },
  {
   "cell_type": "code",
   "execution_count": 183,
   "id": "938b0d9e",
   "metadata": {},
   "outputs": [
    {
     "name": "stdout",
     "output_type": "stream",
     "text": [
      "Vowel count 5\n"
     ]
    }
   ],
   "source": [
    "text=input('Enter sentence: ')\n",
    "vowel='aeiou'\n",
    "count=0\n",
    "for char in text:\n",
    "    if char.lower() in vowel:\n",
    "        count+=1\n",
    "print(f\"Vowel count {count}\")\n",
    "        "
   ]
  },
  {
   "cell_type": "markdown",
   "id": "9d732f1f",
   "metadata": {},
   "source": [
    "17. Reverse a list without using .reverse() or slicing.\n",
    "Input: [1, 2, 3, 4]\n",
    "Output: [4, 3, 2, 1]"
   ]
  },
  {
   "cell_type": "code",
   "execution_count": null,
   "id": "f1a0c19f",
   "metadata": {},
   "outputs": [],
   "source": [
    "list=[1,2,3,4]\n",
    "for num in list:\n",
    "    "
   ]
  },
  {
   "cell_type": "code",
   "execution_count": 208,
   "id": "bde0f028",
   "metadata": {},
   "outputs": [
    {
     "name": "stdout",
     "output_type": "stream",
     "text": [
      "1\n",
      "3\n",
      "5\n",
      "7\n",
      "8\n",
      "9\n",
      "200\n",
      "398\n",
      "56786\n",
      "34\n",
      "8\n",
      "7\n",
      "4\n",
      "56\n",
      "34\n",
      "567\n"
     ]
    }
   ],
   "source": [
    "list1 = [1, 3, 5, 7, 8, 9, 200, 398, 56786, 34]\n",
    "tup1 = (8, 7, 4, 56, 34, 567)\n",
    "dict1 = {\"list1\": list1, \"tup1\": tup1}\n",
    "\n",
    "for num in dict1.values():\n",
    "    for i in num:\n",
    "        print(i)\n"
   ]
  },
  {
   "cell_type": "code",
   "execution_count": 223,
   "id": "29a24882",
   "metadata": {},
   "outputs": [
    {
     "data": {
      "text/plain": [
       "1"
      ]
     },
     "execution_count": 223,
     "metadata": {},
     "output_type": "execute_result"
    }
   ],
   "source": [
    "dict1['list1'][0]"
   ]
  },
  {
   "cell_type": "code",
   "execution_count": 192,
   "id": "22c9dd75",
   "metadata": {},
   "outputs": [
    {
     "data": {
      "text/plain": [
       "list"
      ]
     },
     "execution_count": 192,
     "metadata": {},
     "output_type": "execute_result"
    }
   ],
   "source": [
    "type(list1)"
   ]
  },
  {
   "cell_type": "code",
   "execution_count": 226,
   "id": "89223e32",
   "metadata": {},
   "outputs": [
    {
     "name": "stdout",
     "output_type": "stream",
     "text": [
      "1 <class 'str'>\n",
      "2 <class 'str'>\n",
      "3 <class 'str'>\n"
     ]
    }
   ],
   "source": [
    "for i in \"123\":\n",
    "    print(i, type(i))\n"
   ]
  },
  {
   "cell_type": "code",
   "execution_count": 2,
   "id": "74a7d6f1",
   "metadata": {},
   "outputs": [
    {
     "data": {
      "text/plain": [
       "(0, 1, 2, 3, 4)"
      ]
     },
     "execution_count": 2,
     "metadata": {},
     "output_type": "execute_result"
    }
   ],
   "source": [
    "tuple(list(tuple(range(5))))"
   ]
  },
  {
   "cell_type": "code",
   "execution_count": 5,
   "id": "7984f215",
   "metadata": {},
   "outputs": [
    {
     "name": "stdout",
     "output_type": "stream",
     "text": [
      "(8, 7, 4, 56, 34, 567, 8, 9)\n",
      "count 2\n",
      "first element 8\n",
      "last element 9\n",
      "3\n",
      "8\n",
      "7\n",
      "4\n",
      "56\n",
      "34\n",
      "567\n",
      "8\n",
      "9\n"
     ]
    }
   ],
   "source": [
    "tup1 = (8, 7, 4, 56, 34, 567,8,9)\n",
    "print(tup1)\n",
    "\n",
    "print(\"count\",tup1.count(8))\n",
    "print(\"first element\",tup1[0])\n",
    "print(\"last element\",tup1[-1])\n",
    "print(tup1.index(56))\n",
    "\n",
    "for num in tup1:\n",
    "    print(num)"
   ]
  },
  {
   "cell_type": "code",
   "execution_count": 17,
   "id": "2d6e732b",
   "metadata": {},
   "outputs": [
    {
     "name": "stdout",
     "output_type": "stream",
     "text": [
      "{1, 2, 3, 4}\n",
      "{1, 2, 4}\n",
      "{1, 2, 3, 4, 5}\n",
      "{2, 4}\n"
     ]
    }
   ],
   "source": [
    "num={1,2,3}\n",
    "num.add(4)\n",
    "print(num)\n",
    "\n",
    "num.remove(3)\n",
    "print(num)\n",
    "\n",
    "numbs={2,3,4,5}\n",
    "print(num | numbs)\n",
    "\n",
    "print(num & numbs)"
   ]
  },
  {
   "cell_type": "code",
   "execution_count": null,
   "id": "e04e3974",
   "metadata": {},
   "outputs": [],
   "source": []
  }
 ],
 "metadata": {
  "kernelspec": {
   "display_name": "my_ai_env",
   "language": "python",
   "name": "python3"
  },
  "language_info": {
   "codemirror_mode": {
    "name": "ipython",
    "version": 3
   },
   "file_extension": ".py",
   "mimetype": "text/x-python",
   "name": "python",
   "nbconvert_exporter": "python",
   "pygments_lexer": "ipython3",
   "version": "3.13.5"
  }
 },
 "nbformat": 4,
 "nbformat_minor": 5
}
