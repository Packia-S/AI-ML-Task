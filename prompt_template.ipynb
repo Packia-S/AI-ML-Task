{
 "cells": [
  {
   "cell_type": "code",
   "execution_count": 47,
   "id": "60763788",
   "metadata": {},
   "outputs": [],
   "source": [
    "from langchain_cohere import ChatCohere\n",
    "from langchain_core.messages import HumanMessage, AIMessage, SystemMessage\n",
    "from langchain_core.prompts import ChatPromptTemplate\n"
   ]
  },
  {
   "cell_type": "code",
   "execution_count": 48,
   "id": "fc2667fa",
   "metadata": {},
   "outputs": [
    {
     "data": {
      "text/plain": [
       "Settings(cohere_api_key='hjv5C9hwEtFQ9DCtFOfB4cYIDCeaPmWwsNUk65er')"
      ]
     },
     "execution_count": 48,
     "metadata": {},
     "output_type": "execute_result"
    }
   ],
   "source": [
    "from pydantic_settings import BaseSettings\n",
    "\n",
    "\n",
    "\n",
    "class Settings(BaseSettings):\n",
    "    cohere_api_key: str\n",
    "    \n",
    "    class Config:\n",
    "        env_file = \".env\"\n",
    "        extra = \"ignore\"\n",
    "        \n",
    "        \n",
    "settings = Settings()\n",
    "settings"
   ]
  },
  {
   "cell_type": "code",
   "execution_count": 49,
   "id": "cad8a563",
   "metadata": {},
   "outputs": [],
   "source": [
    "llm = ChatCohere(cohere_api_key=settings.cohere_api_key, temperature=0.7)"
   ]
  },
  {
   "cell_type": "markdown",
   "id": "da04535c",
   "metadata": {},
   "source": [
    "# example 1\n"
   ]
  },
  {
   "cell_type": "code",
   "execution_count": 50,
   "id": "4e29daec",
   "metadata": {},
   "outputs": [],
   "source": [
    "messages = [\n",
    "    SystemMessage(content=\"You are a helpful assistant.\"),\n",
    "    HumanMessage(content=\"What is the capital of France?\"),\n",
    "]"
   ]
  },
  {
   "cell_type": "code",
   "execution_count": 51,
   "id": "25bb4c26",
   "metadata": {},
   "outputs": [
    {
     "name": "stdout",
     "output_type": "stream",
     "text": [
      "content='The capital of France is Paris.' additional_kwargs={'id': 'bbdb5428-5f05-467c-b925-f209572b8b50', 'finish_reason': 'COMPLETE', 'content': 'The capital of France is Paris.', 'token_count': {'input_tokens': 542.0, 'output_tokens': 9.0}} response_metadata={'id': 'bbdb5428-5f05-467c-b925-f209572b8b50', 'finish_reason': 'COMPLETE', 'content': 'The capital of France is Paris.', 'token_count': {'input_tokens': 542.0, 'output_tokens': 9.0}} id='run--7e078d62-32e4-4ce9-936b-e895691f7e7a-0' usage_metadata={'input_tokens': 542, 'output_tokens': 9, 'total_tokens': 551}\n"
     ]
    }
   ],
   "source": [
    "print(llm.invoke(messages))"
   ]
  },
  {
   "cell_type": "markdown",
   "id": "4e792c4d",
   "metadata": {},
   "source": [
    "# example 2  system ,human ,ai multiple messages"
   ]
  },
  {
   "cell_type": "code",
   "execution_count": 13,
   "id": "d74f371b",
   "metadata": {},
   "outputs": [],
   "source": [
    "messages = [\n",
    "    SystemMessage(\n",
    "        content=\"You are a helpful assistant.\"\n",
    "        ),\n",
    "    HumanMessage(\n",
    "        content=\"What is the capital of France?\"\n",
    "        ),\n",
    "    AIMessage(\n",
    "        content=\"The capital of France is Paris.\"\n",
    "        ),\n",
    "    HumanMessage(\n",
    "        content=\"What is the capital of Germany?\"\n",
    "        ),\n",
    "]"
   ]
  },
  {
   "cell_type": "code",
   "execution_count": 14,
   "id": "c365e25c",
   "metadata": {},
   "outputs": [
    {
     "data": {
      "text/plain": [
       "'The capital of Germany is Berlin.'"
      ]
     },
     "execution_count": 14,
     "metadata": {},
     "output_type": "execute_result"
    }
   ],
   "source": [
    "llm.invoke(messages).content"
   ]
  },
  {
   "cell_type": "markdown",
   "id": "87b08455",
   "metadata": {},
   "source": [
    "# Example 3 chat prompt Template"
   ]
  },
  {
   "cell_type": "code",
   "execution_count": 15,
   "id": "eac60593",
   "metadata": {},
   "outputs": [],
   "source": [
    "chat_template = ChatPromptTemplate.from_messages(\n",
    "    [\n",
    "        (\"system\", \"You are a running coach! Your name is {name}\"),\n",
    "         (\"human\", \"How many miles did you run today?\"),\n",
    "         (\"ai\", \"I ran {miles} miles today!\"),\n",
    "         (\"human\", \"{user_input}\")\n",
    "          \n",
    "    ]\n",
    ")"
   ]
  },
  {
   "cell_type": "code",
   "execution_count": 16,
   "id": "9d14035a",
   "metadata": {},
   "outputs": [],
   "source": [
    "prompt = chat_template.invoke(\n",
    "    {\n",
    "        \"name\": \"Riya\",\n",
    "        \"miles\": 5,\n",
    "        \"user_input\": \"what is a good 200M speed Workout.\"\n",
    "    }\n",
    ")"
   ]
  },
  {
   "cell_type": "code",
   "execution_count": 17,
   "id": "f2bdbb56",
   "metadata": {},
   "outputs": [
    {
     "name": "stdout",
     "output_type": "stream",
     "text": [
      "messages=[SystemMessage(content='You are a running coach! Your name is Riya', additional_kwargs={}, response_metadata={}), HumanMessage(content='How many miles did you run today?', additional_kwargs={}, response_metadata={}), AIMessage(content='I ran 5 miles today!', additional_kwargs={}, response_metadata={}), HumanMessage(content='what is a good 200M speed Workout.', additional_kwargs={}, response_metadata={})]\n"
     ]
    }
   ],
   "source": [
    "print(prompt)"
   ]
  },
  {
   "cell_type": "code",
   "execution_count": 18,
   "id": "420b4169",
   "metadata": {},
   "outputs": [],
   "source": [
    "response = llm.invoke(prompt)"
   ]
  },
  {
   "cell_type": "code",
   "execution_count": 19,
   "id": "86040a8b",
   "metadata": {},
   "outputs": [
    {
     "data": {
      "text/plain": [
       "\"A great 200m speed workout should focus on developing both speed and endurance. Here’s a solid session you can try:\\n\\n### **200m Speed Workout**\\n**Warm-Up:**\\n- 15-20 minutes of easy jogging, dynamic stretches, and drills (e.g., high knees, butt kicks, strides).\\n\\n**Main Set:**\\n- **6-8 x 200m** at **90-95% effort** (slightly slower than all-out sprint pace).  \\n  - Rest: **2-3 minutes** between reps (full recovery to maintain quality).  \\n\\n**Optional Add-On (for advanced runners):**\\n- **4 x 100m strides** at **95-100% effort** after the 200m reps.  \\n  - Rest: **1 minute** between strides.  \\n\\n**Cool-Down:**\\n- 10-15 minutes of easy jogging and static stretching.\\n\\n### **Tips:**\\n- Focus on maintaining good form throughout each 200m rep.  \\n- Gradually increase the number of reps or decrease rest time as you get fitter.  \\n- Pair this workout with strength training (e.g., squats, lunges, plyometrics) for better results.  \\n\\nLet me know if you'd like variations or adjustments based on your goals! 🏃\\u200d♀️\""
      ]
     },
     "execution_count": 19,
     "metadata": {},
     "output_type": "execute_result"
    }
   ],
   "source": [
    "response.content"
   ]
  },
  {
   "cell_type": "code",
   "execution_count": 53,
   "id": "954443f3",
   "metadata": {},
   "outputs": [
    {
     "data": {
      "text/plain": [
       "[HumanMessagePromptTemplate(prompt=PromptTemplate(input_variables=['name'], input_types={}, partial_variables={}, template='\\n        \"You are a helpful assistant. your name is {name}.\"\\n        \"what is the capital of Indai?\"\\n        \"The capital of India is New Delhi.\"\\n        \"what is the capital of Tamil Nadu?\"\\n    '), additional_kwargs={})]"
      ]
     },
     "execution_count": 53,
     "metadata": {},
     "output_type": "execute_result"
    }
   ],
   "source": [
    "ChatPromptTemplate.from_template(\n",
    "    \"\"\"\n",
    "        \"You are a helpful assistant. your name is {name}.\"\n",
    "        \"what is the capital of Indai?\"\n",
    "        \"The capital of India is New Delhi.\"\n",
    "        \"what is the capital of Tamil Nadu?\"\n",
    "    \"\"\"\n",
    ").messages"
   ]
  },
  {
   "cell_type": "code",
   "execution_count": 21,
   "id": "c20e8afe",
   "metadata": {},
   "outputs": [
    {
     "data": {
      "text/plain": [
       "[SystemMessagePromptTemplate(prompt=PromptTemplate(input_variables=['name'], input_types={}, partial_variables={}, template='You are a helpful assistant. your name is {name}.'), additional_kwargs={}),\n",
       " HumanMessagePromptTemplate(prompt=PromptTemplate(input_variables=[], input_types={}, partial_variables={}, template='what is the capital of Indai?'), additional_kwargs={}),\n",
       " AIMessagePromptTemplate(prompt=PromptTemplate(input_variables=[], input_types={}, partial_variables={}, template='The capital of India is New Delhi.'), additional_kwargs={}),\n",
       " HumanMessagePromptTemplate(prompt=PromptTemplate(input_variables=[], input_types={}, partial_variables={}, template='what is the capital of Tamil Nadu?'), additional_kwargs={})]"
      ]
     },
     "execution_count": 21,
     "metadata": {},
     "output_type": "execute_result"
    }
   ],
   "source": [
    "chat_prompt = ChatPromptTemplate.from_messages(\n",
    "    [\n",
    "        (\"system\", \"You are a helpful assistant. your name is {name}.\"),\n",
    "        (\"human\", \"what is the capital of Indai?\"),\n",
    "        (\"ai\", \"The capital of India is New Delhi.\"),\n",
    "        (\"human\", \"what is the capital of Tamil Nadu?\"),\n",
    "    ]\n",
    ")\n",
    "chat_prompt.messages"
   ]
  },
  {
   "cell_type": "code",
   "execution_count": 27,
   "id": "f2a0123a",
   "metadata": {},
   "outputs": [
    {
     "data": {
      "text/plain": [
       "[SystemMessage(content='You are a helpful assistant. your name is Priya.', additional_kwargs={}, response_metadata={}),\n",
       " HumanMessage(content='what is the capital of Indai?', additional_kwargs={}, response_metadata={}),\n",
       " AIMessage(content='The capital of India is New Delhi.', additional_kwargs={}, response_metadata={}),\n",
       " HumanMessage(content='what is the capital of Tamil Nadu?', additional_kwargs={}, response_metadata={})]"
      ]
     },
     "execution_count": 27,
     "metadata": {},
     "output_type": "execute_result"
    }
   ],
   "source": [
    "chat_prompt.invoke({\"input\": None, \"name\": \"Priya\"}).messages"
   ]
  },
  {
   "cell_type": "code",
   "execution_count": null,
   "id": "4667c2c6",
   "metadata": {},
   "outputs": [
    {
     "data": {
      "text/plain": [
       "[SystemMessagePromptTemplate(prompt=PromptTemplate(input_variables=['name'], input_types={}, partial_variables={}, template='You are a helpful assistant. your name is {name}.'), additional_kwargs={}),\n",
       " HumanMessagePromptTemplate(prompt=PromptTemplate(input_variables=[], input_types={}, partial_variables={}, template='what is the capital of Indai?'), additional_kwargs={}),\n",
       " AIMessagePromptTemplate(prompt=PromptTemplate(input_variables=[], input_types={}, partial_variables={}, template='The capital of India is New Delhi.'), additional_kwargs={}),\n",
       " HumanMessagePromptTemplate(prompt=PromptTemplate(input_variables=[], input_types={}, partial_variables={}, template='what is the capital of Tamil Nadu?'), additional_kwargs={})]"
      ]
     },
     "execution_count": 23,
     "metadata": {},
     "output_type": "execute_result"
    }
   ],
   "source": [
    "chat_prompt.messages"
   ]
  },
  {
   "cell_type": "code",
   "execution_count": 46,
   "id": "1b6623c6",
   "metadata": {},
   "outputs": [],
   "source": [
    "#responses = llm.invoke(chat_prompt.invoke({\"input\": None}).messages)\n",
    "#responses.content"
   ]
  },
  {
   "cell_type": "code",
   "execution_count": 29,
   "id": "f8fb94dd",
   "metadata": {},
   "outputs": [
    {
     "data": {
      "text/plain": [
       "PromptTemplate(input_variables=['topic'], input_types={}, partial_variables={}, template='You are a helpfull assistant. tell me a joke on this {topic}')"
      ]
     },
     "execution_count": 29,
     "metadata": {},
     "output_type": "execute_result"
    }
   ],
   "source": [
    "from langchain_core.prompts import PromptTemplate\n",
    "\n",
    "prompt_template = PromptTemplate.from_template(template = \"You are a helpfull assistant. tell me a joke on this {topic}\")\n",
    "prompt_template"
   ]
  },
  {
   "cell_type": "code",
   "execution_count": 30,
   "id": "cdda29d6",
   "metadata": {},
   "outputs": [
    {
     "data": {
      "text/plain": [
       "StringPromptValue(text='You are a helpfull assistant. tell me a joke on this Love')"
      ]
     },
     "execution_count": 30,
     "metadata": {},
     "output_type": "execute_result"
    }
   ],
   "source": [
    "prompt = prompt_template.invoke({\"topic\": \"Love\"})\n",
    "prompt"
   ]
  },
  {
   "cell_type": "code",
   "execution_count": null,
   "id": "33b95924",
   "metadata": {},
   "outputs": [
    {
     "name": "stdout",
     "output_type": "stream",
     "text": [
      "Sure! Here's a lighthearted joke about love:\n",
      "\n",
      "**Why don’t scientists trust atoms in relationships?**  \n",
      "Because they make up everything!  \n",
      "\n",
      "Hope that brought a smile! 😊\n"
     ]
    }
   ],
   "source": [
    "print(llm.invoke(prompt).content)"
   ]
  },
  {
   "cell_type": "code",
   "execution_count": null,
   "id": "1c3138eb",
   "metadata": {},
   "outputs": [],
   "source": [
    "chats_prompt = ChatPromptTemplate.from_template(\n",
    "    \"\"\"\n",
    "    Your are a helpfull assistent and your name is {name}.\n",
    "    \n",
    "    \n",
    "    \"\"\"\n",
    ")"
   ]
  },
  {
   "cell_type": "code",
   "execution_count": null,
   "id": "8e55a36d",
   "metadata": {},
   "outputs": [],
   "source": []
  },
  {
   "cell_type": "code",
   "execution_count": null,
   "id": "41496148",
   "metadata": {},
   "outputs": [],
   "source": []
  },
  {
   "cell_type": "code",
   "execution_count": null,
   "id": "bba09304",
   "metadata": {},
   "outputs": [],
   "source": []
  },
  {
   "cell_type": "code",
   "execution_count": 31,
   "id": "aba6bd94",
   "metadata": {},
   "outputs": [
    {
     "data": {
      "text/plain": [
       "PromptTemplate(input_variables=['topic'], input_types={}, partial_variables={}, template='Tell me a joke about {topic}')"
      ]
     },
     "execution_count": 31,
     "metadata": {},
     "output_type": "execute_result"
    }
   ],
   "source": [
    "from langchain_core.prompts import PromptTemplate\n",
    "\n",
    "prompt_template = PromptTemplate.from_template(\"Tell me a joke about {topic}\")\n",
    "\n",
    "prompt_template"
   ]
  },
  {
   "cell_type": "code",
   "execution_count": 32,
   "id": "8723bbf8",
   "metadata": {},
   "outputs": [
    {
     "data": {
      "text/plain": [
       "StringPromptValue(text='Tell me a joke about cats')"
      ]
     },
     "execution_count": 32,
     "metadata": {},
     "output_type": "execute_result"
    }
   ],
   "source": [
    "prompt_template.invoke({\"topic\": \"cats\"})"
   ]
  },
  {
   "cell_type": "code",
   "execution_count": 33,
   "id": "16c5b946",
   "metadata": {},
   "outputs": [
    {
     "data": {
      "text/plain": [
       "ChatPromptTemplate(input_variables=['topic'], input_types={}, partial_variables={}, messages=[SystemMessagePromptTemplate(prompt=PromptTemplate(input_variables=[], input_types={}, partial_variables={}, template='You are a helpful assistant'), additional_kwargs={}), HumanMessagePromptTemplate(prompt=PromptTemplate(input_variables=['topic'], input_types={}, partial_variables={}, template='Tell me a joke about {topic}'), additional_kwargs={})])"
      ]
     },
     "execution_count": 33,
     "metadata": {},
     "output_type": "execute_result"
    }
   ],
   "source": [
    "from langchain_core.prompts import ChatPromptTemplate\n",
    "\n",
    "prompt_template = ChatPromptTemplate([\n",
    "    (\"system\", \"You are a helpful assistant\"),\n",
    "    (\"user\", \"Tell me a joke about {topic}\")\n",
    "])\n",
    "prompt_template"
   ]
  },
  {
   "cell_type": "code",
   "execution_count": 34,
   "id": "53762265",
   "metadata": {},
   "outputs": [
    {
     "data": {
      "text/plain": [
       "ChatPromptValue(messages=[SystemMessage(content='You are a helpful assistant', additional_kwargs={}, response_metadata={}), HumanMessage(content='Tell me a joke about cats', additional_kwargs={}, response_metadata={})])"
      ]
     },
     "execution_count": 34,
     "metadata": {},
     "output_type": "execute_result"
    }
   ],
   "source": [
    "prompt_template.invoke({\"topic\": \"cats\"})"
   ]
  },
  {
   "cell_type": "code",
   "execution_count": 35,
   "id": "21014531",
   "metadata": {},
   "outputs": [
    {
     "data": {
      "text/plain": [
       "[SystemMessagePromptTemplate(prompt=PromptTemplate(input_variables=[], input_types={}, partial_variables={}, template='You are a helpful assistant'), additional_kwargs={}),\n",
       " HumanMessagePromptTemplate(prompt=PromptTemplate(input_variables=['topic'], input_types={}, partial_variables={}, template='Tell me a joke about {topic}'), additional_kwargs={})]"
      ]
     },
     "execution_count": 35,
     "metadata": {},
     "output_type": "execute_result"
    }
   ],
   "source": [
    "prompt_template.messages"
   ]
  },
  {
   "cell_type": "code",
   "execution_count": 36,
   "id": "d64df348",
   "metadata": {},
   "outputs": [
    {
     "data": {
      "text/plain": [
       "ChatPromptTemplate(input_variables=['msgs'], input_types={'msgs': list[typing.Annotated[typing.Union[typing.Annotated[langchain_core.messages.ai.AIMessage, Tag(tag='ai')], typing.Annotated[langchain_core.messages.human.HumanMessage, Tag(tag='human')], typing.Annotated[langchain_core.messages.chat.ChatMessage, Tag(tag='chat')], typing.Annotated[langchain_core.messages.system.SystemMessage, Tag(tag='system')], typing.Annotated[langchain_core.messages.function.FunctionMessage, Tag(tag='function')], typing.Annotated[langchain_core.messages.tool.ToolMessage, Tag(tag='tool')], typing.Annotated[langchain_core.messages.ai.AIMessageChunk, Tag(tag='AIMessageChunk')], typing.Annotated[langchain_core.messages.human.HumanMessageChunk, Tag(tag='HumanMessageChunk')], typing.Annotated[langchain_core.messages.chat.ChatMessageChunk, Tag(tag='ChatMessageChunk')], typing.Annotated[langchain_core.messages.system.SystemMessageChunk, Tag(tag='SystemMessageChunk')], typing.Annotated[langchain_core.messages.function.FunctionMessageChunk, Tag(tag='FunctionMessageChunk')], typing.Annotated[langchain_core.messages.tool.ToolMessageChunk, Tag(tag='ToolMessageChunk')]], FieldInfo(annotation=NoneType, required=True, discriminator=Discriminator(discriminator=<function _get_type at 0x00000261A73D32E0>, custom_error_type=None, custom_error_message=None, custom_error_context=None))]]}, partial_variables={}, messages=[SystemMessagePromptTemplate(prompt=PromptTemplate(input_variables=[], input_types={}, partial_variables={}, template='You are a helpful assistant'), additional_kwargs={}), MessagesPlaceholder(variable_name='msgs')])"
      ]
     },
     "execution_count": 36,
     "metadata": {},
     "output_type": "execute_result"
    }
   ],
   "source": [
    "from langchain_core.prompts import ChatPromptTemplate, MessagesPlaceholder\n",
    "from langchain_core.messages import HumanMessage\n",
    "\n",
    "prompt_template = ChatPromptTemplate([\n",
    "    (\"system\", \"You are a helpful assistant\"),\n",
    "    MessagesPlaceholder(\"msgs\") # -> List[BaseMessage]\n",
    "])\n",
    "\n",
    "prompt_template"
   ]
  },
  {
   "cell_type": "code",
   "execution_count": 37,
   "id": "dc41ab41",
   "metadata": {},
   "outputs": [
    {
     "data": {
      "text/plain": [
       "[SystemMessage(content='You are a helpful assistant', additional_kwargs={}, response_metadata={}),\n",
       " HumanMessage(content='hi!', additional_kwargs={}, response_metadata={}),\n",
       " AIMessage(content='How can I assist you today?', additional_kwargs={}, response_metadata={})]"
      ]
     },
     "execution_count": 37,
     "metadata": {},
     "output_type": "execute_result"
    }
   ],
   "source": [
    "prompt_template.invoke({\"msgs\": [HumanMessage(content=\"hi!\"), AIMessage(\"How can I assist you today?\")]}).to_messages()\n"
   ]
  },
  {
   "cell_type": "code",
   "execution_count": 38,
   "id": "07d8c02d",
   "metadata": {},
   "outputs": [
    {
     "data": {
      "text/plain": [
       "[SystemMessage(content='You are a helpful assistant.', additional_kwargs={}, response_metadata={}),\n",
       " HumanMessage(content=\"what's 5 + 2\", additional_kwargs={}, response_metadata={}),\n",
       " AIMessage(content='5 + 2 is 7', additional_kwargs={}, response_metadata={}),\n",
       " HumanMessage(content='now multiply that by 4', additional_kwargs={}, response_metadata={})]"
      ]
     },
     "execution_count": 38,
     "metadata": {},
     "output_type": "execute_result"
    }
   ],
   "source": [
    "prompt = ChatPromptTemplate.from_messages(\n",
    "    [\n",
    "        (\"system\", \"You are a helpful assistant.\"),\n",
    "        MessagesPlaceholder(\"history\"),\n",
    "        (\"human\", \"{question}\")\n",
    "    ]\n",
    ")\n",
    "prompt.invoke(\n",
    "   {\n",
    "       \"history\": [(\"human\", \"what's 5 + 2\"), (\"ai\", \"5 + 2 is 7\")],\n",
    "       \"question\": \"now multiply that by 4\"\n",
    "   }\n",
    ").messages"
   ]
  },
  {
   "cell_type": "code",
   "execution_count": 39,
   "id": "d050ff11",
   "metadata": {},
   "outputs": [
    {
     "data": {
      "text/plain": [
       "[SystemMessagePromptTemplate(prompt=PromptTemplate(input_variables=[], input_types={}, partial_variables={}, template='You are a helpful assistant.'), additional_kwargs={}),\n",
       " MessagesPlaceholder(variable_name='history'),\n",
       " HumanMessagePromptTemplate(prompt=PromptTemplate(input_variables=['question'], input_types={}, partial_variables={}, template='{question}'), additional_kwargs={})]"
      ]
     },
     "execution_count": 39,
     "metadata": {},
     "output_type": "execute_result"
    }
   ],
   "source": [
    "prompt.messages"
   ]
  },
  {
   "cell_type": "code",
   "execution_count": 40,
   "id": "f8ab9d71",
   "metadata": {},
   "outputs": [
    {
     "data": {
      "text/plain": [
       "[HumanMessage(content='Hello!', additional_kwargs={}, response_metadata={}),\n",
       " AIMessage(content='Hi there! How can I help you today?', additional_kwargs={}, response_metadata={}),\n",
       " HumanMessage(content='What is the weather like?', additional_kwargs={}, response_metadata={})]"
      ]
     },
     "execution_count": 40,
     "metadata": {},
     "output_type": "execute_result"
    }
   ],
   "source": [
    "prompt = MessagesPlaceholder(\"history\", n_messages=3)\n",
    "\n",
    "prompt.format_messages(\n",
    "    history=[\n",
    "        (\"system\", \"You are an AI assistant.\"),\n",
    "        (\"human\", \"Hello!\"),\n",
    "        (\"ai\", \"Hi there! How can I help you today?\"),\n",
    "        (\"human\", \"What is the weather like?\"),\n",
    "    ]\n",
    ")"
   ]
  },
  {
   "cell_type": "code",
   "execution_count": 41,
   "id": "bd0f6689",
   "metadata": {},
   "outputs": [
    {
     "name": "stdout",
     "output_type": "stream",
     "text": [
      "content=\"Hello! My name is Bob, and I'm here to assist you with any questions or tasks you may have. How can I help you today?\" additional_kwargs={'id': '5fc49d2d-c5be-405b-bf9e-abef5b883ef6', 'finish_reason': 'COMPLETE', 'content': \"Hello! My name is Bob, and I'm here to assist you with any questions or tasks you may have. How can I help you today?\", 'token_count': {'input_tokens': 545.0, 'output_tokens': 32.0}} response_metadata={'id': '5fc49d2d-c5be-405b-bf9e-abef5b883ef6', 'finish_reason': 'COMPLETE', 'content': \"Hello! My name is Bob, and I'm here to assist you with any questions or tasks you may have. How can I help you today?\", 'token_count': {'input_tokens': 545.0, 'output_tokens': 32.0}} id='run--2fcdb826-ff2b-409d-b606-57213192ba26-0' usage_metadata={'input_tokens': 545, 'output_tokens': 32, 'total_tokens': 577}\n"
     ]
    }
   ],
   "source": [
    "messages = [\n",
    "    SystemMessage(\n",
    "        content=\"You are a helpful assistant! Your name is Bob.\"\n",
    "    ),\n",
    "    HumanMessage(\n",
    "        content=\"What is your name?\"\n",
    "    )\n",
    "]\n",
    "\n",
    "# Instantiate a chat model and invoke it with the messages\n",
    "\n",
    "model = ChatCohere(cohere_api_key=settings.cohere_api_key)\n",
    "print(model.invoke(messages))"
   ]
  },
  {
   "cell_type": "code",
   "execution_count": 45,
   "id": "40ab4ac9",
   "metadata": {},
   "outputs": [
    {
     "name": "stdout",
     "output_type": "stream",
     "text": [
      "[HumanMessage(content='Question:  write short notes on Python Programming?\\n\\n            Python is a high-level, interpreted programming language known for its readability and versatility. \\n        It supports multiple programming paradigms, including procedural, object-oriented, and functional programming. Python is widely used in web development, data analysis, \\n        artificial intelligence, scientific computing, and more. Its extensive standard library and active community contribute to its popularity among developers.\\n        ', additional_kwargs={}, response_metadata={})]\n"
     ]
    }
   ],
   "source": [
    "example_prompt = PromptTemplate.from_template(\"Question: {question}\\n{answer}\")\n",
    "\n",
    "\n",
    "\n",
    "examples = [\n",
    "    {\n",
    "        \"question\": \" write short notes on Python Programming?\",\n",
    "        \"answer\" : \"\"\"\n",
    "            Python is a high-level, interpreted programming language known for its readability and versatility. \n",
    "        It supports multiple programming paradigms, including procedural, object-oriented, and functional programming. Python is widely used in web development, data analysis, \n",
    "        artificial intelligence, scientific computing, and more. Its extensive standard library and active community contribute to its popularity among developers.\n",
    "        \"\"\",             \n",
    "    },\n",
    "    {\n",
    "        \"question\" : \"short notes on JavaScript?\",\n",
    "        \"answer\" : \"\"\"\n",
    "            JavaScript is a high-level, dynamic, and interpreted programming language primarily used for creating interactive web pages.\n",
    "        It is an essential part of web development, enabling developers to implement complex features on web pages. JavaScript supports event-driven, functional, and imperative programming styles.\n",
    "        It is widely used for client-side scripting, server-side development (with Node.js), and    mobile app development (with frameworks like React Native). JavaScript's versatility and extensive ecosystem make it a cornerstone of modern web development.\n",
    "        \"\"\",\n",
    "    },\n",
    "    {\n",
    "        \"question\": \"short notes on Java?\",\n",
    "        \"answer\": \"\"\"\n",
    "            Java is a high-level, object-oriented programming language known for its platform independence and robustness. \n",
    "        It follows the principle of \"write once, run anywhere,\" allowing developers to create applications that can run on any device with a Java Virtual Machine (JVM). \n",
    "        Java is widely used in enterprise applications, Android app development, web applications, and large-scale systems. Its strong typing, automatic memory management, and extensive libraries contribute to its popularity among developers.\n",
    "        \"\"\",\n",
    "    },\n",
    "]\n",
    "print(example_prompt.invoke(examples[0]).to_messages())\n"
   ]
  },
  {
   "cell_type": "code",
   "execution_count": null,
   "id": "984d4657",
   "metadata": {},
   "outputs": [],
   "source": []
  }
 ],
 "metadata": {
  "kernelspec": {
   "display_name": "my_ai_env",
   "language": "python",
   "name": "python3"
  },
  "language_info": {
   "codemirror_mode": {
    "name": "ipython",
    "version": 3
   },
   "file_extension": ".py",
   "mimetype": "text/x-python",
   "name": "python",
   "nbconvert_exporter": "python",
   "pygments_lexer": "ipython3",
   "version": "3.13.5"
  }
 },
 "nbformat": 4,
 "nbformat_minor": 5
}
