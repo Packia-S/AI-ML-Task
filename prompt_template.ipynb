{
 "cells": [
  {
   "cell_type": "code",
   "execution_count": 4,
   "id": "cf730b96",
   "metadata": {},
   "outputs": [],
   "source": [
    "from langchain_cohere import ChatCohere\n",
    "from langchain_core.prompts import ChatPromptTemplate"
   ]
  },
  {
   "cell_type": "code",
   "execution_count": 5,
   "id": "64f8fea3",
   "metadata": {},
   "outputs": [],
   "source": [
    "from pydantic_settings import BaseSettings\n",
    "\n",
    "\n",
    "class Settings(BaseSettings):\n",
    "    cohere_api_key: str\n",
    "    \n",
    "    class Config:\n",
    "        env_file = \".env\"\n",
    "        extra = \"ignore\"\n",
    "        \n",
    "        \n",
    "settings = Settings()"
   ]
  },
  {
   "cell_type": "code",
   "execution_count": 6,
   "id": "1aa6bc79",
   "metadata": {},
   "outputs": [],
   "source": [
    "llm = ChatCohere(cohere_api_key = settings.cohere_api_key)"
   ]
  },
  {
   "cell_type": "markdown",
   "id": "90bc94a6",
   "metadata": {},
   "source": [
    "## Example 1"
   ]
  },
  {
   "cell_type": "code",
   "execution_count": 7,
   "id": "3ade35e6",
   "metadata": {},
   "outputs": [],
   "source": [
    "template = \"write a {tone} email to {company} expressing interest in the {position} position, mentioning {skill} as a key strength.\" "
   ]
  },
  {
   "cell_type": "code",
   "execution_count": 11,
   "id": "fca65f17",
   "metadata": {},
   "outputs": [
    {
     "data": {
      "text/plain": [
       "ChatPromptTemplate(input_variables=['company', 'position', 'skill', 'tone'], input_types={}, partial_variables={}, messages=[HumanMessagePromptTemplate(prompt=PromptTemplate(input_variables=['company', 'position', 'skill', 'tone'], input_types={}, partial_variables={}, template='write a {tone} email to {company} expressing interest in the {position} position, mentioning {skill} as a key strength.'), additional_kwargs={})])"
      ]
     },
     "execution_count": 11,
     "metadata": {},
     "output_type": "execute_result"
    }
   ],
   "source": [
    "prompt_template = ChatPromptTemplate.from_template(template)\n",
    "prompt_template"
   ]
  },
  {
   "cell_type": "code",
   "execution_count": 14,
   "id": "47124d45",
   "metadata": {},
   "outputs": [
    {
     "data": {
      "text/plain": [
       "ChatPromptValue(messages=[HumanMessage(content='write a energetic email to samsung expressing interest in the AI Engineer position, mentioning AI as a key strength.', additional_kwargs={}, response_metadata={})])"
      ]
     },
     "execution_count": 14,
     "metadata": {},
     "output_type": "execute_result"
    }
   ],
   "source": [
    "prompt = prompt_template.invoke({\n",
    "    \"tone\": \"energetic\",\n",
    "    \"company\": \"samsung\",\n",
    "    \"position\": \"AI Engineer\",\n",
    "    \"skill\": \"AI\"\n",
    "})\n",
    "prompt\n"
   ]
  },
  {
   "cell_type": "code",
   "execution_count": 18,
   "id": "072e211c",
   "metadata": {},
   "outputs": [
    {
     "name": "stdout",
     "output_type": "stream",
     "text": [
      "**Subject:** Enthusiastic Application for AI Engineer Position – Eager to Contribute My AI Expertise!  \n",
      "\n",
      "Dear Samsung Recruitment Team,  \n",
      "\n",
      "I hope this email finds you well! I am writing to express my **enthusiastic interest** in the AI Engineer position at Samsung, a company I deeply admire for its groundbreaking innovations and commitment to shaping the future of technology. With a strong background in artificial intelligence and a passion for pushing the boundaries of what’s possible, I am confident that I would be a valuable addition to your dynamic team.  \n",
      "\n",
      "As an AI specialist, I bring **extensive experience** in developing and deploying machine learning models, optimizing algorithms, and solving complex problems across diverse domains. My key strength lies in harnessing the power of AI to drive efficiency, innovation, and transformative solutions. Whether it’s natural language processing, computer vision, or predictive analytics, I thrive on leveraging AI to create impactful and scalable results.  \n",
      "\n",
      "What excites me most about Samsung is your **pioneering work** in integrating AI into everyday life, from smart devices to cutting-edge robotics. I am particularly inspired by initiatives like Bixby and your advancements in AI-driven healthcare solutions. The opportunity to contribute to such forward-thinking projects aligns perfectly with my career aspirations and passion for making a meaningful impact through technology.  \n",
      "\n",
      "Here’s a snapshot of what I bring to the table:  \n",
      "- **Technical Expertise:** Proficient in Python, TensorFlow, PyTorch, and other AI/ML frameworks.  \n",
      "- **Problem-Solving:** A proven track record of tackling complex challenges with innovative AI solutions.  \n",
      "- **Collaborative Spirit:** Experience working in cross-functional teams to deliver high-impact projects.  \n",
      "- **Passion for Innovation:** A relentless drive to explore emerging AI trends and apply them to real-world problems.  \n",
      "\n",
      "I am eager to bring my skills, energy, and dedication to Samsung, where I can contribute to your mission of creating a smarter, more connected world. I would welcome the opportunity to discuss how my expertise aligns with your vision and explore how I can add value to your team.  \n",
      "\n",
      "Thank you for considering my application. I’ve attached my resume for your review, and I’d be thrilled to schedule a call to discuss this exciting opportunity further.  \n",
      "\n",
      "Looking forward to the possibility of joining the Samsung family and driving AI innovation together!  \n",
      "\n",
      "Warm regards,  \n",
      "[Your Full Name]  \n",
      "[Your Contact Information]  \n",
      "[LinkedIn Profile / Portfolio Link]  \n",
      "\n",
      "P.S. I’m a huge fan of Samsung’s AI-powered ecosystem, and I’m excited about the potential to contribute to its growth!\n"
     ]
    }
   ],
   "source": [
    "response = llm.invoke(prompt)\n",
    "print(response.content)"
   ]
  },
  {
   "cell_type": "markdown",
   "id": "39750a95",
   "metadata": {},
   "source": [
    "# Example 2"
   ]
  },
  {
   "cell_type": "code",
   "execution_count": null,
   "id": "2bbca5a9",
   "metadata": {},
   "outputs": [],
   "source": [
    "messages = [\n",
    "    (\"system\", \"you are the comedian who tells joke about {topic}.\"),\n",
    "    (\"human\", \"Tell me a {joke_count} jokes.\")\n",
    "]"
   ]
  },
  {
   "cell_type": "code",
   "execution_count": 27,
   "id": "3aa75732",
   "metadata": {},
   "outputs": [
    {
     "name": "stdout",
     "output_type": "stream",
     "text": [
      "messages=[SystemMessage(content='you are the comedian who tells joke about love.', additional_kwargs={}, response_metadata={}), HumanMessage(content='Tell me a 2 jokes.', additional_kwargs={}, response_metadata={})]\n"
     ]
    }
   ],
   "source": [
    "prompt_template = ChatPromptTemplate.from_messages(messages)\n",
    "prompt = prompt_template.invoke({\n",
    "    \"topic\": \"love\",\n",
    "    \"joke_count\": 2\n",
    "})\n",
    "print(prompt)"
   ]
  },
  {
   "cell_type": "code",
   "execution_count": 28,
   "id": "51d9892d",
   "metadata": {},
   "outputs": [
    {
     "name": "stdout",
     "output_type": "stream",
     "text": [
      "Sure! Here are two jokes about love:\n",
      "\n",
      "1. **Why don’t skeletons fight in relationships?**  \n",
      "   Because they don’t have the guts—they’re just bone-tired of the drama!  \n",
      "\n",
      "2. **Why did the romantic chicken cross the road?**  \n",
      "   To get to the other *cluck*—because love knows no bounds, even for poultry!  \n",
      "\n",
      "Hope those made you smile! 😄\n"
     ]
    }
   ],
   "source": [
    "response = llm.invoke(prompt)\n",
    "print(response.content)"
   ]
  },
  {
   "cell_type": "code",
   "execution_count": null,
   "id": "58a7bc06",
   "metadata": {},
   "outputs": [],
   "source": []
  }
 ],
 "metadata": {
  "kernelspec": {
   "display_name": "my_ai_env",
   "language": "python",
   "name": "python3"
  },
  "language_info": {
   "codemirror_mode": {
    "name": "ipython",
    "version": 3
   },
   "file_extension": ".py",
   "mimetype": "text/x-python",
   "name": "python",
   "nbconvert_exporter": "python",
   "pygments_lexer": "ipython3",
   "version": "3.13.5"
  }
 },
 "nbformat": 4,
 "nbformat_minor": 5
}
