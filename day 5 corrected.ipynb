{
 "cells": [
  {
   "cell_type": "markdown",
   "id": "2a7d9e8c-0396-4431-a6bb-df3ef65c0a4f",
   "metadata": {},
   "source": [
    "## 1. Print all even numbers between 1 and 20 using a for loop.Output: 2 4 6 8 10 12 14 16 18 20"
   ]
  },
  {
   "cell_type": "code",
   "execution_count": 242,
   "id": "a7757c1d-086d-4b08-a14e-743131c64ab3",
   "metadata": {},
   "outputs": [
    {
     "name": "stdout",
     "output_type": "stream",
     "text": [
      "2 4 6 8 10 12 14 16 18 20 "
     ]
    }
   ],
   "source": [
    "for i in range(2,21,2):\n",
    "    print(i, end=\" \")"
   ]
  },
  {
   "cell_type": "markdown",
   "id": "099991c4-2c96-4b24-8f94-2871a1d9b50f",
   "metadata": {},
   "source": [
    "## 2. Ask the user to enter a sentence, and count how many words it has.\n",
    "###  Input: \"Python is amazing\"\n",
    "###   Output: Word count: 3"
   ]
  },
  {
   "cell_type": "code",
   "execution_count": 244,
   "id": "c380487f-8cbf-4067-b3c3-25c580c281b8",
   "metadata": {},
   "outputs": [
    {
     "name": "stdin",
     "output_type": "stream",
     "text": [
      "Enter sentence: Python programming language\n"
     ]
    },
    {
     "name": "stdout",
     "output_type": "stream",
     "text": [
      "3\n"
     ]
    }
   ],
   "source": [
    "text=input(\"Enter sentence:\")\n",
    "word_count=len(text.split())\n",
    "print(word_count)"
   ]
  },
  {
   "cell_type": "markdown",
   "id": "4ec0aa71-c75e-4202-9183-cc857e304a22",
   "metadata": {},
   "source": [
    "## 3. Keep asking for numbers using while until the user enters a negative number.\n",
    "###   Output:\n",
    "###   Enter a number: 10\n",
    "###   Enter a number: 5\n",
    "###   Enter a number: -1\n",
    "###   Stopped."
   ]
  },
  {
   "cell_type": "code",
   "execution_count": 246,
   "id": "fb80335c-3eb6-4271-8fe2-acbd1daff83a",
   "metadata": {},
   "outputs": [
    {
     "name": "stdin",
     "output_type": "stream",
     "text": [
      "Enter number: 5\n"
     ]
    },
    {
     "name": "stdout",
     "output_type": "stream",
     "text": [
      "your number is 5\n"
     ]
    },
    {
     "name": "stdin",
     "output_type": "stream",
     "text": [
      "Enter negative number to stop:  6\n"
     ]
    },
    {
     "name": "stdout",
     "output_type": "stream",
     "text": [
      "your number is 6\n"
     ]
    },
    {
     "name": "stdin",
     "output_type": "stream",
     "text": [
      "Enter negative number to stop:  -5\n"
     ]
    },
    {
     "name": "stdout",
     "output_type": "stream",
     "text": [
      "Stop\n"
     ]
    }
   ],
   "source": [
    "num=int(input(\"Enter number:\"))\n",
    "\n",
    "while num>0:\n",
    "    print(\"your number is\", num)\n",
    "    num=int(input(\"Enter negative number to stop: \"))   \n",
    "print(\"Stop\")"
   ]
  },
  {
   "cell_type": "markdown",
   "id": "0ca1f07e-c1aa-4a73-9f8e-c70cc67e8587",
   "metadata": {},
   "source": [
    "## 4. From a list of fruits, print the ones that start with a capital letter.\n",
    "###   List: [\"Apple\", \"banana\", \"Mango\", \"grape\"]\n",
    "###   Output: Apple, Mango"
   ]
  },
  {
   "cell_type": "code",
   "execution_count": 248,
   "id": "d1932def-b7ef-4a95-8530-238127338811",
   "metadata": {},
   "outputs": [
    {
     "name": "stdout",
     "output_type": "stream",
     "text": [
      "list of fruits Kiwi\n",
      "Apple\n",
      "Mango\n",
      "Kiwi\n"
     ]
    }
   ],
   "source": [
    "fruits= [\"Apple\", \"banana\", \"Mango\", \"grape\",\"Kiwi\"]\n",
    "print(\"list of fruits\",fruit)\n",
    "\n",
    "for fruit in fruits:\n",
    "    if fruit[0].isupper():\n",
    "        print(fruit)"
   ]
  },
  {
   "cell_type": "markdown",
   "id": "778bffb8-a60d-4e9f-96b8-e0282177f6c8",
   "metadata": {},
   "source": [
    "## 5. Check if a password entered by user is at least 8 characters long.\n",
    "###   Output:\n",
    "###   Enter password: test\n",
    "###   Password too short. Try again.\n",
    "###  Enter password: secret123\n",
    "###   Accepted."
   ]
  },
  {
   "cell_type": "code",
   "execution_count": 250,
   "id": "2849721f-85a8-4f63-a7f3-48013cbb140a",
   "metadata": {},
   "outputs": [
    {
     "name": "stdin",
     "output_type": "stream",
     "text": [
      "Enter password packia@3009\n"
     ]
    },
    {
     "name": "stdout",
     "output_type": "stream",
     "text": [
      "password accepted\n"
     ]
    }
   ],
   "source": [
    "password=input(\"Enter password\")\n",
    "if len(password) >= 8:\n",
    "    print(\"password accepted\")\n",
    "else:\n",
    "    print(\"Password too short. Try again\")"
   ]
  },
  {
   "cell_type": "code",
   "execution_count": 251,
   "id": "2999cf62-a311-47e1-81b8-78a33bb3cf31",
   "metadata": {},
   "outputs": [
    {
     "name": "stdin",
     "output_type": "stream",
     "text": [
      "Enter your password: 1234\n"
     ]
    },
    {
     "name": "stdout",
     "output_type": "stream",
     "text": [
      "Incorrect password, you only have 2 attempts\n"
     ]
    },
    {
     "name": "stdin",
     "output_type": "stream",
     "text": [
      "Enter your password: 1224\n"
     ]
    },
    {
     "name": "stdout",
     "output_type": "stream",
     "text": [
      "Incorrect password, you only have 1 attempts\n"
     ]
    },
    {
     "name": "stdin",
     "output_type": "stream",
     "text": [
      "Enter your password: 225\n"
     ]
    },
    {
     "name": "stdout",
     "output_type": "stream",
     "text": [
      "Incorrect password, you only have 0 attempts\n"
     ]
    }
   ],
   "source": [
    "attempts = 3\n",
    "actual_password = \"123\"\n",
    "\n",
    "while attempts > 0 :\n",
    "    password = input(\"Enter your password:\" )\n",
    "    if password == actual_password:\n",
    "        print(\"Welcome\")\n",
    "        break\n",
    "    else:\n",
    "        attempts -= 1\n",
    "        print(f\"Incorrect password, you only have {attempts} attempts\")\n",
    "        "
   ]
  },
  {
   "cell_type": "markdown",
   "id": "ca551dcf-ee33-456d-8267-8f702715c02f",
   "metadata": {},
   "source": [
    "## 6. Loop through a sentence and count how many characters are vowels.\n",
    "###   Input: \"hello world\"\n",
    "###   Output: Vowel count: 3"
   ]
  },
  {
   "cell_type": "code",
   "execution_count": 253,
   "id": "1e30c687-8de3-4fa7-9d0e-640fd06da1c6",
   "metadata": {},
   "outputs": [
    {
     "name": "stdin",
     "output_type": "stream",
     "text": [
      "Enter sentence welcome\n"
     ]
    },
    {
     "name": "stdout",
     "output_type": "stream",
     "text": [
      "3\n"
     ]
    }
   ],
   "source": [
    "text=input(\"Enter sentence\")\n",
    "vowel=\"aeiou\"\n",
    "count=0\n",
    "for char in text.lower():\n",
    "    if char in vowel:\n",
    "        count=count+1\n",
    "print(count)    \n",
    "    "
   ]
  },
  {
   "cell_type": "markdown",
   "id": "7c29e581-8a20-4eb7-9395-b04ba9960bde",
   "metadata": {},
   "source": [
    "\n",
    "## 7. Ask user for 5 names, print names that end with the letter \"a\".\n",
    "###   Output:\n",
    "###   Reema\n",
    "###   Sara\n",
    "###   Nita"
   ]
  },
  {
   "cell_type": "code",
   "execution_count": 255,
   "id": "ea1706d8-4b5c-4981-b392-908b9d09ad7b",
   "metadata": {},
   "outputs": [
    {
     "name": "stdin",
     "output_type": "stream",
     "text": [
      "Enter name: ram\n",
      "Enter name: tiya\n",
      "Enter name: sara\n",
      "Enter name: kavi\n",
      "Enter name: jaya\n"
     ]
    },
    {
     "name": "stdout",
     "output_type": "stream",
     "text": [
      "['ram', 'tiya', 'sara', 'kavi', 'jaya']\n",
      "the names end with letter a is tiya\n",
      "the names end with letter a is sara\n",
      "the names end with letter a is jaya\n"
     ]
    }
   ],
   "source": [
    "names=[]\n",
    "i=0\n",
    "while i<5:\n",
    "    name=input(\"Enter name:\")\n",
    "    names.append(name)\n",
    "    i+=1\n",
    "print(names)\n",
    "for mem in names:\n",
    "    if mem.endswith(\"a\"):\n",
    "        print(f\"the names end with letter a is {mem}\")\n",
    "    "
   ]
  },
  {
   "cell_type": "code",
   "execution_count": 256,
   "id": "e4364de6-5429-45ae-92d5-09b96e591ea3",
   "metadata": {},
   "outputs": [
    {
     "name": "stdin",
     "output_type": "stream",
     "text": [
      "Enter name: vicky\n",
      "Enter name: jaya\n"
     ]
    },
    {
     "name": "stdout",
     "output_type": "stream",
     "text": [
      "the names end with letter a is jaya\n"
     ]
    },
    {
     "name": "stdin",
     "output_type": "stream",
     "text": [
      "Enter name: mano\n",
      "Enter name: netha\n"
     ]
    },
    {
     "name": "stdout",
     "output_type": "stream",
     "text": [
      "the names end with letter a is netha\n"
     ]
    },
    {
     "name": "stdin",
     "output_type": "stream",
     "text": [
      "Enter name: a\n"
     ]
    },
    {
     "name": "stdout",
     "output_type": "stream",
     "text": [
      "the names end with letter a is a\n"
     ]
    }
   ],
   "source": [
    "i=0\n",
    "while i<5:   \n",
    "    name=input(\"Enter name:\")\n",
    "    i=i+1\n",
    "    if name.endswith(\"a\"):\n",
    "        print(f\"the names end with letter a is {name}\")\n",
    "    "
   ]
  },
  {
   "cell_type": "markdown",
   "id": "91cfc37e-63ea-413f-8717-b4b2a6217933",
   "metadata": {},
   "source": [
    "## 8. Print numbers from 1 to 30. If number is divisible by 3, print \"Fizz\", else print the number."
   ]
  },
  {
   "cell_type": "code",
   "execution_count": 258,
   "id": "c5b59143-b951-4dac-96f0-0e34fed86fe3",
   "metadata": {},
   "outputs": [
    {
     "name": "stdout",
     "output_type": "stream",
     "text": [
      "1 2 3 Fizz 4 5 6 Fizz 7 8 9 Fizz 10 11 12 Fizz 13 14 15 Fizz 16 17 18 Fizz 19 20 21 Fizz 22 23 24 Fizz 25 26 27 Fizz 28 29 30 Fizz "
     ]
    }
   ],
   "source": [
    "for num in range(1,31):\n",
    "    if num%3==0:\n",
    "        print(f\"{num} Fizz\" ,end=\" \")\n",
    "    else:\n",
    "        print(num,end=\" \")"
   ]
  },
  {
   "cell_type": "markdown",
   "id": "ece03626-8716-4b7b-8b22-0e016a4284ed",
   "metadata": {},
   "source": [
    "## 9. Loop through a list of strings and print only the ones that are all digits.\n",
    "###   Input: [\"123\", \"abc\", \"42\", \"3.14\", \"007\"]\n",
    "###   Output: 123, 42, 007\n"
   ]
  },
  {
   "cell_type": "code",
   "execution_count": 260,
   "id": "113ad46e-16a7-4012-9040-9a424486de20",
   "metadata": {},
   "outputs": [
    {
     "name": "stdout",
     "output_type": "stream",
     "text": [
      "123\n",
      "42\n",
      "007\n"
     ]
    }
   ],
   "source": [
    "string=[\"123\", \"abc\", \"42\", \"3.14\", \"007\"]\n",
    "for num in string:\n",
    "     if num.isdigit():\n",
    "         print(num)    "
   ]
  },
  {
   "cell_type": "markdown",
   "id": "a1feacf8-a5bc-4ded-882c-4c2c04a3065e",
   "metadata": {},
   "source": [
    "## 10. Take a string input and print the reversed string using a for loop.\n",
    "    Input: \"Python\"\n",
    "    Output: nohtyP"
   ]
  },
  {
   "cell_type": "code",
   "execution_count": 262,
   "id": "148992d9-2594-451f-9855-6da3ca8f7e65",
   "metadata": {},
   "outputs": [
    {
     "name": "stdin",
     "output_type": "stream",
     "text": [
      "Enter name:  program\n"
     ]
    },
    {
     "name": "stdout",
     "output_type": "stream",
     "text": [
      "margorp\n"
     ]
    }
   ],
   "source": [
    "name=input(\"Enter name: \")\n",
    "rever=\"\"\n",
    "for text in name:\n",
    "    rever=text+rever\n",
    "print(rever)"
   ]
  },
  {
   "cell_type": "markdown",
   "id": "db323d79-1ab7-4d59-bcf5-d2c6a27490e2",
   "metadata": {},
   "source": [
    "## 11. Create a loop that prints every second character from a string.\n",
    "###    Input: \"abcdef\"\n",
    "###    Output: a, c, e"
   ]
  },
  {
   "cell_type": "code",
   "execution_count": 264,
   "id": "51d100d9-8f5f-404f-8abc-9390912df1eb",
   "metadata": {},
   "outputs": [
    {
     "name": "stdin",
     "output_type": "stream",
     "text": [
      "Enter Name: java\n"
     ]
    },
    {
     "name": "stdout",
     "output_type": "stream",
     "text": [
      "a\n",
      "a\n"
     ]
    }
   ],
   "source": [
    "name=input(\"Enter Name:\")\n",
    "for i in range(1,len(name),2):\n",
    "    print(name[i])\n",
    "    "
   ]
  },
  {
   "cell_type": "markdown",
   "id": "d3d0a1aa-6ae2-4148-a69c-991f93be6715",
   "metadata": {},
   "source": [
    "## 12. Ask the user to enter a string. Count how many uppercase letters it has.\n",
    "    Input: \"PyTHon\"\n",
    "    Output: Uppercase letters: 3"
   ]
  },
  {
   "cell_type": "code",
   "execution_count": 266,
   "id": "49cefd02-2bb5-4d3b-bdc7-0dc790203dba",
   "metadata": {},
   "outputs": [
    {
     "name": "stdin",
     "output_type": "stream",
     "text": [
      "Enter string PYthoN\n"
     ]
    },
    {
     "name": "stdout",
     "output_type": "stream",
     "text": [
      "3\n"
     ]
    }
   ],
   "source": [
    "name=input(\"Enter string\")\n",
    "count=0\n",
    "for text in name:\n",
    "    if text.isupper():\n",
    "        count=count+1\n",
    "print(count)\n",
    "    "
   ]
  },
  {
   "cell_type": "markdown",
   "id": "ffc4e9a9-18b6-459b-b19f-b9bb856e6d26",
   "metadata": {},
   "source": [
    "## 13. Repeat asking a name until user gives a name longer than 5 characters.\n",
    "    Output:\n",
    "    Enter name: Max\n",
    "    Too short. Try again.\n",
    "    Enter name: Michael\n",
    "    Accepted."
   ]
  },
  {
   "cell_type": "code",
   "execution_count": 268,
   "id": "792d42b7-53e9-4273-96e9-b9037e897e53",
   "metadata": {},
   "outputs": [
    {
     "name": "stdin",
     "output_type": "stream",
     "text": [
      "Enter Name: !2345\n"
     ]
    },
    {
     "name": "stdout",
     "output_type": "stream",
     "text": [
      "Accepted\n"
     ]
    }
   ],
   "source": [
    "while True:\n",
    "    name=input(\"Enter Name:\")\n",
    "    if len(name) >= 5:\n",
    "        print(\"Accepted\")\n",
    "        break\n",
    "    else:\n",
    "        print(\"Too short. Try again!\")"
   ]
  },
  {
   "cell_type": "code",
   "execution_count": 269,
   "id": "ef68b6f7-de86-488b-9600-cc137a57f478",
   "metadata": {},
   "outputs": [
    {
     "name": "stdin",
     "output_type": "stream",
     "text": [
      "Enter Name: 34532\n"
     ]
    },
    {
     "name": "stdout",
     "output_type": "stream",
     "text": [
      "Accepted\n"
     ]
    }
   ],
   "source": [
    "name=input(\"Enter Name:\")\n",
    "if len(name) >= 5:\n",
    "    print(\"Accepted\")\n",
    "else:\n",
    "    print(\"Too short. Try again!\")"
   ]
  },
  {
   "cell_type": "markdown",
   "id": "04cb38ff-6c06-477d-9f9d-eee3218b2e21",
   "metadata": {},
   "source": [
    "## 14. Loop through numbers from 1 to 15 and print whether each is \"Even\" or \"Odd\".\n",
    "    Output: 1 - Odd, 2 - Even, ..., 15 - Odd"
   ]
  },
  {
   "cell_type": "code",
   "execution_count": 271,
   "id": "6d4ef87a-8113-4e29-95ea-1b5606db3ce6",
   "metadata": {},
   "outputs": [
    {
     "name": "stdout",
     "output_type": "stream",
     "text": [
      " 1 Odd\n",
      " 2 Even\n",
      " 3 Odd\n",
      " 4 Even\n",
      " 5 Odd\n",
      " 6 Even\n",
      " 7 Odd\n",
      " 8 Even\n",
      " 9 Odd\n",
      " 10 Even\n",
      " 11 Odd\n",
      " 12 Even\n",
      " 13 Odd\n",
      " 14 Even\n",
      " 15 Odd\n"
     ]
    }
   ],
   "source": [
    "for x in range(1,16):\n",
    "    if x%2==0:\n",
    "        print(f\" {x} Even\")\n",
    "    else:\n",
    "        print(f\" {x} Odd\")"
   ]
  },
  {
   "cell_type": "markdown",
   "id": "fce54ef4-608b-461f-ab34-9d89a6ae8190",
   "metadata": {},
   "source": [
    "## 15. From a list of strings, print those that contain the letter “e” (case-insensitive).\n",
    "    List: [\"Dog\", \"Elephant\", \"Tiger\", \"Ant\"]\n",
    "    Output: Elephant, Tiger"
   ]
  },
  {
   "cell_type": "code",
   "execution_count": 273,
   "id": "75015038-911e-40b4-a795-0b693f5a3cc6",
   "metadata": {},
   "outputs": [
    {
     "name": "stdout",
     "output_type": "stream",
     "text": [
      "Elephant\n",
      "Tiger\n",
      "Eagle\n"
     ]
    }
   ],
   "source": [
    "animals=[\"Dog\", \"Elephant\", \"Tiger\", \"Ant\",\"Eagle\"]\n",
    "for animal in animals:\n",
    "    if \"e\" in animal:\n",
    "        print(animal)"
   ]
  },
  {
   "cell_type": "code",
   "execution_count": null,
   "id": "ba2bb79e-81e1-4e26-89c5-dcb55615e6d3",
   "metadata": {},
   "outputs": [],
   "source": []
  }
 ],
 "metadata": {
  "kernelspec": {
   "display_name": "Python [conda env:base] *",
   "language": "python",
   "name": "conda-base-py"
  },
  "language_info": {
   "codemirror_mode": {
    "name": "ipython",
    "version": 3
   },
   "file_extension": ".py",
   "mimetype": "text/x-python",
   "name": "python",
   "nbconvert_exporter": "python",
   "pygments_lexer": "ipython3",
   "version": "3.12.7"
  }
 },
 "nbformat": 4,
 "nbformat_minor": 5
}
