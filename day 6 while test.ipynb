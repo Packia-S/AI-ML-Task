{
 "cells": [
  {
   "cell_type": "markdown",
   "id": "20e23d1a-17fa-4d52-b639-b4429ded73ae",
   "metadata": {},
   "source": [
    "## 1. Keep asking for a number until the user enters 0. Then print \"Stopped\".\n",
    "    Sample Input:\n",
    "    5\n",
    "    10\n",
    "    0\n",
    "    Output:\n",
    "    Enter a number: 5\n",
    "    Enter a number: 10\n",
    "    Enter a number: 0\n",
    "    Stopped."
   ]
  },
  {
   "cell_type": "code",
   "execution_count": 56,
   "id": "1cfa2c74-91df-4faf-9fe0-80a267ca91dc",
   "metadata": {},
   "outputs": [
    {
     "name": "stdin",
     "output_type": "stream",
     "text": [
      "Enter number: 5\n",
      "Enter number: 10\n",
      "Enter number: 0\n"
     ]
    },
    {
     "name": "stdout",
     "output_type": "stream",
     "text": [
      "stopped\n"
     ]
    }
   ],
   "source": [
    "while True:\n",
    "    number=int(input(\"Enter number:\"))\n",
    "    if number==0:\n",
    "        print(\"stopped\")\n",
    "        break"
   ]
  },
  {
   "cell_type": "markdown",
   "id": "f8f3d3e3-2c41-4fe1-8fde-490684ba8e5c",
   "metadata": {},
   "source": [
    "## 2. Ask the user for names in a loop, skip empty names using continue, stop if name is \"end\".\n",
    "    Sample Input:\n",
    "    Alice\n",
    "    [ENTER]\n",
    "    Bob\n",
    "    end\n",
    "    Output:\n",
    "    Hello Alice\n",
    "    Hello Bob"
   ]
  },
  {
   "cell_type": "code",
   "execution_count": 198,
   "id": "0783c629-faea-4659-b848-481b31105cab",
   "metadata": {},
   "outputs": [
    {
     "name": "stdin",
     "output_type": "stream",
     "text": [
      "Enter name: jevi\n"
     ]
    },
    {
     "name": "stdout",
     "output_type": "stream",
     "text": [
      "Hello jevi\n"
     ]
    },
    {
     "name": "stdin",
     "output_type": "stream",
     "text": [
      "Enter name: kiya\n"
     ]
    },
    {
     "name": "stdout",
     "output_type": "stream",
     "text": [
      "Hello kiya\n"
     ]
    },
    {
     "name": "stdin",
     "output_type": "stream",
     "text": [
      "Enter name: \n",
      "Enter name: end\n"
     ]
    },
    {
     "name": "stdout",
     "output_type": "stream",
     "text": [
      "end\n"
     ]
    }
   ],
   "source": [
    "while True:\n",
    "    name=input(\"Enter name:\")\n",
    "    if name==\" \":\n",
    "        continue\n",
    "    elif name.lower()==\"end\":\n",
    "        print(\"end\")\n",
    "        break\n",
    "    else:\n",
    "        print(f\"Hello {name}\")\n",
    "         "
   ]
  },
  {
   "cell_type": "markdown",
   "id": "d44c0d87-fda9-48a1-849b-cc9b5967b695",
   "metadata": {},
   "source": [
    "## 3. Print numbers 1 to 10 using a while loop. Use pass when the number is 5.\n",
    "    Output:\n",
    "    1\n",
    "    2\n",
    "    3\n",
    "    4\n",
    "    5\n",
    "    6\n",
    "    7\n",
    "    8\n",
    "    9\n",
    "    10"
   ]
  },
  {
   "cell_type": "code",
   "execution_count": 165,
   "id": "101f96ad-b827-4274-a13b-061fad83b36d",
   "metadata": {},
   "outputs": [
    {
     "name": "stdout",
     "output_type": "stream",
     "text": [
      "1\n",
      "2\n",
      "3\n",
      "4\n",
      "6\n",
      "7\n",
      "8\n",
      "9\n",
      "10\n"
     ]
    }
   ],
   "source": [
    "i=1\n",
    "while i<=10:\n",
    "    if i == 5:\n",
    "        i+=1\n",
    "        #print(\"pass number 5\")\n",
    "        continue\n",
    "    print(i)\n",
    "    i+=1"
   ]
  },
  {
   "cell_type": "markdown",
   "id": "ae9fb24c-7d9f-41b1-a289-063230077adc",
   "metadata": {},
   "source": [
    "## 4. Keep asking for a password until the user enters \"admin123\".\n",
    "    Sample Input:\n",
    "    1234\n",
    "    hello\n",
    "    admin123\n",
    "    Output:\n",
    "    Enter password: 1234\n",
    "    Wrong password.\n",
    "    Enter password: hello\n",
    "    Wrong password.\n",
    "    Enter password: admin123\n",
    "    Access granted."
   ]
  },
  {
   "cell_type": "code",
   "execution_count": 63,
   "id": "b8b9bd13-2a12-4934-9998-fa487e5edf9b",
   "metadata": {},
   "outputs": [
    {
     "name": "stdin",
     "output_type": "stream",
     "text": [
      "Enter your password:  fbd\n"
     ]
    },
    {
     "name": "stdout",
     "output_type": "stream",
     "text": [
      "Worng Password\n"
     ]
    },
    {
     "name": "stdin",
     "output_type": "stream",
     "text": [
      "Enter your password:  65\n"
     ]
    },
    {
     "name": "stdout",
     "output_type": "stream",
     "text": [
      "Worng Password\n"
     ]
    },
    {
     "name": "stdin",
     "output_type": "stream",
     "text": [
      "Enter your password:  admin123\n"
     ]
    },
    {
     "name": "stdout",
     "output_type": "stream",
     "text": [
      "Access Granted\n"
     ]
    }
   ],
   "source": [
    "actual_password=\"admin123\"\n",
    "while True:\n",
    "    password=input(\"Enter your password: \")\n",
    "    if actual_password == password:\n",
    "        print(\"Access Granted\")\n",
    "        break\n",
    "    else:\n",
    "        print(\"Worng Password\")"
   ]
  },
  {
   "cell_type": "markdown",
   "id": "f2e3d7e3-89f7-4594-859e-d5b5af076730",
   "metadata": {},
   "source": [
    "## 5. Ask for a number and skip printing if it's negative (use continue).\n",
    "    Sample Input:\n",
    "    5\n",
    "    -2\n",
    "    8\n",
    "    0\n",
    "    Output:\n",
    "    You entered: 5\n",
    "    You entered: 8\n",
    "    Stopped."
   ]
  },
  {
   "cell_type": "code",
   "execution_count": 141,
   "id": "fd125b42-63e6-464a-95f4-8e9f6e028b0b",
   "metadata": {},
   "outputs": [
    {
     "name": "stdin",
     "output_type": "stream",
     "text": [
      "Enter number: 9\n"
     ]
    },
    {
     "name": "stdout",
     "output_type": "stream",
     "text": [
      "You entered: 9\n"
     ]
    },
    {
     "name": "stdin",
     "output_type": "stream",
     "text": [
      "Enter number: 5\n"
     ]
    },
    {
     "name": "stdout",
     "output_type": "stream",
     "text": [
      "You entered: 5\n"
     ]
    },
    {
     "name": "stdin",
     "output_type": "stream",
     "text": [
      "Enter number: -7\n",
      "Enter number: -5\n"
     ]
    },
    {
     "name": "stdout",
     "output_type": "stream",
     "text": [
      "stopped\n"
     ]
    }
   ],
   "source": [
    "# \n",
    "i=0\n",
    "while i<=3:\n",
    "    num=int(input(\"Enter number:\"))\n",
    "    if num<=0:\n",
    "        i+=1\n",
    "        continue\n",
    "    print(f\"You entered: {num}\")\n",
    "    i+=1\n",
    "print(\"stopped\")"
   ]
  },
  {
   "cell_type": "code",
   "execution_count": 185,
   "id": "a90d023f-0045-4214-b5a5-3db005ede59a",
   "metadata": {},
   "outputs": [
    {
     "name": "stdin",
     "output_type": "stream",
     "text": [
      "Enter number: 5\n"
     ]
    },
    {
     "name": "stdout",
     "output_type": "stream",
     "text": [
      "You entered: 5\n"
     ]
    },
    {
     "name": "stdin",
     "output_type": "stream",
     "text": [
      "Enter number: -1\n",
      "Enter number: 0\n"
     ]
    },
    {
     "name": "stdout",
     "output_type": "stream",
     "text": [
      "Stopped\n"
     ]
    }
   ],
   "source": [
    "while True:\n",
    "    num=int(input(\"Enter number:\"))\n",
    "    if num == 0:\n",
    "        print(\"Stopped\")\n",
    "        break\n",
    "    elif num<0:\n",
    "        continue\n",
    "    else:\n",
    "        print(f\"You entered: {num}\")"
   ]
  },
  {
   "cell_type": "markdown",
   "id": "673ff22e-e57d-4dfb-8fb0-7c463a7bb68e",
   "metadata": {},
   "source": [
    "## 6. Print all even numbers from 2 to 20 using while.\n",
    "    Output:\n",
    "    2 4 6 8 10 12 14 16 18 20"
   ]
  },
  {
   "cell_type": "code",
   "execution_count": 67,
   "id": "61518d69-4506-440d-8884-2b34ebf48cee",
   "metadata": {},
   "outputs": [
    {
     "name": "stdout",
     "output_type": "stream",
     "text": [
      "2\n",
      "4\n",
      "6\n",
      "8\n",
      "10\n",
      "12\n",
      "14\n",
      "16\n",
      "18\n",
      "20\n"
     ]
    }
   ],
   "source": [
    "i=2\n",
    "while i<=20:\n",
    "    if i%2==0:\n",
    "        print(i)\n",
    "    i+=1"
   ]
  },
  {
   "cell_type": "markdown",
   "id": "78cf10af-3b4c-4377-8d4b-54b062e1c75b",
   "metadata": {},
   "source": [
    "## 7. Ask for words until user types a word with more than 10 characters.\n",
    "    Sample Input:\n",
    "    apple\n",
    "    banana\n",
    "    extraordinary\n",
    "    Output:\n",
    "    Word accepted: apple\n",
    "    Word accepted: banana\n",
    "    Too long! Ending."
   ]
  },
  {
   "cell_type": "code",
   "execution_count": 69,
   "id": "60887b3d-0e0c-46f9-aee4-8fc4ea161c60",
   "metadata": {},
   "outputs": [
    {
     "name": "stdin",
     "output_type": "stream",
     "text": [
      "Enter word:  priya\n"
     ]
    },
    {
     "name": "stdout",
     "output_type": "stream",
     "text": [
      "Word Accepted: priya\n"
     ]
    },
    {
     "name": "stdin",
     "output_type": "stream",
     "text": [
      "Enter word:  packialakshmi\n"
     ]
    },
    {
     "name": "stdout",
     "output_type": "stream",
     "text": [
      "Too Long! Ending...\n"
     ]
    }
   ],
   "source": [
    "while True:\n",
    "    text=input(\"Enter word: \")\n",
    "    if len(text) <= 10 :\n",
    "        print(f\"Word Accepted: {text}\")\n",
    "    else:\n",
    "        print(f\"Too Long! Ending...\")\n",
    "        break"
   ]
  },
  {
   "cell_type": "markdown",
   "id": "ee700289-4461-4b26-ae03-f898cc3e0d29",
   "metadata": {},
   "source": [
    "## 8. Create a countdown from 5 to 1. Use while.\n",
    "    Output:\n",
    "    5\n",
    "    4\n",
    "    3\n",
    "    2\n",
    "    1\n",
    "    Liftoff!\n"
   ]
  },
  {
   "cell_type": "code",
   "execution_count": 71,
   "id": "1720ed7b-07a9-4d5d-a52a-8b402fd7239b",
   "metadata": {},
   "outputs": [
    {
     "name": "stdout",
     "output_type": "stream",
     "text": [
      "5\n",
      "4\n",
      "3\n",
      "2\n",
      "1\n",
      "Liftoff!\n"
     ]
    }
   ],
   "source": [
    "count=5\n",
    "while count>0:\n",
    "    print(count)\n",
    "    count-=1\n",
    "print(\"Liftoff!\")"
   ]
  },
  {
   "cell_type": "markdown",
   "id": "4abebac9-4ba0-49d2-8e29-3ca8b0927d7c",
   "metadata": {},
   "source": [
    "## 9. Keep asking the user to enter only digits. Break if any non-digit is given.\n",
    "    Sample Input:\n",
    "    42\n",
    "    77\n",
    "    hello\n",
    "    Output:\n",
    "    Number entered: 42\n",
    "    Number entered: 77\n",
    "    Non-digit detected. Exiting."
   ]
  },
  {
   "cell_type": "code",
   "execution_count": 73,
   "id": "d3a8cce9-78cf-4787-b105-dcc2df2f6712",
   "metadata": {},
   "outputs": [
    {
     "name": "stdin",
     "output_type": "stream",
     "text": [
      "Enter number:  45\n"
     ]
    },
    {
     "name": "stdout",
     "output_type": "stream",
     "text": [
      "Number entered: 45\n"
     ]
    },
    {
     "name": "stdin",
     "output_type": "stream",
     "text": [
      "Enter number:  77\n"
     ]
    },
    {
     "name": "stdout",
     "output_type": "stream",
     "text": [
      "Number entered: 77\n"
     ]
    },
    {
     "name": "stdin",
     "output_type": "stream",
     "text": [
      "Enter number:  hello\n"
     ]
    },
    {
     "name": "stdout",
     "output_type": "stream",
     "text": [
      "Non-digit detected. Exiting..\n"
     ]
    }
   ],
   "source": [
    "while True:\n",
    "    number=input(\"Enter number: \")\n",
    "    if number.isdigit():\n",
    "        print(f\"Number entered: {number}\")\n",
    "    else:\n",
    "        print(\"Non-digit detected. Exiting..\")\n",
    "        break"
   ]
  },
  {
   "cell_type": "markdown",
   "id": "3d809f52-38b9-45ff-ab52-2b664910e3eb",
   "metadata": {},
   "source": [
    "## 10. Ask for grades and skip if the grade is not between 0 and 100. Stop when -1 is entered.\n",
    "    Sample Input:\n",
    "    90\n",
    "    105\n",
    "    -5\n",
    "    70\n",
    "    -1\n",
    "    Output:\n",
    "    Accepted grade: 90\n",
    "    Invalid grade. Skipped.\n",
    "    Invalid grade. Skipped.\n",
    "    Accepted grade: 70\n",
    "    Done."
   ]
  },
  {
   "cell_type": "code",
   "execution_count": 168,
   "id": "e7ad20a0-3147-4358-8254-7dd373cadcfb",
   "metadata": {},
   "outputs": [
    {
     "name": "stdin",
     "output_type": "stream",
     "text": [
      "Enter Grade:  4\n"
     ]
    },
    {
     "name": "stdout",
     "output_type": "stream",
     "text": [
      "Accepted grade: 4\n"
     ]
    },
    {
     "name": "stdin",
     "output_type": "stream",
     "text": [
      "Enter Grade:  5\n"
     ]
    },
    {
     "name": "stdout",
     "output_type": "stream",
     "text": [
      "Accepted grade: 5\n"
     ]
    },
    {
     "name": "stdin",
     "output_type": "stream",
     "text": [
      "Enter Grade:  -8\n"
     ]
    },
    {
     "name": "stdout",
     "output_type": "stream",
     "text": [
      "Invalid grade. Skipped...\n"
     ]
    },
    {
     "name": "stdin",
     "output_type": "stream",
     "text": [
      "Enter Grade:  -1\n"
     ]
    },
    {
     "name": "stdout",
     "output_type": "stream",
     "text": [
      "Done..\n"
     ]
    }
   ],
   "source": [
    "while True:\n",
    "    grade=int(input(\"Enter Grade: \"))\n",
    "    if grade<=-2:\n",
    "        print(\"Invalid grade. Skipped...\")\n",
    "    elif grade>=0:\n",
    "        print(f\"Accepted grade: {grade}\")\n",
    "    elif grade==-1:\n",
    "        print(\"Done..\")\n",
    "        break\n",
    "    "
   ]
  },
  {
   "cell_type": "markdown",
   "id": "3227cf43-3c2c-4e1c-b318-c0e499f4d2a0",
   "metadata": {},
   "source": [
    "## 11. Use while True to simulate a simple menu: 1. Print Hello, 2. Exit\n",
    "    Sample Input:\n",
    "    1\n",
    "    2\n",
    "    Output:\n",
    "    1. Print Hello\n",
    "    2. Exit\n",
    "    Choice: 1\n",
    "    Hello\n",
    "    1. Print Hello\n",
    "    2. Exit\n",
    "    Choice: 2\n",
    "    Goodbye!"
   ]
  },
  {
   "cell_type": "code",
   "execution_count": 77,
   "id": "add2d189-7ee2-4efe-9549-ec9dfef6a40e",
   "metadata": {},
   "outputs": [
    {
     "name": "stdout",
     "output_type": "stream",
     "text": [
      "1. Print Hello\n",
      "2. Exit\n"
     ]
    },
    {
     "name": "stdin",
     "output_type": "stream",
     "text": [
      "Enter your choice: 1\n"
     ]
    },
    {
     "name": "stdout",
     "output_type": "stream",
     "text": [
      "Print Hello\n",
      "1. Print Hello\n",
      "2. Exit\n"
     ]
    },
    {
     "name": "stdin",
     "output_type": "stream",
     "text": [
      "Enter your choice: 2\n"
     ]
    },
    {
     "name": "stdout",
     "output_type": "stream",
     "text": [
      "Goodbye!\n"
     ]
    }
   ],
   "source": [
    "choice = 1\n",
    "while choice <= 2:\n",
    "    print(\"1. Print Hello\")\n",
    "    print(\"2. Exit\")\n",
    "    \n",
    "    choice=int(input(\"Enter your choice:\"))\n",
    "    if choice==1:\n",
    "        print(\"Print Hello\")\n",
    "    elif choice==2:\n",
    "        print(\"Goodbye!\")\n",
    "        break\n",
    "    else:\n",
    "        print(\"invalid\")"
   ]
  },
  {
   "cell_type": "code",
   "execution_count": 180,
   "id": "67974c67-9476-4fce-83eb-aa37457ca697",
   "metadata": {},
   "outputs": [
    {
     "name": "stdout",
     "output_type": "stream",
     "text": [
      "1. Print Hello\n",
      "2. Exit\n"
     ]
    },
    {
     "name": "stdin",
     "output_type": "stream",
     "text": [
      "Enter your choice: 1\n"
     ]
    },
    {
     "name": "stdout",
     "output_type": "stream",
     "text": [
      "Print Hello\n",
      "1. Print Hello\n",
      "2. Exit\n"
     ]
    },
    {
     "name": "stdin",
     "output_type": "stream",
     "text": [
      "Enter your choice: 3\n"
     ]
    },
    {
     "name": "stdout",
     "output_type": "stream",
     "text": [
      "invalid\n",
      "1. Print Hello\n",
      "2. Exit\n"
     ]
    },
    {
     "name": "stdin",
     "output_type": "stream",
     "text": [
      "Enter your choice: 2\n"
     ]
    },
    {
     "name": "stdout",
     "output_type": "stream",
     "text": [
      "Goodbye!\n"
     ]
    }
   ],
   "source": [
    "while True:\n",
    "    print(\"1. Print Hello\")\n",
    "    print(\"2. Exit\")\n",
    "    \n",
    "    choice=int(input(\"Enter your choice:\"))\n",
    "    if choice == 1:\n",
    "        print(\"Print Hello\")\n",
    "    elif choice == 2:\n",
    "        print(\"Goodbye!\")\n",
    "        break\n",
    "    else:\n",
    "        print(\"invalid\")"
   ]
  },
  {
   "cell_type": "markdown",
   "id": "77dc39e1-1fc3-4f51-ba7f-6120281ffbfb",
   "metadata": {},
   "source": [
    "## 12. Print only odd numbers from 1 to 15 using a while loop and continue.\n",
    "    Output:\n",
    "    1 3 5 7 9 11 13 15"
   ]
  },
  {
   "cell_type": "code",
   "execution_count": 155,
   "id": "256726fa-c810-46ae-9bb8-977dcf6b8135",
   "metadata": {},
   "outputs": [
    {
     "name": "stdout",
     "output_type": "stream",
     "text": [
      "1\n",
      "3\n",
      "5\n",
      "7\n",
      "9\n",
      "11\n",
      "13\n",
      "15\n"
     ]
    }
   ],
   "source": [
    "i=0\n",
    "while i<=15:\n",
    "    if i%2==0:\n",
    "        i+=1\n",
    "        continue\n",
    "    print(i)\n",
    "    i+=1"
   ]
  },
  {
   "cell_type": "markdown",
   "id": "064302b1-f24e-4433-8d3a-2c53d41ceb10",
   "metadata": {},
   "source": [
    "## 13. Ask for names, and if name contains digits, reject and continue.\n",
    "    Sample Input:\n",
    "    John\n",
    "    An4a\n",
    "    Sam\n",
    "    Output:\n",
    "    Valid name: John\n",
    "    Invalid name. Skipped.\n",
    "    Valid name: Sam"
   ]
  },
  {
   "cell_type": "code",
   "execution_count": 81,
   "id": "0f8f942e-fd20-4fd1-b580-e3bd73f49645",
   "metadata": {},
   "outputs": [
    {
     "name": "stdin",
     "output_type": "stream",
     "text": [
      "Enter name: john\n"
     ]
    },
    {
     "name": "stdout",
     "output_type": "stream",
     "text": [
      "valid name: john\n"
     ]
    },
    {
     "name": "stdin",
     "output_type": "stream",
     "text": [
      "Enter name: al45\n"
     ]
    },
    {
     "name": "stdout",
     "output_type": "stream",
     "text": [
      "Invalid name. Skipped..\n"
     ]
    },
    {
     "name": "stdin",
     "output_type": "stream",
     "text": [
      "Enter name: vfs\n"
     ]
    },
    {
     "name": "stdout",
     "output_type": "stream",
     "text": [
      "valid name: vfs\n"
     ]
    }
   ],
   "source": [
    "i=0\n",
    "while i<3:\n",
    "    name=input(\"Enter name:\")\n",
    "    if name.isalpha():\n",
    "        print(f\"valid name: {name}\")\n",
    "    else:\n",
    "        print(\"Invalid name. Skipped..\")\n",
    "    i+=1        "
   ]
  },
  {
   "cell_type": "markdown",
   "id": "42f4eba5-fe92-445c-802e-e89c0e842a33",
   "metadata": {},
   "source": [
    "## 14. Ask the user to guess a number (secret is 7). Keep looping until correct.\n",
    "    Sample Input:\n",
    "    3\n",
    "    6\n",
    "    7\n",
    "    Output:\n",
    "    Wrong guess. Try again.\n",
    "    Wrong guess. Try again.\n",
    "    Correct!"
   ]
  },
  {
   "cell_type": "code",
   "execution_count": 83,
   "id": "d4a55bff-c9d4-4c45-892c-bbc940f8fc25",
   "metadata": {},
   "outputs": [
    {
     "name": "stdin",
     "output_type": "stream",
     "text": [
      "Enter number: 5\n"
     ]
    },
    {
     "name": "stdout",
     "output_type": "stream",
     "text": [
      "Worng Guess. Try again..\n"
     ]
    },
    {
     "name": "stdin",
     "output_type": "stream",
     "text": [
      "Enter number: 9\n"
     ]
    },
    {
     "name": "stdout",
     "output_type": "stream",
     "text": [
      "Worng Guess. Try again..\n"
     ]
    },
    {
     "name": "stdin",
     "output_type": "stream",
     "text": [
      "Enter number: 87\n"
     ]
    },
    {
     "name": "stdout",
     "output_type": "stream",
     "text": [
      "Worng Guess. Try again..\n"
     ]
    },
    {
     "name": "stdin",
     "output_type": "stream",
     "text": [
      "Enter number: 5\n"
     ]
    },
    {
     "name": "stdout",
     "output_type": "stream",
     "text": [
      "Worng Guess. Try again..\n"
     ]
    },
    {
     "name": "stdin",
     "output_type": "stream",
     "text": [
      "Enter number: 7\n"
     ]
    },
    {
     "name": "stdout",
     "output_type": "stream",
     "text": [
      "Correct!\n"
     ]
    }
   ],
   "source": [
    "secret=7\n",
    "while True:\n",
    "    number=int(input(\"Enter number:\"))\n",
    "    if 7==number:\n",
    "        print(\"Correct!\")\n",
    "        break\n",
    "    else:\n",
    "        print(\"Worng Guess. Try again..\")"
   ]
  },
  {
   "cell_type": "markdown",
   "id": "2adba512-3df4-4e04-94bb-a435ccd707cd",
   "metadata": {},
   "source": [
    "## 15. Use a while loop to print a pattern of stars (*) up to 5 lines.\n",
    "    Output:\n",
    "    *\n",
    "    *\n",
    "    *\n",
    "    *\n",
    "    *"
   ]
  },
  {
   "cell_type": "code",
   "execution_count": 178,
   "id": "d4c3cdde-7d50-4c3e-ae84-4ac96fe6f3fb",
   "metadata": {},
   "outputs": [
    {
     "name": "stdout",
     "output_type": "stream",
     "text": [
      "*\n",
      "*\n",
      "*\n",
      "*\n",
      "*\n"
     ]
    }
   ],
   "source": [
    "i=1\n",
    "while i<=5:\n",
    "    print(\"*\")\n",
    "    i+=1"
   ]
  },
  {
   "cell_type": "code",
   "execution_count": null,
   "id": "075d054a-8bf1-4ccc-b901-715171b77df8",
   "metadata": {},
   "outputs": [],
   "source": []
  }
 ],
 "metadata": {
  "kernelspec": {
   "display_name": "Python [conda env:base] *",
   "language": "python",
   "name": "conda-base-py"
  },
  "language_info": {
   "codemirror_mode": {
    "name": "ipython",
    "version": 3
   },
   "file_extension": ".py",
   "mimetype": "text/x-python",
   "name": "python",
   "nbconvert_exporter": "python",
   "pygments_lexer": "ipython3",
   "version": "3.12.7"
  }
 },
 "nbformat": 4,
 "nbformat_minor": 5
}
